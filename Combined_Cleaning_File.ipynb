{
 "cells": [
  {
   "cell_type": "code",
   "execution_count": 1,
   "id": "d9e2028e-7837-4e88-ba43-1ec500c04380",
   "metadata": {},
   "outputs": [],
   "source": [
    "import os\n",
    "import pandas as pd\n",
    "import matplotlib.pyplot as plt\n",
    "from pathlib import Path\n",
    "import plotly.express as px\n",
    "import plotly.graph_objects as go"
   ]
  },
  {
   "cell_type": "markdown",
   "id": "b1d6036b-7a3f-41c9-bb8e-01b1253a4f15",
   "metadata": {},
   "source": [
    "# Creating the combined data file\n",
    "---"
   ]
  },
  {
   "cell_type": "code",
   "execution_count": 2,
   "id": "97f9477f-59b4-4eb9-be91-afc5f519dc66",
   "metadata": {},
   "outputs": [],
   "source": [
    "netflix = Path(\"Resources/netflix_data.csv\")\n",
    "hulu = Path(\"Resources/hulu_data.csv\")\n",
    "amazon = Path(\"Resources/amazon_data.csv\")\n",
    "disney=Path(\"Resources/disney_data.csv\")\n",
    "\n",
    "netflix_df =pd.read_csv(netflix)\n",
    "hulu_df =pd.read_csv(hulu)\n",
    "amazon_df =pd.read_csv(amazon)\n",
    "disney_df =pd.read_csv(disney)"
   ]
  },
  {
   "cell_type": "code",
   "execution_count": 3,
   "id": "7d0d9a2e-0840-473a-83f6-91e65a08754b",
   "metadata": {},
   "outputs": [],
   "source": [
    "netflix_df['streaming_service'] = 'Netflix'\n",
    "hulu_df['streaming_service'] = 'Hulu'\n",
    "amazon_df['streaming_service'] = 'Amazon'\n",
    "disney_df['streaming_service'] = 'Disney'"
   ]
  },
  {
   "cell_type": "code",
   "execution_count": 4,
   "id": "a0d33cf6-ae97-436b-b5d2-1628c7f71888",
   "metadata": {},
   "outputs": [],
   "source": [
    "combined_df = pd.concat([netflix_df, hulu_df, amazon_df, disney_df], axis=0)"
   ]
  },
  {
   "cell_type": "code",
   "execution_count": 5,
   "id": "1d93b48f-fe4e-4d31-b205-eca3b8b70707",
   "metadata": {},
   "outputs": [],
   "source": [
    "new_combined =combined_df.drop(['director','cast','description'], axis=1)"
   ]
  },
  {
   "cell_type": "code",
   "execution_count": 6,
   "id": "ffa40842-47d5-4f6f-9378-02b066c1cf0e",
   "metadata": {},
   "outputs": [],
   "source": [
    "new_combined.to_csv('resources/combined_cleaned_data.csv', index=False)"
   ]
  },
  {
   "cell_type": "code",
   "execution_count": 7,
   "id": "703e7637-feb0-4dac-b17b-79ee9959b211",
   "metadata": {},
   "outputs": [],
   "source": [
    "combined_df.to_csv('resources/combined_streaming_data.csv', index=False)"
   ]
  },
  {
   "cell_type": "code",
   "execution_count": 8,
   "id": "68ece395-8d40-46b3-8466-fd9f51386317",
   "metadata": {},
   "outputs": [
    {
     "data": {
      "text/plain": [
       "rating\n",
       "TV-MA       3207\n",
       "TV-14       2160\n",
       "TV-PG        863\n",
       "R            799\n",
       "PG-13        490\n",
       "TV-Y7        334\n",
       "TV-Y         307\n",
       "PG           287\n",
       "TV-G         220\n",
       "NR            80\n",
       "G             41\n",
       "TV-Y7-FV       6\n",
       "NC-17          3\n",
       "UR             3\n",
       "74 min         1\n",
       "84 min         1\n",
       "66 min         1\n",
       "Name: count, dtype: int64"
      ]
     },
     "execution_count": 8,
     "metadata": {},
     "output_type": "execute_result"
    }
   ],
   "source": [
    "Netflix_all_df = new_combined[(new_combined[\"streaming_service\"] == \"Netflix\")]\n",
    "Netflix_all_rating = Netflix_all_df[\"rating\"].value_counts()\n",
    "Netflix_all_rating"
   ]
  },
  {
   "cell_type": "code",
   "execution_count": 9,
   "id": "90cc3580-5e88-4dbd-aba7-2074d79f13d1",
   "metadata": {},
   "outputs": [
    {
     "data": {
      "text/plain": [
       "rating\n",
       "TV-14     691\n",
       "TV-MA     391\n",
       "R         345\n",
       "TV-PG     321\n",
       "PG-13     163\n",
       "         ... \n",
       "34 min      1\n",
       "47 min      1\n",
       "65 min      1\n",
       "37 min      1\n",
       "71 min      1\n",
       "Name: count, Length: 88, dtype: int64"
      ]
     },
     "execution_count": 9,
     "metadata": {},
     "output_type": "execute_result"
    }
   ],
   "source": [
    "Hulu_all_df = new_combined[(new_combined[\"streaming_service\"] == \"Hulu\")]\n",
    "Hulu_all_rating = Hulu_all_df[\"rating\"].value_counts()\n",
    "Hulu_all_rating"
   ]
  },
  {
   "cell_type": "code",
   "execution_count": 10,
   "id": "fce0ce4d-9fbd-4fe1-9ffe-f39a11e0f7f0",
   "metadata": {},
   "outputs": [
    {
     "data": {
      "text/plain": [
       "rating\n",
       "TV-G        318\n",
       "TV-PG       301\n",
       "G           253\n",
       "PG          236\n",
       "TV-Y7       131\n",
       "TV-14        79\n",
       "PG-13        66\n",
       "TV-Y         50\n",
       "TV-Y7-FV     13\n",
       "Name: count, dtype: int64"
      ]
     },
     "execution_count": 10,
     "metadata": {},
     "output_type": "execute_result"
    }
   ],
   "source": [
    "Disney_all_df = new_combined[(new_combined[\"streaming_service\"] == \"Disney\")]\n",
    "Disney_all_rating = Disney_all_df[\"rating\"].value_counts()\n",
    "Disney_all_rating"
   ]
  },
  {
   "cell_type": "code",
   "execution_count": 11,
   "id": "809bd55b-93c6-4e54-8879-d84a6dbdd1a5",
   "metadata": {},
   "outputs": [
    {
     "data": {
      "text/plain": [
       "rating\n",
       "13+         2117\n",
       "16+         1547\n",
       "ALL         1268\n",
       "18+         1243\n",
       "R           1010\n",
       "PG-13        393\n",
       "7+           385\n",
       "PG           253\n",
       "NR           223\n",
       "TV-14        208\n",
       "TV-PG        169\n",
       "TV-NR        105\n",
       "G             93\n",
       "TV-G          81\n",
       "TV-MA         77\n",
       "TV-Y          74\n",
       "TV-Y7         39\n",
       "UNRATED       33\n",
       "NC-17          3\n",
       "AGES_18_       3\n",
       "NOT_RATE       3\n",
       "AGES_16_       2\n",
       "16             1\n",
       "ALL_AGES       1\n",
       "Name: count, dtype: int64"
      ]
     },
     "execution_count": 11,
     "metadata": {},
     "output_type": "execute_result"
    }
   ],
   "source": [
    "Amazon_all_df = new_combined[(new_combined[\"streaming_service\"] == \"Amazon\")]\n",
    "Amazon_all_rating = Amazon_all_df[\"rating\"].value_counts()\n",
    "Amazon_all_rating"
   ]
  },
  {
   "cell_type": "code",
   "execution_count": 12,
   "id": "cc18dda5-3c56-455e-8320-cd5e5e532b65",
   "metadata": {},
   "outputs": [
    {
     "data": {
      "text/html": [
       "<div>\n",
       "<style scoped>\n",
       "    .dataframe tbody tr th:only-of-type {\n",
       "        vertical-align: middle;\n",
       "    }\n",
       "\n",
       "    .dataframe tbody tr th {\n",
       "        vertical-align: top;\n",
       "    }\n",
       "\n",
       "    .dataframe thead th {\n",
       "        text-align: right;\n",
       "    }\n",
       "</style>\n",
       "<table border=\"1\" class=\"dataframe\">\n",
       "  <thead>\n",
       "    <tr style=\"text-align: right;\">\n",
       "      <th></th>\n",
       "      <th>Netflix Ratings</th>\n",
       "      <th>Hulu Ratings</th>\n",
       "      <th>Amazon Ratings</th>\n",
       "      <th>Disney Ratings</th>\n",
       "    </tr>\n",
       "    <tr>\n",
       "      <th>rating</th>\n",
       "      <th></th>\n",
       "      <th></th>\n",
       "      <th></th>\n",
       "      <th></th>\n",
       "    </tr>\n",
       "  </thead>\n",
       "  <tbody>\n",
       "    <tr>\n",
       "      <th>1 Season</th>\n",
       "      <td>NaN</td>\n",
       "      <td>42.0</td>\n",
       "      <td>NaN</td>\n",
       "      <td>NaN</td>\n",
       "    </tr>\n",
       "    <tr>\n",
       "      <th>100 min</th>\n",
       "      <td>NaN</td>\n",
       "      <td>3.0</td>\n",
       "      <td>NaN</td>\n",
       "      <td>NaN</td>\n",
       "    </tr>\n",
       "    <tr>\n",
       "      <th>101 min</th>\n",
       "      <td>NaN</td>\n",
       "      <td>7.0</td>\n",
       "      <td>NaN</td>\n",
       "      <td>NaN</td>\n",
       "    </tr>\n",
       "    <tr>\n",
       "      <th>102 min</th>\n",
       "      <td>NaN</td>\n",
       "      <td>3.0</td>\n",
       "      <td>NaN</td>\n",
       "      <td>NaN</td>\n",
       "    </tr>\n",
       "    <tr>\n",
       "      <th>103 min</th>\n",
       "      <td>NaN</td>\n",
       "      <td>3.0</td>\n",
       "      <td>NaN</td>\n",
       "      <td>NaN</td>\n",
       "    </tr>\n",
       "    <tr>\n",
       "      <th>...</th>\n",
       "      <td>...</td>\n",
       "      <td>...</td>\n",
       "      <td>...</td>\n",
       "      <td>...</td>\n",
       "    </tr>\n",
       "    <tr>\n",
       "      <th>TV-Y</th>\n",
       "      <td>307.0</td>\n",
       "      <td>31.0</td>\n",
       "      <td>74.0</td>\n",
       "      <td>50.0</td>\n",
       "    </tr>\n",
       "    <tr>\n",
       "      <th>TV-Y7</th>\n",
       "      <td>334.0</td>\n",
       "      <td>46.0</td>\n",
       "      <td>39.0</td>\n",
       "      <td>131.0</td>\n",
       "    </tr>\n",
       "    <tr>\n",
       "      <th>TV-Y7-FV</th>\n",
       "      <td>6.0</td>\n",
       "      <td>NaN</td>\n",
       "      <td>NaN</td>\n",
       "      <td>13.0</td>\n",
       "    </tr>\n",
       "    <tr>\n",
       "      <th>UNRATED</th>\n",
       "      <td>NaN</td>\n",
       "      <td>NaN</td>\n",
       "      <td>33.0</td>\n",
       "      <td>NaN</td>\n",
       "    </tr>\n",
       "    <tr>\n",
       "      <th>UR</th>\n",
       "      <td>3.0</td>\n",
       "      <td>NaN</td>\n",
       "      <td>NaN</td>\n",
       "      <td>NaN</td>\n",
       "    </tr>\n",
       "  </tbody>\n",
       "</table>\n",
       "<p>105 rows × 4 columns</p>\n",
       "</div>"
      ],
      "text/plain": [
       "          Netflix Ratings  Hulu Ratings  Amazon Ratings  Disney Ratings\n",
       "rating                                                                 \n",
       "1 Season              NaN          42.0             NaN             NaN\n",
       "100 min               NaN           3.0             NaN             NaN\n",
       "101 min               NaN           7.0             NaN             NaN\n",
       "102 min               NaN           3.0             NaN             NaN\n",
       "103 min               NaN           3.0             NaN             NaN\n",
       "...                   ...           ...             ...             ...\n",
       "TV-Y                307.0          31.0            74.0            50.0\n",
       "TV-Y7               334.0          46.0            39.0           131.0\n",
       "TV-Y7-FV              6.0           NaN             NaN            13.0\n",
       "UNRATED               NaN           NaN            33.0             NaN\n",
       "UR                    3.0           NaN             NaN             NaN\n",
       "\n",
       "[105 rows x 4 columns]"
      ]
     },
     "execution_count": 12,
     "metadata": {},
     "output_type": "execute_result"
    }
   ],
   "source": [
    "All_rating_df = pd.DataFrame({\n",
    "    \"Netflix Ratings\": Netflix_all_rating,\n",
    "    \"Hulu Ratings\": Hulu_all_rating,\n",
    "    \"Amazon Ratings\": Amazon_all_rating,\n",
    "    \"Disney Ratings\": Disney_all_rating\n",
    "})\n",
    "\n",
    "All_rating_df"
   ]
  },
  {
   "cell_type": "code",
   "execution_count": 13,
   "id": "428f52e2-d5b0-46f2-b238-ec81d49570aa",
   "metadata": {},
   "outputs": [
    {
     "data": {
      "text/html": [
       "<div>\n",
       "<style scoped>\n",
       "    .dataframe tbody tr th:only-of-type {\n",
       "        vertical-align: middle;\n",
       "    }\n",
       "\n",
       "    .dataframe tbody tr th {\n",
       "        vertical-align: top;\n",
       "    }\n",
       "\n",
       "    .dataframe thead th {\n",
       "        text-align: right;\n",
       "    }\n",
       "</style>\n",
       "<table border=\"1\" class=\"dataframe\">\n",
       "  <thead>\n",
       "    <tr style=\"text-align: right;\">\n",
       "      <th></th>\n",
       "      <th>Netflix Ratings</th>\n",
       "      <th>Hulu Ratings</th>\n",
       "      <th>Amazon Ratings</th>\n",
       "      <th>Disney Ratings</th>\n",
       "      <th>Rating Category</th>\n",
       "    </tr>\n",
       "    <tr>\n",
       "      <th>rating</th>\n",
       "      <th></th>\n",
       "      <th></th>\n",
       "      <th></th>\n",
       "      <th></th>\n",
       "      <th></th>\n",
       "    </tr>\n",
       "  </thead>\n",
       "  <tbody>\n",
       "    <tr>\n",
       "      <th>13+</th>\n",
       "      <td>NaN</td>\n",
       "      <td>NaN</td>\n",
       "      <td>2117.0</td>\n",
       "      <td>NaN</td>\n",
       "      <td>Teens</td>\n",
       "    </tr>\n",
       "    <tr>\n",
       "      <th>16+</th>\n",
       "      <td>NaN</td>\n",
       "      <td>NaN</td>\n",
       "      <td>1547.0</td>\n",
       "      <td>NaN</td>\n",
       "      <td>Teens</td>\n",
       "    </tr>\n",
       "    <tr>\n",
       "      <th>18+</th>\n",
       "      <td>NaN</td>\n",
       "      <td>NaN</td>\n",
       "      <td>1243.0</td>\n",
       "      <td>NaN</td>\n",
       "      <td>Adults</td>\n",
       "    </tr>\n",
       "    <tr>\n",
       "      <th>7+</th>\n",
       "      <td>NaN</td>\n",
       "      <td>NaN</td>\n",
       "      <td>385.0</td>\n",
       "      <td>NaN</td>\n",
       "      <td>Kids</td>\n",
       "    </tr>\n",
       "    <tr>\n",
       "      <th>ALL</th>\n",
       "      <td>NaN</td>\n",
       "      <td>NaN</td>\n",
       "      <td>1268.0</td>\n",
       "      <td>NaN</td>\n",
       "      <td>All Ages</td>\n",
       "    </tr>\n",
       "    <tr>\n",
       "      <th>G</th>\n",
       "      <td>41.0</td>\n",
       "      <td>18.0</td>\n",
       "      <td>93.0</td>\n",
       "      <td>253.0</td>\n",
       "      <td>All Ages</td>\n",
       "    </tr>\n",
       "    <tr>\n",
       "      <th>NC-17</th>\n",
       "      <td>3.0</td>\n",
       "      <td>NaN</td>\n",
       "      <td>3.0</td>\n",
       "      <td>NaN</td>\n",
       "      <td>Adults</td>\n",
       "    </tr>\n",
       "    <tr>\n",
       "      <th>PG</th>\n",
       "      <td>287.0</td>\n",
       "      <td>105.0</td>\n",
       "      <td>253.0</td>\n",
       "      <td>236.0</td>\n",
       "      <td>Kids</td>\n",
       "    </tr>\n",
       "    <tr>\n",
       "      <th>PG-13</th>\n",
       "      <td>490.0</td>\n",
       "      <td>163.0</td>\n",
       "      <td>393.0</td>\n",
       "      <td>66.0</td>\n",
       "      <td>Teens</td>\n",
       "    </tr>\n",
       "    <tr>\n",
       "      <th>R</th>\n",
       "      <td>799.0</td>\n",
       "      <td>345.0</td>\n",
       "      <td>1010.0</td>\n",
       "      <td>NaN</td>\n",
       "      <td>Adults</td>\n",
       "    </tr>\n",
       "    <tr>\n",
       "      <th>TV-14</th>\n",
       "      <td>2160.0</td>\n",
       "      <td>691.0</td>\n",
       "      <td>208.0</td>\n",
       "      <td>79.0</td>\n",
       "      <td>Teens</td>\n",
       "    </tr>\n",
       "    <tr>\n",
       "      <th>TV-G</th>\n",
       "      <td>220.0</td>\n",
       "      <td>148.0</td>\n",
       "      <td>81.0</td>\n",
       "      <td>318.0</td>\n",
       "      <td>All Ages</td>\n",
       "    </tr>\n",
       "    <tr>\n",
       "      <th>TV-MA</th>\n",
       "      <td>3207.0</td>\n",
       "      <td>391.0</td>\n",
       "      <td>77.0</td>\n",
       "      <td>NaN</td>\n",
       "      <td>Adults</td>\n",
       "    </tr>\n",
       "    <tr>\n",
       "      <th>TV-PG</th>\n",
       "      <td>863.0</td>\n",
       "      <td>321.0</td>\n",
       "      <td>169.0</td>\n",
       "      <td>301.0</td>\n",
       "      <td>Kids</td>\n",
       "    </tr>\n",
       "    <tr>\n",
       "      <th>TV-Y</th>\n",
       "      <td>307.0</td>\n",
       "      <td>31.0</td>\n",
       "      <td>74.0</td>\n",
       "      <td>50.0</td>\n",
       "      <td>All Ages</td>\n",
       "    </tr>\n",
       "    <tr>\n",
       "      <th>TV-Y7</th>\n",
       "      <td>334.0</td>\n",
       "      <td>46.0</td>\n",
       "      <td>39.0</td>\n",
       "      <td>131.0</td>\n",
       "      <td>Kids</td>\n",
       "    </tr>\n",
       "    <tr>\n",
       "      <th>TV-Y7-FV</th>\n",
       "      <td>6.0</td>\n",
       "      <td>NaN</td>\n",
       "      <td>NaN</td>\n",
       "      <td>13.0</td>\n",
       "      <td>Kids</td>\n",
       "    </tr>\n",
       "    <tr>\n",
       "      <th>UNRATED</th>\n",
       "      <td>NaN</td>\n",
       "      <td>NaN</td>\n",
       "      <td>33.0</td>\n",
       "      <td>NaN</td>\n",
       "      <td>Adults</td>\n",
       "    </tr>\n",
       "    <tr>\n",
       "      <th>UR</th>\n",
       "      <td>3.0</td>\n",
       "      <td>NaN</td>\n",
       "      <td>NaN</td>\n",
       "      <td>NaN</td>\n",
       "      <td>Adults</td>\n",
       "    </tr>\n",
       "  </tbody>\n",
       "</table>\n",
       "</div>"
      ],
      "text/plain": [
       "          Netflix Ratings  Hulu Ratings  Amazon Ratings  Disney Ratings  \\\n",
       "rating                                                                    \n",
       "13+                   NaN           NaN          2117.0             NaN   \n",
       "16+                   NaN           NaN          1547.0             NaN   \n",
       "18+                   NaN           NaN          1243.0             NaN   \n",
       "7+                    NaN           NaN           385.0             NaN   \n",
       "ALL                   NaN           NaN          1268.0             NaN   \n",
       "G                    41.0          18.0            93.0           253.0   \n",
       "NC-17                 3.0           NaN             3.0             NaN   \n",
       "PG                  287.0         105.0           253.0           236.0   \n",
       "PG-13               490.0         163.0           393.0            66.0   \n",
       "R                   799.0         345.0          1010.0             NaN   \n",
       "TV-14              2160.0         691.0           208.0            79.0   \n",
       "TV-G                220.0         148.0            81.0           318.0   \n",
       "TV-MA              3207.0         391.0            77.0             NaN   \n",
       "TV-PG               863.0         321.0           169.0           301.0   \n",
       "TV-Y                307.0          31.0            74.0            50.0   \n",
       "TV-Y7               334.0          46.0            39.0           131.0   \n",
       "TV-Y7-FV              6.0           NaN             NaN            13.0   \n",
       "UNRATED               NaN           NaN            33.0             NaN   \n",
       "UR                    3.0           NaN             NaN             NaN   \n",
       "\n",
       "         Rating Category  \n",
       "rating                    \n",
       "13+                Teens  \n",
       "16+                Teens  \n",
       "18+               Adults  \n",
       "7+                  Kids  \n",
       "ALL             All Ages  \n",
       "G               All Ages  \n",
       "NC-17             Adults  \n",
       "PG                  Kids  \n",
       "PG-13              Teens  \n",
       "R                 Adults  \n",
       "TV-14              Teens  \n",
       "TV-G            All Ages  \n",
       "TV-MA             Adults  \n",
       "TV-PG               Kids  \n",
       "TV-Y            All Ages  \n",
       "TV-Y7               Kids  \n",
       "TV-Y7-FV            Kids  \n",
       "UNRATED           Adults  \n",
       "UR                Adults  "
      ]
     },
     "execution_count": 13,
     "metadata": {},
     "output_type": "execute_result"
    }
   ],
   "source": [
    "All_rating_df['Rating Category'] = All_rating_df.index.to_series().apply( lambda x: 'Teens' if x in ['13+', 'PG-13', 'TV-14', '16+'] \n",
    "                                                                       else ('Kids' if x in ['PG', 'TV-PG', '7+', 'TV-Y7', 'TV-Y7-FV'] \n",
    "                                                                             else ('Adults' if x in ['R', 'NC-17', '18+', 'TV-MA', 'UR', 'UNRATED']\n",
    "                                                                                    else ('All Ages' if x in ['G', 'TV-G', 'TV-Y', 'ALL', 'ALL AGES']\n",
    "                                                                             else 'X') )))\n",
    "\n",
    "substring = 'X'\n",
    "filter = All_rating_df['Rating Category'].str.contains(substring)\n",
    "All_rating_filtered_df = All_rating_df[~filter]\n",
    "\n",
    "All_rating_filtered_df"
   ]
  },
  {
   "cell_type": "code",
   "execution_count": 14,
   "id": "b9abfd75-a3a5-4d10-a0dc-538517b5eef6",
   "metadata": {},
   "outputs": [
    {
     "data": {
      "text/html": [
       "<div>\n",
       "<style scoped>\n",
       "    .dataframe tbody tr th:only-of-type {\n",
       "        vertical-align: middle;\n",
       "    }\n",
       "\n",
       "    .dataframe tbody tr th {\n",
       "        vertical-align: top;\n",
       "    }\n",
       "\n",
       "    .dataframe thead th {\n",
       "        text-align: right;\n",
       "    }\n",
       "</style>\n",
       "<table border=\"1\" class=\"dataframe\">\n",
       "  <thead>\n",
       "    <tr style=\"text-align: right;\">\n",
       "      <th></th>\n",
       "      <th>Netflix Ratings</th>\n",
       "      <th>Hulu Ratings</th>\n",
       "      <th>Amazon Ratings</th>\n",
       "      <th>Disney Ratings</th>\n",
       "      <th>Rating Category</th>\n",
       "    </tr>\n",
       "    <tr>\n",
       "      <th>rating</th>\n",
       "      <th></th>\n",
       "      <th></th>\n",
       "      <th></th>\n",
       "      <th></th>\n",
       "      <th></th>\n",
       "    </tr>\n",
       "  </thead>\n",
       "  <tbody>\n",
       "    <tr>\n",
       "      <th>18+</th>\n",
       "      <td>NaN</td>\n",
       "      <td>NaN</td>\n",
       "      <td>1243.0</td>\n",
       "      <td>NaN</td>\n",
       "      <td>Adults</td>\n",
       "    </tr>\n",
       "    <tr>\n",
       "      <th>NC-17</th>\n",
       "      <td>3.0</td>\n",
       "      <td>NaN</td>\n",
       "      <td>3.0</td>\n",
       "      <td>NaN</td>\n",
       "      <td>Adults</td>\n",
       "    </tr>\n",
       "    <tr>\n",
       "      <th>R</th>\n",
       "      <td>799.0</td>\n",
       "      <td>345.0</td>\n",
       "      <td>1010.0</td>\n",
       "      <td>NaN</td>\n",
       "      <td>Adults</td>\n",
       "    </tr>\n",
       "    <tr>\n",
       "      <th>TV-MA</th>\n",
       "      <td>3207.0</td>\n",
       "      <td>391.0</td>\n",
       "      <td>77.0</td>\n",
       "      <td>NaN</td>\n",
       "      <td>Adults</td>\n",
       "    </tr>\n",
       "    <tr>\n",
       "      <th>UNRATED</th>\n",
       "      <td>NaN</td>\n",
       "      <td>NaN</td>\n",
       "      <td>33.0</td>\n",
       "      <td>NaN</td>\n",
       "      <td>Adults</td>\n",
       "    </tr>\n",
       "    <tr>\n",
       "      <th>UR</th>\n",
       "      <td>3.0</td>\n",
       "      <td>NaN</td>\n",
       "      <td>NaN</td>\n",
       "      <td>NaN</td>\n",
       "      <td>Adults</td>\n",
       "    </tr>\n",
       "  </tbody>\n",
       "</table>\n",
       "</div>"
      ],
      "text/plain": [
       "         Netflix Ratings  Hulu Ratings  Amazon Ratings  Disney Ratings  \\\n",
       "rating                                                                   \n",
       "18+                  NaN           NaN          1243.0             NaN   \n",
       "NC-17                3.0           NaN             3.0             NaN   \n",
       "R                  799.0         345.0          1010.0             NaN   \n",
       "TV-MA             3207.0         391.0            77.0             NaN   \n",
       "UNRATED              NaN           NaN            33.0             NaN   \n",
       "UR                   3.0           NaN             NaN             NaN   \n",
       "\n",
       "        Rating Category  \n",
       "rating                   \n",
       "18+              Adults  \n",
       "NC-17            Adults  \n",
       "R                Adults  \n",
       "TV-MA            Adults  \n",
       "UNRATED          Adults  \n",
       "UR               Adults  "
      ]
     },
     "execution_count": 14,
     "metadata": {},
     "output_type": "execute_result"
    }
   ],
   "source": [
    "Adults_Rating_All = All_rating_filtered_df[(All_rating_filtered_df[\"Rating Category\"] == \"Adults\")]\n",
    "Adults_Rating_All"
   ]
  },
  {
   "cell_type": "code",
   "execution_count": 15,
   "id": "b21dd114-10a8-44e2-9549-fde88009690f",
   "metadata": {},
   "outputs": [
    {
     "data": {
      "text/plain": [
       "4012.0"
      ]
     },
     "execution_count": 15,
     "metadata": {},
     "output_type": "execute_result"
    }
   ],
   "source": [
    "Adults_Rating_Netflix = Adults_Rating_All[\"Netflix Ratings\"].sum()\n",
    "Adults_Rating_Netflix"
   ]
  },
  {
   "cell_type": "code",
   "execution_count": 16,
   "id": "d8a03ca0-1c70-4585-a201-fe1b81b7b213",
   "metadata": {},
   "outputs": [
    {
     "data": {
      "text/plain": [
       "736.0"
      ]
     },
     "execution_count": 16,
     "metadata": {},
     "output_type": "execute_result"
    }
   ],
   "source": [
    "Adults_Rating_Hulu = Adults_Rating_All[\"Hulu Ratings\"].sum()\n",
    "Adults_Rating_Hulu"
   ]
  },
  {
   "cell_type": "code",
   "execution_count": 17,
   "id": "d95ffe6d-7799-4092-a897-252124837117",
   "metadata": {},
   "outputs": [
    {
     "data": {
      "text/plain": [
       "2366.0"
      ]
     },
     "execution_count": 17,
     "metadata": {},
     "output_type": "execute_result"
    }
   ],
   "source": [
    "Adults_Rating_Amazon = Adults_Rating_All[\"Amazon Ratings\"].sum()\n",
    "Adults_Rating_Amazon"
   ]
  },
  {
   "cell_type": "code",
   "execution_count": 18,
   "id": "311ee456-34e5-4a01-9ea1-43a425f84e47",
   "metadata": {},
   "outputs": [
    {
     "data": {
      "text/plain": [
       "0.0"
      ]
     },
     "execution_count": 18,
     "metadata": {},
     "output_type": "execute_result"
    }
   ],
   "source": [
    "Adults_Rating_Disney = Adults_Rating_All[\"Disney Ratings\"].sum()\n",
    "Adults_Rating_Disney"
   ]
  },
  {
   "cell_type": "code",
   "execution_count": 19,
   "id": "90aae549-2207-452c-87c5-1de4b064015e",
   "metadata": {},
   "outputs": [
    {
     "data": {
      "text/html": [
       "<div>\n",
       "<style scoped>\n",
       "    .dataframe tbody tr th:only-of-type {\n",
       "        vertical-align: middle;\n",
       "    }\n",
       "\n",
       "    .dataframe tbody tr th {\n",
       "        vertical-align: top;\n",
       "    }\n",
       "\n",
       "    .dataframe thead th {\n",
       "        text-align: right;\n",
       "    }\n",
       "</style>\n",
       "<table border=\"1\" class=\"dataframe\">\n",
       "  <thead>\n",
       "    <tr style=\"text-align: right;\">\n",
       "      <th></th>\n",
       "      <th>Netflix Ratings</th>\n",
       "      <th>Hulu Ratings</th>\n",
       "      <th>Amazon Ratings</th>\n",
       "      <th>Disney Ratings</th>\n",
       "      <th>Rating Category</th>\n",
       "    </tr>\n",
       "    <tr>\n",
       "      <th>rating</th>\n",
       "      <th></th>\n",
       "      <th></th>\n",
       "      <th></th>\n",
       "      <th></th>\n",
       "      <th></th>\n",
       "    </tr>\n",
       "  </thead>\n",
       "  <tbody>\n",
       "    <tr>\n",
       "      <th>13+</th>\n",
       "      <td>NaN</td>\n",
       "      <td>NaN</td>\n",
       "      <td>2117.0</td>\n",
       "      <td>NaN</td>\n",
       "      <td>Teens</td>\n",
       "    </tr>\n",
       "    <tr>\n",
       "      <th>16+</th>\n",
       "      <td>NaN</td>\n",
       "      <td>NaN</td>\n",
       "      <td>1547.0</td>\n",
       "      <td>NaN</td>\n",
       "      <td>Teens</td>\n",
       "    </tr>\n",
       "    <tr>\n",
       "      <th>PG-13</th>\n",
       "      <td>490.0</td>\n",
       "      <td>163.0</td>\n",
       "      <td>393.0</td>\n",
       "      <td>66.0</td>\n",
       "      <td>Teens</td>\n",
       "    </tr>\n",
       "    <tr>\n",
       "      <th>TV-14</th>\n",
       "      <td>2160.0</td>\n",
       "      <td>691.0</td>\n",
       "      <td>208.0</td>\n",
       "      <td>79.0</td>\n",
       "      <td>Teens</td>\n",
       "    </tr>\n",
       "  </tbody>\n",
       "</table>\n",
       "</div>"
      ],
      "text/plain": [
       "        Netflix Ratings  Hulu Ratings  Amazon Ratings  Disney Ratings  \\\n",
       "rating                                                                  \n",
       "13+                 NaN           NaN          2117.0             NaN   \n",
       "16+                 NaN           NaN          1547.0             NaN   \n",
       "PG-13             490.0         163.0           393.0            66.0   \n",
       "TV-14            2160.0         691.0           208.0            79.0   \n",
       "\n",
       "       Rating Category  \n",
       "rating                  \n",
       "13+              Teens  \n",
       "16+              Teens  \n",
       "PG-13            Teens  \n",
       "TV-14            Teens  "
      ]
     },
     "execution_count": 19,
     "metadata": {},
     "output_type": "execute_result"
    }
   ],
   "source": [
    "Teens_Rating_All = All_rating_filtered_df[(All_rating_filtered_df[\"Rating Category\"] == \"Teens\")]\n",
    "Teens_Rating_All"
   ]
  },
  {
   "cell_type": "code",
   "execution_count": 20,
   "id": "e9be86f4-604e-4ce2-b295-d5e12ff48f3c",
   "metadata": {},
   "outputs": [
    {
     "data": {
      "text/plain": [
       "2650.0"
      ]
     },
     "execution_count": 20,
     "metadata": {},
     "output_type": "execute_result"
    }
   ],
   "source": [
    "Teens_Rating_Netflix = Teens_Rating_All[\"Netflix Ratings\"].sum()\n",
    "Teens_Rating_Netflix"
   ]
  },
  {
   "cell_type": "code",
   "execution_count": 21,
   "id": "39b4b510-884b-462a-8d5e-0fb78855efa5",
   "metadata": {},
   "outputs": [
    {
     "data": {
      "text/plain": [
       "854.0"
      ]
     },
     "execution_count": 21,
     "metadata": {},
     "output_type": "execute_result"
    }
   ],
   "source": [
    "Teens_Rating_Hulu = Teens_Rating_All[\"Hulu Ratings\"].sum()\n",
    "Teens_Rating_Hulu"
   ]
  },
  {
   "cell_type": "code",
   "execution_count": 22,
   "id": "20a51d7e-b6af-4375-b158-2b3556e641f7",
   "metadata": {},
   "outputs": [
    {
     "data": {
      "text/plain": [
       "4265.0"
      ]
     },
     "execution_count": 22,
     "metadata": {},
     "output_type": "execute_result"
    }
   ],
   "source": [
    "Teens_Rating_Amazon = Teens_Rating_All[\"Amazon Ratings\"].sum()\n",
    "Teens_Rating_Amazon"
   ]
  },
  {
   "cell_type": "code",
   "execution_count": 23,
   "id": "47dce5fa-7836-416d-a596-1ceadab48759",
   "metadata": {},
   "outputs": [
    {
     "data": {
      "text/plain": [
       "145.0"
      ]
     },
     "execution_count": 23,
     "metadata": {},
     "output_type": "execute_result"
    }
   ],
   "source": [
    "Teens_Rating_Disney = Teens_Rating_All[\"Disney Ratings\"].sum()\n",
    "Teens_Rating_Disney"
   ]
  },
  {
   "cell_type": "code",
   "execution_count": 24,
   "id": "988b86c0-4a5f-47a8-8ed4-4d5357beff39",
   "metadata": {},
   "outputs": [
    {
     "data": {
      "text/html": [
       "<div>\n",
       "<style scoped>\n",
       "    .dataframe tbody tr th:only-of-type {\n",
       "        vertical-align: middle;\n",
       "    }\n",
       "\n",
       "    .dataframe tbody tr th {\n",
       "        vertical-align: top;\n",
       "    }\n",
       "\n",
       "    .dataframe thead th {\n",
       "        text-align: right;\n",
       "    }\n",
       "</style>\n",
       "<table border=\"1\" class=\"dataframe\">\n",
       "  <thead>\n",
       "    <tr style=\"text-align: right;\">\n",
       "      <th></th>\n",
       "      <th>Netflix Ratings</th>\n",
       "      <th>Hulu Ratings</th>\n",
       "      <th>Amazon Ratings</th>\n",
       "      <th>Disney Ratings</th>\n",
       "      <th>Rating Category</th>\n",
       "    </tr>\n",
       "    <tr>\n",
       "      <th>rating</th>\n",
       "      <th></th>\n",
       "      <th></th>\n",
       "      <th></th>\n",
       "      <th></th>\n",
       "      <th></th>\n",
       "    </tr>\n",
       "  </thead>\n",
       "  <tbody>\n",
       "    <tr>\n",
       "      <th>7+</th>\n",
       "      <td>NaN</td>\n",
       "      <td>NaN</td>\n",
       "      <td>385.0</td>\n",
       "      <td>NaN</td>\n",
       "      <td>Kids</td>\n",
       "    </tr>\n",
       "    <tr>\n",
       "      <th>PG</th>\n",
       "      <td>287.0</td>\n",
       "      <td>105.0</td>\n",
       "      <td>253.0</td>\n",
       "      <td>236.0</td>\n",
       "      <td>Kids</td>\n",
       "    </tr>\n",
       "    <tr>\n",
       "      <th>TV-PG</th>\n",
       "      <td>863.0</td>\n",
       "      <td>321.0</td>\n",
       "      <td>169.0</td>\n",
       "      <td>301.0</td>\n",
       "      <td>Kids</td>\n",
       "    </tr>\n",
       "    <tr>\n",
       "      <th>TV-Y7</th>\n",
       "      <td>334.0</td>\n",
       "      <td>46.0</td>\n",
       "      <td>39.0</td>\n",
       "      <td>131.0</td>\n",
       "      <td>Kids</td>\n",
       "    </tr>\n",
       "    <tr>\n",
       "      <th>TV-Y7-FV</th>\n",
       "      <td>6.0</td>\n",
       "      <td>NaN</td>\n",
       "      <td>NaN</td>\n",
       "      <td>13.0</td>\n",
       "      <td>Kids</td>\n",
       "    </tr>\n",
       "  </tbody>\n",
       "</table>\n",
       "</div>"
      ],
      "text/plain": [
       "          Netflix Ratings  Hulu Ratings  Amazon Ratings  Disney Ratings  \\\n",
       "rating                                                                    \n",
       "7+                    NaN           NaN           385.0             NaN   \n",
       "PG                  287.0         105.0           253.0           236.0   \n",
       "TV-PG               863.0         321.0           169.0           301.0   \n",
       "TV-Y7               334.0          46.0            39.0           131.0   \n",
       "TV-Y7-FV              6.0           NaN             NaN            13.0   \n",
       "\n",
       "         Rating Category  \n",
       "rating                    \n",
       "7+                  Kids  \n",
       "PG                  Kids  \n",
       "TV-PG               Kids  \n",
       "TV-Y7               Kids  \n",
       "TV-Y7-FV            Kids  "
      ]
     },
     "execution_count": 24,
     "metadata": {},
     "output_type": "execute_result"
    }
   ],
   "source": [
    "Kids_Rating_All = All_rating_filtered_df[(All_rating_filtered_df[\"Rating Category\"] == \"Kids\")]\n",
    "Kids_Rating_All"
   ]
  },
  {
   "cell_type": "code",
   "execution_count": 25,
   "id": "3d9d5b7a-6af4-4c77-acd8-924595c9180e",
   "metadata": {},
   "outputs": [
    {
     "data": {
      "text/plain": [
       "1490.0"
      ]
     },
     "execution_count": 25,
     "metadata": {},
     "output_type": "execute_result"
    }
   ],
   "source": [
    "Kids_Rating_Netflix = Kids_Rating_All[\"Netflix Ratings\"].sum()\n",
    "Kids_Rating_Netflix"
   ]
  },
  {
   "cell_type": "code",
   "execution_count": 26,
   "id": "dc3af1fe-152a-437e-96f3-adaac37cc7e1",
   "metadata": {},
   "outputs": [
    {
     "data": {
      "text/plain": [
       "472.0"
      ]
     },
     "execution_count": 26,
     "metadata": {},
     "output_type": "execute_result"
    }
   ],
   "source": [
    "Kids_Rating_Hulu = Kids_Rating_All[\"Hulu Ratings\"].sum()\n",
    "Kids_Rating_Hulu"
   ]
  },
  {
   "cell_type": "code",
   "execution_count": 27,
   "id": "cb593505-4867-4706-8688-973f077fc273",
   "metadata": {},
   "outputs": [
    {
     "data": {
      "text/plain": [
       "846.0"
      ]
     },
     "execution_count": 27,
     "metadata": {},
     "output_type": "execute_result"
    }
   ],
   "source": [
    "Kids_Rating_Amazon = Kids_Rating_All[\"Amazon Ratings\"].sum()\n",
    "Kids_Rating_Amazon"
   ]
  },
  {
   "cell_type": "code",
   "execution_count": 28,
   "id": "ebdad7b3-6e20-48b3-8b72-fd7541ea66f4",
   "metadata": {},
   "outputs": [
    {
     "data": {
      "text/plain": [
       "681.0"
      ]
     },
     "execution_count": 28,
     "metadata": {},
     "output_type": "execute_result"
    }
   ],
   "source": [
    "Kids_Rating_Disney = Kids_Rating_All[\"Disney Ratings\"].sum()\n",
    "Kids_Rating_Disney"
   ]
  },
  {
   "cell_type": "code",
   "execution_count": 29,
   "id": "f16c9aa8-fc36-425e-8b1b-1261712a031d",
   "metadata": {},
   "outputs": [
    {
     "data": {
      "text/html": [
       "<div>\n",
       "<style scoped>\n",
       "    .dataframe tbody tr th:only-of-type {\n",
       "        vertical-align: middle;\n",
       "    }\n",
       "\n",
       "    .dataframe tbody tr th {\n",
       "        vertical-align: top;\n",
       "    }\n",
       "\n",
       "    .dataframe thead th {\n",
       "        text-align: right;\n",
       "    }\n",
       "</style>\n",
       "<table border=\"1\" class=\"dataframe\">\n",
       "  <thead>\n",
       "    <tr style=\"text-align: right;\">\n",
       "      <th></th>\n",
       "      <th>Netflix Ratings</th>\n",
       "      <th>Hulu Ratings</th>\n",
       "      <th>Amazon Ratings</th>\n",
       "      <th>Disney Ratings</th>\n",
       "      <th>Rating Category</th>\n",
       "    </tr>\n",
       "    <tr>\n",
       "      <th>rating</th>\n",
       "      <th></th>\n",
       "      <th></th>\n",
       "      <th></th>\n",
       "      <th></th>\n",
       "      <th></th>\n",
       "    </tr>\n",
       "  </thead>\n",
       "  <tbody>\n",
       "    <tr>\n",
       "      <th>ALL</th>\n",
       "      <td>NaN</td>\n",
       "      <td>NaN</td>\n",
       "      <td>1268.0</td>\n",
       "      <td>NaN</td>\n",
       "      <td>All Ages</td>\n",
       "    </tr>\n",
       "    <tr>\n",
       "      <th>G</th>\n",
       "      <td>41.0</td>\n",
       "      <td>18.0</td>\n",
       "      <td>93.0</td>\n",
       "      <td>253.0</td>\n",
       "      <td>All Ages</td>\n",
       "    </tr>\n",
       "    <tr>\n",
       "      <th>TV-G</th>\n",
       "      <td>220.0</td>\n",
       "      <td>148.0</td>\n",
       "      <td>81.0</td>\n",
       "      <td>318.0</td>\n",
       "      <td>All Ages</td>\n",
       "    </tr>\n",
       "    <tr>\n",
       "      <th>TV-Y</th>\n",
       "      <td>307.0</td>\n",
       "      <td>31.0</td>\n",
       "      <td>74.0</td>\n",
       "      <td>50.0</td>\n",
       "      <td>All Ages</td>\n",
       "    </tr>\n",
       "  </tbody>\n",
       "</table>\n",
       "</div>"
      ],
      "text/plain": [
       "        Netflix Ratings  Hulu Ratings  Amazon Ratings  Disney Ratings  \\\n",
       "rating                                                                  \n",
       "ALL                 NaN           NaN          1268.0             NaN   \n",
       "G                  41.0          18.0            93.0           253.0   \n",
       "TV-G              220.0         148.0            81.0           318.0   \n",
       "TV-Y              307.0          31.0            74.0            50.0   \n",
       "\n",
       "       Rating Category  \n",
       "rating                  \n",
       "ALL           All Ages  \n",
       "G             All Ages  \n",
       "TV-G          All Ages  \n",
       "TV-Y          All Ages  "
      ]
     },
     "execution_count": 29,
     "metadata": {},
     "output_type": "execute_result"
    }
   ],
   "source": [
    "AllAges_Rating_All = All_rating_filtered_df[(All_rating_filtered_df[\"Rating Category\"] == \"All Ages\")]\n",
    "AllAges_Rating_All"
   ]
  },
  {
   "cell_type": "code",
   "execution_count": 30,
   "id": "b24b9c0c-be3d-492b-912c-1ab1281b002a",
   "metadata": {},
   "outputs": [
    {
     "data": {
      "text/plain": [
       "568.0"
      ]
     },
     "execution_count": 30,
     "metadata": {},
     "output_type": "execute_result"
    }
   ],
   "source": [
    "AllAges_Rating_Netflix = AllAges_Rating_All[\"Netflix Ratings\"].sum()\n",
    "AllAges_Rating_Netflix"
   ]
  },
  {
   "cell_type": "code",
   "execution_count": 31,
   "id": "ac132eee-5781-49ec-8e40-e2c59732e167",
   "metadata": {},
   "outputs": [
    {
     "data": {
      "text/plain": [
       "197.0"
      ]
     },
     "execution_count": 31,
     "metadata": {},
     "output_type": "execute_result"
    }
   ],
   "source": [
    "AllAges_Rating_Hulu = AllAges_Rating_All[\"Hulu Ratings\"].sum()\n",
    "AllAges_Rating_Hulu"
   ]
  },
  {
   "cell_type": "code",
   "execution_count": 32,
   "id": "484840e5-476f-472e-be95-374f08d050f4",
   "metadata": {},
   "outputs": [
    {
     "data": {
      "text/plain": [
       "1516.0"
      ]
     },
     "execution_count": 32,
     "metadata": {},
     "output_type": "execute_result"
    }
   ],
   "source": [
    "AllAges_Rating_Amazon = AllAges_Rating_All[\"Amazon Ratings\"].sum()\n",
    "AllAges_Rating_Amazon"
   ]
  },
  {
   "cell_type": "code",
   "execution_count": 33,
   "id": "bfdbcb6a-c40b-4ab6-8bf7-b8948a928c07",
   "metadata": {},
   "outputs": [
    {
     "data": {
      "text/plain": [
       "621.0"
      ]
     },
     "execution_count": 33,
     "metadata": {},
     "output_type": "execute_result"
    }
   ],
   "source": [
    "AllAges_Rating_Disney = AllAges_Rating_All[\"Disney Ratings\"].sum()\n",
    "AllAges_Rating_Disney"
   ]
  },
  {
   "cell_type": "code",
   "execution_count": 34,
   "id": "5be8e62d-b9ee-452c-a9da-15012262de08",
   "metadata": {},
   "outputs": [
    {
     "data": {
      "text/html": [
       "<div>\n",
       "<style scoped>\n",
       "    .dataframe tbody tr th:only-of-type {\n",
       "        vertical-align: middle;\n",
       "    }\n",
       "\n",
       "    .dataframe tbody tr th {\n",
       "        vertical-align: top;\n",
       "    }\n",
       "\n",
       "    .dataframe thead th {\n",
       "        text-align: right;\n",
       "    }\n",
       "</style>\n",
       "<table border=\"1\" class=\"dataframe\">\n",
       "  <thead>\n",
       "    <tr style=\"text-align: right;\">\n",
       "      <th></th>\n",
       "      <th>Netflix Ratings</th>\n",
       "      <th>Hulu Ratings</th>\n",
       "      <th>Amazon Ratings</th>\n",
       "      <th>Disney Ratings</th>\n",
       "    </tr>\n",
       "  </thead>\n",
       "  <tbody>\n",
       "    <tr>\n",
       "      <th>All Ages</th>\n",
       "      <td>568.0</td>\n",
       "      <td>197.0</td>\n",
       "      <td>1516.0</td>\n",
       "      <td>621.0</td>\n",
       "    </tr>\n",
       "  </tbody>\n",
       "</table>\n",
       "</div>"
      ],
      "text/plain": [
       "          Netflix Ratings  Hulu Ratings  Amazon Ratings  Disney Ratings\n",
       "All Ages            568.0         197.0          1516.0           621.0"
      ]
     },
     "execution_count": 34,
     "metadata": {},
     "output_type": "execute_result"
    }
   ],
   "source": [
    "AllAges_Rating_All_Df = pd.DataFrame (\n",
    "    {\"Netflix Ratings\": [AllAges_Rating_Netflix],\n",
    "     \"Hulu Ratings\": [AllAges_Rating_Hulu],\n",
    "     \"Amazon Ratings\": [AllAges_Rating_Amazon],\n",
    "     \"Disney Ratings\": [AllAges_Rating_Disney]},\n",
    "index=[\"All Ages\"])\n",
    "\n",
    "AllAges_Rating_All_Df"
   ]
  },
  {
   "cell_type": "code",
   "execution_count": 35,
   "id": "469b0ba7-0f94-4d62-913b-cf793212c40c",
   "metadata": {},
   "outputs": [
    {
     "data": {
      "text/html": [
       "<div>\n",
       "<style scoped>\n",
       "    .dataframe tbody tr th:only-of-type {\n",
       "        vertical-align: middle;\n",
       "    }\n",
       "\n",
       "    .dataframe tbody tr th {\n",
       "        vertical-align: top;\n",
       "    }\n",
       "\n",
       "    .dataframe thead th {\n",
       "        text-align: right;\n",
       "    }\n",
       "</style>\n",
       "<table border=\"1\" class=\"dataframe\">\n",
       "  <thead>\n",
       "    <tr style=\"text-align: right;\">\n",
       "      <th></th>\n",
       "      <th>Netflix Ratings</th>\n",
       "      <th>Hulu Ratings</th>\n",
       "      <th>Amazon Ratings</th>\n",
       "      <th>Disney Ratings</th>\n",
       "    </tr>\n",
       "  </thead>\n",
       "  <tbody>\n",
       "    <tr>\n",
       "      <th>Kids</th>\n",
       "      <td>1490.0</td>\n",
       "      <td>472.0</td>\n",
       "      <td>846.0</td>\n",
       "      <td>681.0</td>\n",
       "    </tr>\n",
       "  </tbody>\n",
       "</table>\n",
       "</div>"
      ],
      "text/plain": [
       "      Netflix Ratings  Hulu Ratings  Amazon Ratings  Disney Ratings\n",
       "Kids           1490.0         472.0           846.0           681.0"
      ]
     },
     "execution_count": 35,
     "metadata": {},
     "output_type": "execute_result"
    }
   ],
   "source": [
    "Kids_Rating_All_Df = pd.DataFrame (\n",
    "    {\"Netflix Ratings\": [Kids_Rating_Netflix],\n",
    "     \"Hulu Ratings\": [Kids_Rating_Hulu],\n",
    "     \"Amazon Ratings\": [Kids_Rating_Amazon],\n",
    "     \"Disney Ratings\": [Kids_Rating_Disney]},\n",
    "index=[\"Kids\"])\n",
    "\n",
    "Kids_Rating_All_Df"
   ]
  },
  {
   "cell_type": "code",
   "execution_count": 36,
   "id": "efded1e2-a465-44b5-9dad-558426fb8730",
   "metadata": {},
   "outputs": [
    {
     "data": {
      "text/html": [
       "<div>\n",
       "<style scoped>\n",
       "    .dataframe tbody tr th:only-of-type {\n",
       "        vertical-align: middle;\n",
       "    }\n",
       "\n",
       "    .dataframe tbody tr th {\n",
       "        vertical-align: top;\n",
       "    }\n",
       "\n",
       "    .dataframe thead th {\n",
       "        text-align: right;\n",
       "    }\n",
       "</style>\n",
       "<table border=\"1\" class=\"dataframe\">\n",
       "  <thead>\n",
       "    <tr style=\"text-align: right;\">\n",
       "      <th></th>\n",
       "      <th>Netflix Ratings</th>\n",
       "      <th>Hulu Ratings</th>\n",
       "      <th>Amazon Ratings</th>\n",
       "      <th>Disney Ratings</th>\n",
       "    </tr>\n",
       "  </thead>\n",
       "  <tbody>\n",
       "    <tr>\n",
       "      <th>Teens</th>\n",
       "      <td>2650.0</td>\n",
       "      <td>854.0</td>\n",
       "      <td>4265.0</td>\n",
       "      <td>145.0</td>\n",
       "    </tr>\n",
       "  </tbody>\n",
       "</table>\n",
       "</div>"
      ],
      "text/plain": [
       "       Netflix Ratings  Hulu Ratings  Amazon Ratings  Disney Ratings\n",
       "Teens           2650.0         854.0          4265.0           145.0"
      ]
     },
     "execution_count": 36,
     "metadata": {},
     "output_type": "execute_result"
    }
   ],
   "source": [
    "Teens_Rating_All_Df = pd.DataFrame (\n",
    "    {\"Netflix Ratings\": [Teens_Rating_Netflix],\n",
    "     \"Hulu Ratings\": [Teens_Rating_Hulu],\n",
    "     \"Amazon Ratings\": [Teens_Rating_Amazon],\n",
    "     \"Disney Ratings\": [Teens_Rating_Disney]},\n",
    "index=[\"Teens\"])\n",
    "\n",
    "Teens_Rating_All_Df"
   ]
  },
  {
   "cell_type": "code",
   "execution_count": 37,
   "id": "f6dfecf4-6c1e-4f74-9af8-ec39e9e6ade8",
   "metadata": {},
   "outputs": [
    {
     "data": {
      "text/html": [
       "<div>\n",
       "<style scoped>\n",
       "    .dataframe tbody tr th:only-of-type {\n",
       "        vertical-align: middle;\n",
       "    }\n",
       "\n",
       "    .dataframe tbody tr th {\n",
       "        vertical-align: top;\n",
       "    }\n",
       "\n",
       "    .dataframe thead th {\n",
       "        text-align: right;\n",
       "    }\n",
       "</style>\n",
       "<table border=\"1\" class=\"dataframe\">\n",
       "  <thead>\n",
       "    <tr style=\"text-align: right;\">\n",
       "      <th></th>\n",
       "      <th>Netflix Ratings</th>\n",
       "      <th>Hulu Ratings</th>\n",
       "      <th>Amazon Ratings</th>\n",
       "      <th>Disney Ratings</th>\n",
       "    </tr>\n",
       "  </thead>\n",
       "  <tbody>\n",
       "    <tr>\n",
       "      <th>Adults</th>\n",
       "      <td>4012.0</td>\n",
       "      <td>736.0</td>\n",
       "      <td>2366.0</td>\n",
       "      <td>0.0</td>\n",
       "    </tr>\n",
       "  </tbody>\n",
       "</table>\n",
       "</div>"
      ],
      "text/plain": [
       "        Netflix Ratings  Hulu Ratings  Amazon Ratings  Disney Ratings\n",
       "Adults           4012.0         736.0          2366.0             0.0"
      ]
     },
     "execution_count": 37,
     "metadata": {},
     "output_type": "execute_result"
    }
   ],
   "source": [
    "Adults_Rating_All_Df = pd.DataFrame (\n",
    "    {\"Netflix Ratings\": [Adults_Rating_Netflix],\n",
    "     \"Hulu Ratings\": [Adults_Rating_Hulu],\n",
    "     \"Amazon Ratings\": [Adults_Rating_Amazon],\n",
    "     \"Disney Ratings\": [Adults_Rating_Disney]},\n",
    "index=[\"Adults\"])\n",
    "\n",
    "Adults_Rating_All_Df"
   ]
  },
  {
   "cell_type": "code",
   "execution_count": 38,
   "id": "6e0ec5d6-24f9-45c9-a100-beafb2a5d4ed",
   "metadata": {},
   "outputs": [
    {
     "data": {
      "text/html": [
       "<div>\n",
       "<style scoped>\n",
       "    .dataframe tbody tr th:only-of-type {\n",
       "        vertical-align: middle;\n",
       "    }\n",
       "\n",
       "    .dataframe tbody tr th {\n",
       "        vertical-align: top;\n",
       "    }\n",
       "\n",
       "    .dataframe thead th {\n",
       "        text-align: right;\n",
       "    }\n",
       "</style>\n",
       "<table border=\"1\" class=\"dataframe\">\n",
       "  <thead>\n",
       "    <tr style=\"text-align: right;\">\n",
       "      <th></th>\n",
       "      <th>Netflix</th>\n",
       "      <th>Hulu</th>\n",
       "      <th>Amazon</th>\n",
       "      <th>Disney</th>\n",
       "    </tr>\n",
       "  </thead>\n",
       "  <tbody>\n",
       "    <tr>\n",
       "      <th>All Ages</th>\n",
       "      <td>568.0</td>\n",
       "      <td>197.0</td>\n",
       "      <td>1516.0</td>\n",
       "      <td>621.0</td>\n",
       "    </tr>\n",
       "    <tr>\n",
       "      <th>Kids</th>\n",
       "      <td>1490.0</td>\n",
       "      <td>472.0</td>\n",
       "      <td>846.0</td>\n",
       "      <td>681.0</td>\n",
       "    </tr>\n",
       "    <tr>\n",
       "      <th>Teens</th>\n",
       "      <td>2650.0</td>\n",
       "      <td>854.0</td>\n",
       "      <td>4265.0</td>\n",
       "      <td>145.0</td>\n",
       "    </tr>\n",
       "    <tr>\n",
       "      <th>Adults</th>\n",
       "      <td>4012.0</td>\n",
       "      <td>736.0</td>\n",
       "      <td>2366.0</td>\n",
       "      <td>0.0</td>\n",
       "    </tr>\n",
       "  </tbody>\n",
       "</table>\n",
       "</div>"
      ],
      "text/plain": [
       "          Netflix   Hulu  Amazon  Disney\n",
       "All Ages    568.0  197.0  1516.0   621.0\n",
       "Kids       1490.0  472.0   846.0   681.0\n",
       "Teens      2650.0  854.0  4265.0   145.0\n",
       "Adults     4012.0  736.0  2366.0     0.0"
      ]
     },
     "execution_count": 38,
     "metadata": {},
     "output_type": "execute_result"
    }
   ],
   "source": [
    "All_Ratings_Complete_Df = pd.DataFrame (\n",
    "    {\"Netflix\": [AllAges_Rating_Netflix, Kids_Rating_Netflix, Teens_Rating_Netflix, Adults_Rating_Netflix],\n",
    "     \"Hulu\": [AllAges_Rating_Hulu, Kids_Rating_Hulu, Teens_Rating_Hulu, Adults_Rating_Hulu],\n",
    "     \"Amazon\": [AllAges_Rating_Amazon, Kids_Rating_Amazon, Teens_Rating_Amazon, Adults_Rating_Amazon],\n",
    "     \"Disney\": [AllAges_Rating_Disney, Kids_Rating_Disney, Teens_Rating_Disney, Adults_Rating_Disney]},\n",
    "index=[\"All Ages\", \"Kids\", \"Teens\", \"Adults\"])\n",
    "\n",
    "All_Ratings_Complete_Df"
   ]
  },
  {
   "cell_type": "code",
   "execution_count": 40,
   "id": "f7c991ad-1a66-44da-aac0-4e8533e739ff",
   "metadata": {},
   "outputs": [],
   "source": [
    "All_Ratings_Complete_Df.to_csv('resources/Ratings_Summary.csv', index=True)"
   ]
  }
 ],
 "metadata": {
  "kernelspec": {
   "display_name": "Python 3 (ipykernel)",
   "language": "python",
   "name": "python3"
  },
  "language_info": {
   "codemirror_mode": {
    "name": "ipython",
    "version": 3
   },
   "file_extension": ".py",
   "mimetype": "text/x-python",
   "name": "python",
   "nbconvert_exporter": "python",
   "pygments_lexer": "ipython3",
   "version": "3.10.13"
  }
 },
 "nbformat": 4,
 "nbformat_minor": 5
}
