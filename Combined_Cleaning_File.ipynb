{
 "cells": [
  {
   "cell_type": "code",
   "execution_count": 1,
   "id": "d9e2028e-7837-4e88-ba43-1ec500c04380",
   "metadata": {},
   "outputs": [],
   "source": [
    "import os\n",
    "import pandas as pd\n",
    "import matplotlib.pyplot as plt\n",
    "from pathlib import Path\n",
    "import plotly.express as px\n",
    "import plotly.graph_objects as go"
   ]
  },
  {
   "cell_type": "markdown",
   "id": "550f296e-c4d1-4089-b68f-e2a0adec3f03",
   "metadata": {},
   "source": [
    "# Creating the combined data .csv\n",
    "---"
   ]
  },
  {
   "cell_type": "code",
   "execution_count": 2,
   "id": "97f9477f-59b4-4eb9-be91-afc5f519dc66",
   "metadata": {},
   "outputs": [],
   "source": [
    "# Loading in the individual data files for each streaming service\n",
    "\n",
    "netflix = Path(\"Resources/netflix_data.csv\")\n",
    "hulu = Path(\"Resources/hulu_data.csv\")\n",
    "amazon = Path(\"Resources/amazon_data.csv\")\n",
    "disney=Path(\"Resources/disney_data.csv\")\n",
    "\n",
    "# Extracting the data and saving as dataframes\n",
    "\n",
    "netflix_df =pd.read_csv(netflix)\n",
    "hulu_df =pd.read_csv(hulu)\n",
    "amazon_df =pd.read_csv(amazon)\n",
    "disney_df =pd.read_csv(disney)"
   ]
  },
  {
   "cell_type": "code",
   "execution_count": 3,
   "id": "7d0d9a2e-0840-473a-83f6-91e65a08754b",
   "metadata": {},
   "outputs": [],
   "source": [
    "# Creating new columns for each dataframe to hold which streaming service it is from\n",
    "# This will be necessary for the analysis notebook\n",
    "\n",
    "netflix_df['streaming_service'] = 'Netflix'\n",
    "hulu_df['streaming_service'] = 'Hulu'\n",
    "amazon_df['streaming_service'] = 'Amazon'\n",
    "disney_df['streaming_service'] = 'Disney'"
   ]
  },
  {
   "cell_type": "code",
   "execution_count": 4,
   "id": "a0d33cf6-ae97-436b-b5d2-1628c7f71888",
   "metadata": {},
   "outputs": [],
   "source": [
    "# Combining the 4 dataframes into one dataframe that holds all the streaming service data\n",
    "\n",
    "combined_df = pd.concat([netflix_df, hulu_df, amazon_df, disney_df], axis=0)"
   ]
  },
  {
   "cell_type": "code",
   "execution_count": 5,
   "id": "1d93b48f-fe4e-4d31-b205-eca3b8b70707",
   "metadata": {},
   "outputs": [],
   "source": [
    "# Removing columns with lots of empty values or were not relevant to the study\n",
    "\n",
    "new_combined =combined_df.drop(['director','cast','description'], axis=1)"
   ]
  },
  {
   "cell_type": "code",
   "execution_count": 6,
   "id": "ffa40842-47d5-4f6f-9378-02b066c1cf0e",
   "metadata": {},
   "outputs": [],
   "source": [
    "# Saving the combined dataframe as a csv\n",
    "\n",
    "new_combined.to_csv('resources/combined_cleaned_data.csv', index=False)"
   ]
  },
  {
   "cell_type": "markdown",
   "id": "93ca4c63-e92b-4f4d-9b76-ca00314a0ddd",
   "metadata": {},
   "source": [
    "# Creating the Rating .csv"
   ]
  },
  {
   "cell_type": "code",
   "execution_count": 7,
   "id": "68ece395-8d40-46b3-8466-fd9f51386317",
   "metadata": {},
   "outputs": [
    {
     "data": {
      "text/plain": [
       "rating\n",
       "TV-MA       3207\n",
       "TV-14       2160\n",
       "TV-PG        863\n",
       "R            799\n",
       "PG-13        490\n",
       "TV-Y7        334\n",
       "TV-Y         307\n",
       "PG           287\n",
       "TV-G         220\n",
       "NR            80\n",
       "G             41\n",
       "TV-Y7-FV       6\n",
       "NC-17          3\n",
       "UR             3\n",
       "74 min         1\n",
       "84 min         1\n",
       "66 min         1\n",
       "Name: count, dtype: int64"
      ]
     },
     "execution_count": 7,
     "metadata": {},
     "output_type": "execute_result"
    }
   ],
   "source": [
    "# Creating a netflix dataframe using the cleaned dataframe\n",
    "# Finding the value counts of the netflix ratings\n",
    "\n",
    "Netflix_all_df = new_combined[(new_combined[\"streaming_service\"] == \"Netflix\")]\n",
    "Netflix_all_rating = Netflix_all_df[\"rating\"].value_counts()\n",
    "Netflix_all_rating"
   ]
  },
  {
   "cell_type": "code",
   "execution_count": 8,
   "id": "90cc3580-5e88-4dbd-aba7-2074d79f13d1",
   "metadata": {},
   "outputs": [
    {
     "data": {
      "text/plain": [
       "rating\n",
       "TV-14     691\n",
       "TV-MA     391\n",
       "R         345\n",
       "TV-PG     321\n",
       "PG-13     163\n",
       "         ... \n",
       "34 min      1\n",
       "47 min      1\n",
       "65 min      1\n",
       "37 min      1\n",
       "71 min      1\n",
       "Name: count, Length: 88, dtype: int64"
      ]
     },
     "execution_count": 8,
     "metadata": {},
     "output_type": "execute_result"
    }
   ],
   "source": [
    "# Creating a hulu dataframe using the cleaned dataframe\n",
    "# Finding the value counts of the hulu ratings\n",
    "\n",
    "Hulu_all_df = new_combined[(new_combined[\"streaming_service\"] == \"Hulu\")]\n",
    "Hulu_all_rating = Hulu_all_df[\"rating\"].value_counts()\n",
    "Hulu_all_rating"
   ]
  },
  {
   "cell_type": "code",
   "execution_count": 9,
   "id": "fce0ce4d-9fbd-4fe1-9ffe-f39a11e0f7f0",
   "metadata": {},
   "outputs": [
    {
     "data": {
      "text/plain": [
       "rating\n",
       "TV-G        318\n",
       "TV-PG       301\n",
       "G           253\n",
       "PG          236\n",
       "TV-Y7       131\n",
       "TV-14        79\n",
       "PG-13        66\n",
       "TV-Y         50\n",
       "TV-Y7-FV     13\n",
       "Name: count, dtype: int64"
      ]
     },
     "execution_count": 9,
     "metadata": {},
     "output_type": "execute_result"
    }
   ],
   "source": [
    "# Creating a disney dataframe using the cleaned dataframe\n",
    "# Finding the value counts of the disney ratings\n",
    "\n",
    "Disney_all_df = new_combined[(new_combined[\"streaming_service\"] == \"Disney\")]\n",
    "Disney_all_rating = Disney_all_df[\"rating\"].value_counts()\n",
    "Disney_all_rating"
   ]
  },
  {
   "cell_type": "code",
   "execution_count": 10,
   "id": "809bd55b-93c6-4e54-8879-d84a6dbdd1a5",
   "metadata": {},
   "outputs": [
    {
     "data": {
      "text/plain": [
       "rating\n",
       "13+         2117\n",
       "16+         1547\n",
       "ALL         1268\n",
       "18+         1243\n",
       "R           1010\n",
       "PG-13        393\n",
       "7+           385\n",
       "PG           253\n",
       "NR           223\n",
       "TV-14        208\n",
       "TV-PG        169\n",
       "TV-NR        105\n",
       "G             93\n",
       "TV-G          81\n",
       "TV-MA         77\n",
       "TV-Y          74\n",
       "TV-Y7         39\n",
       "UNRATED       33\n",
       "NC-17          3\n",
       "AGES_18_       3\n",
       "NOT_RATE       3\n",
       "AGES_16_       2\n",
       "16             1\n",
       "ALL_AGES       1\n",
       "Name: count, dtype: int64"
      ]
     },
     "execution_count": 10,
     "metadata": {},
     "output_type": "execute_result"
    }
   ],
   "source": [
    "# Creating a amazon dataframe using the cleaned dataframe\n",
    "# Finding the value counts of the amazon ratings\n",
    "\n",
    "Amazon_all_df = new_combined[(new_combined[\"streaming_service\"] == \"Amazon\")]\n",
    "Amazon_all_rating = Amazon_all_df[\"rating\"].value_counts()\n",
    "Amazon_all_rating"
   ]
  },
  {
   "cell_type": "code",
   "execution_count": 11,
   "id": "cc18dda5-3c56-455e-8320-cd5e5e532b65",
   "metadata": {},
   "outputs": [
    {
     "data": {
      "text/html": [
       "<div>\n",
       "<style scoped>\n",
       "    .dataframe tbody tr th:only-of-type {\n",
       "        vertical-align: middle;\n",
       "    }\n",
       "\n",
       "    .dataframe tbody tr th {\n",
       "        vertical-align: top;\n",
       "    }\n",
       "\n",
       "    .dataframe thead th {\n",
       "        text-align: right;\n",
       "    }\n",
       "</style>\n",
       "<table border=\"1\" class=\"dataframe\">\n",
       "  <thead>\n",
       "    <tr style=\"text-align: right;\">\n",
       "      <th></th>\n",
       "      <th>Netflix Ratings</th>\n",
       "      <th>Hulu Ratings</th>\n",
       "      <th>Amazon Ratings</th>\n",
       "      <th>Disney Ratings</th>\n",
       "    </tr>\n",
       "    <tr>\n",
       "      <th>rating</th>\n",
       "      <th></th>\n",
       "      <th></th>\n",
       "      <th></th>\n",
       "      <th></th>\n",
       "    </tr>\n",
       "  </thead>\n",
       "  <tbody>\n",
       "    <tr>\n",
       "      <th>1 Season</th>\n",
       "      <td>NaN</td>\n",
       "      <td>42.0</td>\n",
       "      <td>NaN</td>\n",
       "      <td>NaN</td>\n",
       "    </tr>\n",
       "    <tr>\n",
       "      <th>100 min</th>\n",
       "      <td>NaN</td>\n",
       "      <td>3.0</td>\n",
       "      <td>NaN</td>\n",
       "      <td>NaN</td>\n",
       "    </tr>\n",
       "    <tr>\n",
       "      <th>101 min</th>\n",
       "      <td>NaN</td>\n",
       "      <td>7.0</td>\n",
       "      <td>NaN</td>\n",
       "      <td>NaN</td>\n",
       "    </tr>\n",
       "    <tr>\n",
       "      <th>102 min</th>\n",
       "      <td>NaN</td>\n",
       "      <td>3.0</td>\n",
       "      <td>NaN</td>\n",
       "      <td>NaN</td>\n",
       "    </tr>\n",
       "    <tr>\n",
       "      <th>103 min</th>\n",
       "      <td>NaN</td>\n",
       "      <td>3.0</td>\n",
       "      <td>NaN</td>\n",
       "      <td>NaN</td>\n",
       "    </tr>\n",
       "    <tr>\n",
       "      <th>...</th>\n",
       "      <td>...</td>\n",
       "      <td>...</td>\n",
       "      <td>...</td>\n",
       "      <td>...</td>\n",
       "    </tr>\n",
       "    <tr>\n",
       "      <th>TV-Y</th>\n",
       "      <td>307.0</td>\n",
       "      <td>31.0</td>\n",
       "      <td>74.0</td>\n",
       "      <td>50.0</td>\n",
       "    </tr>\n",
       "    <tr>\n",
       "      <th>TV-Y7</th>\n",
       "      <td>334.0</td>\n",
       "      <td>46.0</td>\n",
       "      <td>39.0</td>\n",
       "      <td>131.0</td>\n",
       "    </tr>\n",
       "    <tr>\n",
       "      <th>TV-Y7-FV</th>\n",
       "      <td>6.0</td>\n",
       "      <td>NaN</td>\n",
       "      <td>NaN</td>\n",
       "      <td>13.0</td>\n",
       "    </tr>\n",
       "    <tr>\n",
       "      <th>UNRATED</th>\n",
       "      <td>NaN</td>\n",
       "      <td>NaN</td>\n",
       "      <td>33.0</td>\n",
       "      <td>NaN</td>\n",
       "    </tr>\n",
       "    <tr>\n",
       "      <th>UR</th>\n",
       "      <td>3.0</td>\n",
       "      <td>NaN</td>\n",
       "      <td>NaN</td>\n",
       "      <td>NaN</td>\n",
       "    </tr>\n",
       "  </tbody>\n",
       "</table>\n",
       "<p>105 rows × 4 columns</p>\n",
       "</div>"
      ],
      "text/plain": [
       "          Netflix Ratings  Hulu Ratings  Amazon Ratings  Disney Ratings\n",
       "rating                                                                 \n",
       "1 Season              NaN          42.0             NaN             NaN\n",
       "100 min               NaN           3.0             NaN             NaN\n",
       "101 min               NaN           7.0             NaN             NaN\n",
       "102 min               NaN           3.0             NaN             NaN\n",
       "103 min               NaN           3.0             NaN             NaN\n",
       "...                   ...           ...             ...             ...\n",
       "TV-Y                307.0          31.0            74.0            50.0\n",
       "TV-Y7               334.0          46.0            39.0           131.0\n",
       "TV-Y7-FV              6.0           NaN             NaN            13.0\n",
       "UNRATED               NaN           NaN            33.0             NaN\n",
       "UR                    3.0           NaN             NaN             NaN\n",
       "\n",
       "[105 rows x 4 columns]"
      ]
     },
     "execution_count": 11,
     "metadata": {},
     "output_type": "execute_result"
    }
   ],
   "source": [
    "# Combining the value counts of all the ratings for each streaming service into a new dataframe\n",
    "\n",
    "All_rating_df = pd.DataFrame({\n",
    "    \"Netflix Ratings\": Netflix_all_rating,\n",
    "    \"Hulu Ratings\": Hulu_all_rating,\n",
    "    \"Amazon Ratings\": Amazon_all_rating,\n",
    "    \"Disney Ratings\": Disney_all_rating\n",
    "})\n",
    "\n",
    "All_rating_df"
   ]
  },
  {
   "cell_type": "code",
   "execution_count": 12,
   "id": "428f52e2-d5b0-46f2-b238-ec81d49570aa",
   "metadata": {},
   "outputs": [
    {
     "data": {
      "text/html": [
       "<div>\n",
       "<style scoped>\n",
       "    .dataframe tbody tr th:only-of-type {\n",
       "        vertical-align: middle;\n",
       "    }\n",
       "\n",
       "    .dataframe tbody tr th {\n",
       "        vertical-align: top;\n",
       "    }\n",
       "\n",
       "    .dataframe thead th {\n",
       "        text-align: right;\n",
       "    }\n",
       "</style>\n",
       "<table border=\"1\" class=\"dataframe\">\n",
       "  <thead>\n",
       "    <tr style=\"text-align: right;\">\n",
       "      <th></th>\n",
       "      <th>Netflix Ratings</th>\n",
       "      <th>Hulu Ratings</th>\n",
       "      <th>Amazon Ratings</th>\n",
       "      <th>Disney Ratings</th>\n",
       "      <th>Rating Category</th>\n",
       "    </tr>\n",
       "    <tr>\n",
       "      <th>rating</th>\n",
       "      <th></th>\n",
       "      <th></th>\n",
       "      <th></th>\n",
       "      <th></th>\n",
       "      <th></th>\n",
       "    </tr>\n",
       "  </thead>\n",
       "  <tbody>\n",
       "    <tr>\n",
       "      <th>13+</th>\n",
       "      <td>NaN</td>\n",
       "      <td>NaN</td>\n",
       "      <td>2117.0</td>\n",
       "      <td>NaN</td>\n",
       "      <td>Teens</td>\n",
       "    </tr>\n",
       "    <tr>\n",
       "      <th>16+</th>\n",
       "      <td>NaN</td>\n",
       "      <td>NaN</td>\n",
       "      <td>1547.0</td>\n",
       "      <td>NaN</td>\n",
       "      <td>Teens</td>\n",
       "    </tr>\n",
       "    <tr>\n",
       "      <th>18+</th>\n",
       "      <td>NaN</td>\n",
       "      <td>NaN</td>\n",
       "      <td>1243.0</td>\n",
       "      <td>NaN</td>\n",
       "      <td>Adults</td>\n",
       "    </tr>\n",
       "    <tr>\n",
       "      <th>7+</th>\n",
       "      <td>NaN</td>\n",
       "      <td>NaN</td>\n",
       "      <td>385.0</td>\n",
       "      <td>NaN</td>\n",
       "      <td>Kids</td>\n",
       "    </tr>\n",
       "    <tr>\n",
       "      <th>ALL</th>\n",
       "      <td>NaN</td>\n",
       "      <td>NaN</td>\n",
       "      <td>1268.0</td>\n",
       "      <td>NaN</td>\n",
       "      <td>All Ages</td>\n",
       "    </tr>\n",
       "    <tr>\n",
       "      <th>G</th>\n",
       "      <td>41.0</td>\n",
       "      <td>18.0</td>\n",
       "      <td>93.0</td>\n",
       "      <td>253.0</td>\n",
       "      <td>All Ages</td>\n",
       "    </tr>\n",
       "    <tr>\n",
       "      <th>NC-17</th>\n",
       "      <td>3.0</td>\n",
       "      <td>NaN</td>\n",
       "      <td>3.0</td>\n",
       "      <td>NaN</td>\n",
       "      <td>Adults</td>\n",
       "    </tr>\n",
       "    <tr>\n",
       "      <th>PG</th>\n",
       "      <td>287.0</td>\n",
       "      <td>105.0</td>\n",
       "      <td>253.0</td>\n",
       "      <td>236.0</td>\n",
       "      <td>Kids</td>\n",
       "    </tr>\n",
       "    <tr>\n",
       "      <th>PG-13</th>\n",
       "      <td>490.0</td>\n",
       "      <td>163.0</td>\n",
       "      <td>393.0</td>\n",
       "      <td>66.0</td>\n",
       "      <td>Teens</td>\n",
       "    </tr>\n",
       "    <tr>\n",
       "      <th>R</th>\n",
       "      <td>799.0</td>\n",
       "      <td>345.0</td>\n",
       "      <td>1010.0</td>\n",
       "      <td>NaN</td>\n",
       "      <td>Adults</td>\n",
       "    </tr>\n",
       "    <tr>\n",
       "      <th>TV-14</th>\n",
       "      <td>2160.0</td>\n",
       "      <td>691.0</td>\n",
       "      <td>208.0</td>\n",
       "      <td>79.0</td>\n",
       "      <td>Teens</td>\n",
       "    </tr>\n",
       "    <tr>\n",
       "      <th>TV-G</th>\n",
       "      <td>220.0</td>\n",
       "      <td>148.0</td>\n",
       "      <td>81.0</td>\n",
       "      <td>318.0</td>\n",
       "      <td>All Ages</td>\n",
       "    </tr>\n",
       "    <tr>\n",
       "      <th>TV-MA</th>\n",
       "      <td>3207.0</td>\n",
       "      <td>391.0</td>\n",
       "      <td>77.0</td>\n",
       "      <td>NaN</td>\n",
       "      <td>Adults</td>\n",
       "    </tr>\n",
       "    <tr>\n",
       "      <th>TV-PG</th>\n",
       "      <td>863.0</td>\n",
       "      <td>321.0</td>\n",
       "      <td>169.0</td>\n",
       "      <td>301.0</td>\n",
       "      <td>Kids</td>\n",
       "    </tr>\n",
       "    <tr>\n",
       "      <th>TV-Y</th>\n",
       "      <td>307.0</td>\n",
       "      <td>31.0</td>\n",
       "      <td>74.0</td>\n",
       "      <td>50.0</td>\n",
       "      <td>All Ages</td>\n",
       "    </tr>\n",
       "    <tr>\n",
       "      <th>TV-Y7</th>\n",
       "      <td>334.0</td>\n",
       "      <td>46.0</td>\n",
       "      <td>39.0</td>\n",
       "      <td>131.0</td>\n",
       "      <td>Kids</td>\n",
       "    </tr>\n",
       "    <tr>\n",
       "      <th>TV-Y7-FV</th>\n",
       "      <td>6.0</td>\n",
       "      <td>NaN</td>\n",
       "      <td>NaN</td>\n",
       "      <td>13.0</td>\n",
       "      <td>Kids</td>\n",
       "    </tr>\n",
       "    <tr>\n",
       "      <th>UNRATED</th>\n",
       "      <td>NaN</td>\n",
       "      <td>NaN</td>\n",
       "      <td>33.0</td>\n",
       "      <td>NaN</td>\n",
       "      <td>Adults</td>\n",
       "    </tr>\n",
       "    <tr>\n",
       "      <th>UR</th>\n",
       "      <td>3.0</td>\n",
       "      <td>NaN</td>\n",
       "      <td>NaN</td>\n",
       "      <td>NaN</td>\n",
       "      <td>Adults</td>\n",
       "    </tr>\n",
       "  </tbody>\n",
       "</table>\n",
       "</div>"
      ],
      "text/plain": [
       "          Netflix Ratings  Hulu Ratings  Amazon Ratings  Disney Ratings  \\\n",
       "rating                                                                    \n",
       "13+                   NaN           NaN          2117.0             NaN   \n",
       "16+                   NaN           NaN          1547.0             NaN   \n",
       "18+                   NaN           NaN          1243.0             NaN   \n",
       "7+                    NaN           NaN           385.0             NaN   \n",
       "ALL                   NaN           NaN          1268.0             NaN   \n",
       "G                    41.0          18.0            93.0           253.0   \n",
       "NC-17                 3.0           NaN             3.0             NaN   \n",
       "PG                  287.0         105.0           253.0           236.0   \n",
       "PG-13               490.0         163.0           393.0            66.0   \n",
       "R                   799.0         345.0          1010.0             NaN   \n",
       "TV-14              2160.0         691.0           208.0            79.0   \n",
       "TV-G                220.0         148.0            81.0           318.0   \n",
       "TV-MA              3207.0         391.0            77.0             NaN   \n",
       "TV-PG               863.0         321.0           169.0           301.0   \n",
       "TV-Y                307.0          31.0            74.0            50.0   \n",
       "TV-Y7               334.0          46.0            39.0           131.0   \n",
       "TV-Y7-FV              6.0           NaN             NaN            13.0   \n",
       "UNRATED               NaN           NaN            33.0             NaN   \n",
       "UR                    3.0           NaN             NaN             NaN   \n",
       "\n",
       "         Rating Category  \n",
       "rating                    \n",
       "13+                Teens  \n",
       "16+                Teens  \n",
       "18+               Adults  \n",
       "7+                  Kids  \n",
       "ALL             All Ages  \n",
       "G               All Ages  \n",
       "NC-17             Adults  \n",
       "PG                  Kids  \n",
       "PG-13              Teens  \n",
       "R                 Adults  \n",
       "TV-14              Teens  \n",
       "TV-G            All Ages  \n",
       "TV-MA             Adults  \n",
       "TV-PG               Kids  \n",
       "TV-Y            All Ages  \n",
       "TV-Y7               Kids  \n",
       "TV-Y7-FV            Kids  \n",
       "UNRATED           Adults  \n",
       "UR                Adults  "
      ]
     },
     "execution_count": 12,
     "metadata": {},
     "output_type": "execute_result"
    }
   ],
   "source": [
    "# Reassign the ratings to fit within one of 5 categories: Teens, Kids, Adults, All Ages, and X \n",
    "# X was used to house all values that weren't ratings and therefore needed to be cleaned out\n",
    "\n",
    "All_rating_df['Rating Category'] = All_rating_df.index.to_series().apply( lambda x: 'Teens' if x in ['13+', 'PG-13', 'TV-14', '16+'] \n",
    "                                                                       else ('Kids' if x in ['PG', 'TV-PG', '7+', 'TV-Y7', 'TV-Y7-FV'] \n",
    "                                                                             else ('Adults' if x in ['R', 'NC-17', '18+', 'TV-MA', 'UR', 'UNRATED']\n",
    "                                                                                    else ('All Ages' if x in ['G', 'TV-G', 'TV-Y', 'ALL', 'ALL AGES']\n",
    "                                                                             else 'X') )))\n",
    "\n",
    "substring = 'X'\n",
    "filter = All_rating_df['Rating Category'].str.contains(substring)\n",
    "All_rating_filtered_df = All_rating_df[~filter]\n",
    "\n",
    "# Creating a new dataframe to hold the value count of each rating with its associated category for each streaming service\n",
    "\n",
    "All_rating_filtered_df"
   ]
  },
  {
   "cell_type": "code",
   "execution_count": 13,
   "id": "b9abfd75-a3a5-4d10-a0dc-538517b5eef6",
   "metadata": {},
   "outputs": [
    {
     "data": {
      "text/html": [
       "<div>\n",
       "<style scoped>\n",
       "    .dataframe tbody tr th:only-of-type {\n",
       "        vertical-align: middle;\n",
       "    }\n",
       "\n",
       "    .dataframe tbody tr th {\n",
       "        vertical-align: top;\n",
       "    }\n",
       "\n",
       "    .dataframe thead th {\n",
       "        text-align: right;\n",
       "    }\n",
       "</style>\n",
       "<table border=\"1\" class=\"dataframe\">\n",
       "  <thead>\n",
       "    <tr style=\"text-align: right;\">\n",
       "      <th></th>\n",
       "      <th>Netflix Ratings</th>\n",
       "      <th>Hulu Ratings</th>\n",
       "      <th>Amazon Ratings</th>\n",
       "      <th>Disney Ratings</th>\n",
       "      <th>Rating Category</th>\n",
       "    </tr>\n",
       "    <tr>\n",
       "      <th>rating</th>\n",
       "      <th></th>\n",
       "      <th></th>\n",
       "      <th></th>\n",
       "      <th></th>\n",
       "      <th></th>\n",
       "    </tr>\n",
       "  </thead>\n",
       "  <tbody>\n",
       "    <tr>\n",
       "      <th>18+</th>\n",
       "      <td>NaN</td>\n",
       "      <td>NaN</td>\n",
       "      <td>1243.0</td>\n",
       "      <td>NaN</td>\n",
       "      <td>Adults</td>\n",
       "    </tr>\n",
       "    <tr>\n",
       "      <th>NC-17</th>\n",
       "      <td>3.0</td>\n",
       "      <td>NaN</td>\n",
       "      <td>3.0</td>\n",
       "      <td>NaN</td>\n",
       "      <td>Adults</td>\n",
       "    </tr>\n",
       "    <tr>\n",
       "      <th>R</th>\n",
       "      <td>799.0</td>\n",
       "      <td>345.0</td>\n",
       "      <td>1010.0</td>\n",
       "      <td>NaN</td>\n",
       "      <td>Adults</td>\n",
       "    </tr>\n",
       "    <tr>\n",
       "      <th>TV-MA</th>\n",
       "      <td>3207.0</td>\n",
       "      <td>391.0</td>\n",
       "      <td>77.0</td>\n",
       "      <td>NaN</td>\n",
       "      <td>Adults</td>\n",
       "    </tr>\n",
       "    <tr>\n",
       "      <th>UNRATED</th>\n",
       "      <td>NaN</td>\n",
       "      <td>NaN</td>\n",
       "      <td>33.0</td>\n",
       "      <td>NaN</td>\n",
       "      <td>Adults</td>\n",
       "    </tr>\n",
       "    <tr>\n",
       "      <th>UR</th>\n",
       "      <td>3.0</td>\n",
       "      <td>NaN</td>\n",
       "      <td>NaN</td>\n",
       "      <td>NaN</td>\n",
       "      <td>Adults</td>\n",
       "    </tr>\n",
       "  </tbody>\n",
       "</table>\n",
       "</div>"
      ],
      "text/plain": [
       "         Netflix Ratings  Hulu Ratings  Amazon Ratings  Disney Ratings  \\\n",
       "rating                                                                   \n",
       "18+                  NaN           NaN          1243.0             NaN   \n",
       "NC-17                3.0           NaN             3.0             NaN   \n",
       "R                  799.0         345.0          1010.0             NaN   \n",
       "TV-MA             3207.0         391.0            77.0             NaN   \n",
       "UNRATED              NaN           NaN            33.0             NaN   \n",
       "UR                   3.0           NaN             NaN             NaN   \n",
       "\n",
       "        Rating Category  \n",
       "rating                   \n",
       "18+              Adults  \n",
       "NC-17            Adults  \n",
       "R                Adults  \n",
       "TV-MA            Adults  \n",
       "UNRATED          Adults  \n",
       "UR               Adults  "
      ]
     },
     "execution_count": 13,
     "metadata": {},
     "output_type": "execute_result"
    }
   ],
   "source": [
    "# Creating a Dataframe for just the ratings in the Adult category\n",
    "\n",
    "Adults_Rating_All = All_rating_filtered_df[(All_rating_filtered_df[\"Rating Category\"] == \"Adults\")]\n",
    "Adults_Rating_All"
   ]
  },
  {
   "cell_type": "code",
   "execution_count": 14,
   "id": "b21dd114-10a8-44e2-9549-fde88009690f",
   "metadata": {},
   "outputs": [
    {
     "data": {
      "text/plain": [
       "4012.0"
      ]
     },
     "execution_count": 14,
     "metadata": {},
     "output_type": "execute_result"
    }
   ],
   "source": [
    "# Getting a sum of all the adult ratings for Netflix\n",
    "\n",
    "Adults_Rating_Netflix = Adults_Rating_All[\"Netflix Ratings\"].sum()\n",
    "Adults_Rating_Netflix"
   ]
  },
  {
   "cell_type": "code",
   "execution_count": 15,
   "id": "d8a03ca0-1c70-4585-a201-fe1b81b7b213",
   "metadata": {},
   "outputs": [
    {
     "data": {
      "text/plain": [
       "736.0"
      ]
     },
     "execution_count": 15,
     "metadata": {},
     "output_type": "execute_result"
    }
   ],
   "source": [
    "# Getting a sum of all the adult ratings for Hulu\n",
    "\n",
    "Adults_Rating_Hulu = Adults_Rating_All[\"Hulu Ratings\"].sum()\n",
    "Adults_Rating_Hulu"
   ]
  },
  {
   "cell_type": "code",
   "execution_count": 16,
   "id": "d95ffe6d-7799-4092-a897-252124837117",
   "metadata": {},
   "outputs": [
    {
     "data": {
      "text/plain": [
       "2366.0"
      ]
     },
     "execution_count": 16,
     "metadata": {},
     "output_type": "execute_result"
    }
   ],
   "source": [
    "# Getting a sum of all the adult ratings for Amazon\n",
    "\n",
    "Adults_Rating_Amazon = Adults_Rating_All[\"Amazon Ratings\"].sum()\n",
    "Adults_Rating_Amazon"
   ]
  },
  {
   "cell_type": "code",
   "execution_count": 17,
   "id": "311ee456-34e5-4a01-9ea1-43a425f84e47",
   "metadata": {},
   "outputs": [
    {
     "data": {
      "text/plain": [
       "0.0"
      ]
     },
     "execution_count": 17,
     "metadata": {},
     "output_type": "execute_result"
    }
   ],
   "source": [
    "# Getting a sum of all the adult ratings for Disney\n",
    "\n",
    "Adults_Rating_Disney = Adults_Rating_All[\"Disney Ratings\"].sum()\n",
    "Adults_Rating_Disney"
   ]
  },
  {
   "cell_type": "code",
   "execution_count": 18,
   "id": "90aae549-2207-452c-87c5-1de4b064015e",
   "metadata": {},
   "outputs": [
    {
     "data": {
      "text/html": [
       "<div>\n",
       "<style scoped>\n",
       "    .dataframe tbody tr th:only-of-type {\n",
       "        vertical-align: middle;\n",
       "    }\n",
       "\n",
       "    .dataframe tbody tr th {\n",
       "        vertical-align: top;\n",
       "    }\n",
       "\n",
       "    .dataframe thead th {\n",
       "        text-align: right;\n",
       "    }\n",
       "</style>\n",
       "<table border=\"1\" class=\"dataframe\">\n",
       "  <thead>\n",
       "    <tr style=\"text-align: right;\">\n",
       "      <th></th>\n",
       "      <th>Netflix Ratings</th>\n",
       "      <th>Hulu Ratings</th>\n",
       "      <th>Amazon Ratings</th>\n",
       "      <th>Disney Ratings</th>\n",
       "      <th>Rating Category</th>\n",
       "    </tr>\n",
       "    <tr>\n",
       "      <th>rating</th>\n",
       "      <th></th>\n",
       "      <th></th>\n",
       "      <th></th>\n",
       "      <th></th>\n",
       "      <th></th>\n",
       "    </tr>\n",
       "  </thead>\n",
       "  <tbody>\n",
       "    <tr>\n",
       "      <th>13+</th>\n",
       "      <td>NaN</td>\n",
       "      <td>NaN</td>\n",
       "      <td>2117.0</td>\n",
       "      <td>NaN</td>\n",
       "      <td>Teens</td>\n",
       "    </tr>\n",
       "    <tr>\n",
       "      <th>16+</th>\n",
       "      <td>NaN</td>\n",
       "      <td>NaN</td>\n",
       "      <td>1547.0</td>\n",
       "      <td>NaN</td>\n",
       "      <td>Teens</td>\n",
       "    </tr>\n",
       "    <tr>\n",
       "      <th>PG-13</th>\n",
       "      <td>490.0</td>\n",
       "      <td>163.0</td>\n",
       "      <td>393.0</td>\n",
       "      <td>66.0</td>\n",
       "      <td>Teens</td>\n",
       "    </tr>\n",
       "    <tr>\n",
       "      <th>TV-14</th>\n",
       "      <td>2160.0</td>\n",
       "      <td>691.0</td>\n",
       "      <td>208.0</td>\n",
       "      <td>79.0</td>\n",
       "      <td>Teens</td>\n",
       "    </tr>\n",
       "  </tbody>\n",
       "</table>\n",
       "</div>"
      ],
      "text/plain": [
       "        Netflix Ratings  Hulu Ratings  Amazon Ratings  Disney Ratings  \\\n",
       "rating                                                                  \n",
       "13+                 NaN           NaN          2117.0             NaN   \n",
       "16+                 NaN           NaN          1547.0             NaN   \n",
       "PG-13             490.0         163.0           393.0            66.0   \n",
       "TV-14            2160.0         691.0           208.0            79.0   \n",
       "\n",
       "       Rating Category  \n",
       "rating                  \n",
       "13+              Teens  \n",
       "16+              Teens  \n",
       "PG-13            Teens  \n",
       "TV-14            Teens  "
      ]
     },
     "execution_count": 18,
     "metadata": {},
     "output_type": "execute_result"
    }
   ],
   "source": [
    "# Creating a Dataframe for just the ratings in the Teen category\n",
    "\n",
    "Teens_Rating_All = All_rating_filtered_df[(All_rating_filtered_df[\"Rating Category\"] == \"Teens\")]\n",
    "Teens_Rating_All"
   ]
  },
  {
   "cell_type": "code",
   "execution_count": 19,
   "id": "e9be86f4-604e-4ce2-b295-d5e12ff48f3c",
   "metadata": {},
   "outputs": [
    {
     "data": {
      "text/plain": [
       "2650.0"
      ]
     },
     "execution_count": 19,
     "metadata": {},
     "output_type": "execute_result"
    }
   ],
   "source": [
    "# Getting a sum of all the teen ratings for Netflix\n",
    "\n",
    "Teens_Rating_Netflix = Teens_Rating_All[\"Netflix Ratings\"].sum()\n",
    "Teens_Rating_Netflix"
   ]
  },
  {
   "cell_type": "code",
   "execution_count": 20,
   "id": "39b4b510-884b-462a-8d5e-0fb78855efa5",
   "metadata": {},
   "outputs": [
    {
     "data": {
      "text/plain": [
       "854.0"
      ]
     },
     "execution_count": 20,
     "metadata": {},
     "output_type": "execute_result"
    }
   ],
   "source": [
    "# Getting a sum of all the teen ratings for Hulu\n",
    "\n",
    "Teens_Rating_Hulu = Teens_Rating_All[\"Hulu Ratings\"].sum()\n",
    "Teens_Rating_Hulu"
   ]
  },
  {
   "cell_type": "code",
   "execution_count": 21,
   "id": "20a51d7e-b6af-4375-b158-2b3556e641f7",
   "metadata": {},
   "outputs": [
    {
     "data": {
      "text/plain": [
       "4265.0"
      ]
     },
     "execution_count": 21,
     "metadata": {},
     "output_type": "execute_result"
    }
   ],
   "source": [
    "# Getting a sum of all the teen ratings for Amazon\n",
    "\n",
    "Teens_Rating_Amazon = Teens_Rating_All[\"Amazon Ratings\"].sum()\n",
    "Teens_Rating_Amazon"
   ]
  },
  {
   "cell_type": "code",
   "execution_count": 22,
   "id": "47dce5fa-7836-416d-a596-1ceadab48759",
   "metadata": {},
   "outputs": [
    {
     "data": {
      "text/plain": [
       "145.0"
      ]
     },
     "execution_count": 22,
     "metadata": {},
     "output_type": "execute_result"
    }
   ],
   "source": [
    "# Getting a sum of all the teen ratings for Disney\n",
    "\n",
    "Teens_Rating_Disney = Teens_Rating_All[\"Disney Ratings\"].sum()\n",
    "Teens_Rating_Disney"
   ]
  },
  {
   "cell_type": "code",
   "execution_count": 23,
   "id": "988b86c0-4a5f-47a8-8ed4-4d5357beff39",
   "metadata": {},
   "outputs": [
    {
     "data": {
      "text/html": [
       "<div>\n",
       "<style scoped>\n",
       "    .dataframe tbody tr th:only-of-type {\n",
       "        vertical-align: middle;\n",
       "    }\n",
       "\n",
       "    .dataframe tbody tr th {\n",
       "        vertical-align: top;\n",
       "    }\n",
       "\n",
       "    .dataframe thead th {\n",
       "        text-align: right;\n",
       "    }\n",
       "</style>\n",
       "<table border=\"1\" class=\"dataframe\">\n",
       "  <thead>\n",
       "    <tr style=\"text-align: right;\">\n",
       "      <th></th>\n",
       "      <th>Netflix Ratings</th>\n",
       "      <th>Hulu Ratings</th>\n",
       "      <th>Amazon Ratings</th>\n",
       "      <th>Disney Ratings</th>\n",
       "      <th>Rating Category</th>\n",
       "    </tr>\n",
       "    <tr>\n",
       "      <th>rating</th>\n",
       "      <th></th>\n",
       "      <th></th>\n",
       "      <th></th>\n",
       "      <th></th>\n",
       "      <th></th>\n",
       "    </tr>\n",
       "  </thead>\n",
       "  <tbody>\n",
       "    <tr>\n",
       "      <th>7+</th>\n",
       "      <td>NaN</td>\n",
       "      <td>NaN</td>\n",
       "      <td>385.0</td>\n",
       "      <td>NaN</td>\n",
       "      <td>Kids</td>\n",
       "    </tr>\n",
       "    <tr>\n",
       "      <th>PG</th>\n",
       "      <td>287.0</td>\n",
       "      <td>105.0</td>\n",
       "      <td>253.0</td>\n",
       "      <td>236.0</td>\n",
       "      <td>Kids</td>\n",
       "    </tr>\n",
       "    <tr>\n",
       "      <th>TV-PG</th>\n",
       "      <td>863.0</td>\n",
       "      <td>321.0</td>\n",
       "      <td>169.0</td>\n",
       "      <td>301.0</td>\n",
       "      <td>Kids</td>\n",
       "    </tr>\n",
       "    <tr>\n",
       "      <th>TV-Y7</th>\n",
       "      <td>334.0</td>\n",
       "      <td>46.0</td>\n",
       "      <td>39.0</td>\n",
       "      <td>131.0</td>\n",
       "      <td>Kids</td>\n",
       "    </tr>\n",
       "    <tr>\n",
       "      <th>TV-Y7-FV</th>\n",
       "      <td>6.0</td>\n",
       "      <td>NaN</td>\n",
       "      <td>NaN</td>\n",
       "      <td>13.0</td>\n",
       "      <td>Kids</td>\n",
       "    </tr>\n",
       "  </tbody>\n",
       "</table>\n",
       "</div>"
      ],
      "text/plain": [
       "          Netflix Ratings  Hulu Ratings  Amazon Ratings  Disney Ratings  \\\n",
       "rating                                                                    \n",
       "7+                    NaN           NaN           385.0             NaN   \n",
       "PG                  287.0         105.0           253.0           236.0   \n",
       "TV-PG               863.0         321.0           169.0           301.0   \n",
       "TV-Y7               334.0          46.0            39.0           131.0   \n",
       "TV-Y7-FV              6.0           NaN             NaN            13.0   \n",
       "\n",
       "         Rating Category  \n",
       "rating                    \n",
       "7+                  Kids  \n",
       "PG                  Kids  \n",
       "TV-PG               Kids  \n",
       "TV-Y7               Kids  \n",
       "TV-Y7-FV            Kids  "
      ]
     },
     "execution_count": 23,
     "metadata": {},
     "output_type": "execute_result"
    }
   ],
   "source": [
    "# Creating a Dataframe for just the ratings in the Kids category\n",
    "\n",
    "Kids_Rating_All = All_rating_filtered_df[(All_rating_filtered_df[\"Rating Category\"] == \"Kids\")]\n",
    "Kids_Rating_All"
   ]
  },
  {
   "cell_type": "code",
   "execution_count": 24,
   "id": "3d9d5b7a-6af4-4c77-acd8-924595c9180e",
   "metadata": {},
   "outputs": [
    {
     "data": {
      "text/plain": [
       "1490.0"
      ]
     },
     "execution_count": 24,
     "metadata": {},
     "output_type": "execute_result"
    }
   ],
   "source": [
    "# Getting a sum of all the kids ratings for Netflix\n",
    "\n",
    "Kids_Rating_Netflix = Kids_Rating_All[\"Netflix Ratings\"].sum()\n",
    "Kids_Rating_Netflix"
   ]
  },
  {
   "cell_type": "code",
   "execution_count": 25,
   "id": "dc3af1fe-152a-437e-96f3-adaac37cc7e1",
   "metadata": {},
   "outputs": [
    {
     "data": {
      "text/plain": [
       "472.0"
      ]
     },
     "execution_count": 25,
     "metadata": {},
     "output_type": "execute_result"
    }
   ],
   "source": [
    "# Getting a sum of all the kids ratings for Hulu\n",
    "\n",
    "Kids_Rating_Hulu = Kids_Rating_All[\"Hulu Ratings\"].sum()\n",
    "Kids_Rating_Hulu"
   ]
  },
  {
   "cell_type": "code",
   "execution_count": 26,
   "id": "cb593505-4867-4706-8688-973f077fc273",
   "metadata": {},
   "outputs": [
    {
     "data": {
      "text/plain": [
       "846.0"
      ]
     },
     "execution_count": 26,
     "metadata": {},
     "output_type": "execute_result"
    }
   ],
   "source": [
    "# Getting a sum of all the kids ratings for Amazon\n",
    "\n",
    "Kids_Rating_Amazon = Kids_Rating_All[\"Amazon Ratings\"].sum()\n",
    "Kids_Rating_Amazon"
   ]
  },
  {
   "cell_type": "code",
   "execution_count": 27,
   "id": "ebdad7b3-6e20-48b3-8b72-fd7541ea66f4",
   "metadata": {},
   "outputs": [
    {
     "data": {
      "text/plain": [
       "681.0"
      ]
     },
     "execution_count": 27,
     "metadata": {},
     "output_type": "execute_result"
    }
   ],
   "source": [
    "# Getting a sum of all the kids ratings for Disney\n",
    "\n",
    "Kids_Rating_Disney = Kids_Rating_All[\"Disney Ratings\"].sum()\n",
    "Kids_Rating_Disney"
   ]
  },
  {
   "cell_type": "code",
   "execution_count": 28,
   "id": "f16c9aa8-fc36-425e-8b1b-1261712a031d",
   "metadata": {},
   "outputs": [
    {
     "data": {
      "text/html": [
       "<div>\n",
       "<style scoped>\n",
       "    .dataframe tbody tr th:only-of-type {\n",
       "        vertical-align: middle;\n",
       "    }\n",
       "\n",
       "    .dataframe tbody tr th {\n",
       "        vertical-align: top;\n",
       "    }\n",
       "\n",
       "    .dataframe thead th {\n",
       "        text-align: right;\n",
       "    }\n",
       "</style>\n",
       "<table border=\"1\" class=\"dataframe\">\n",
       "  <thead>\n",
       "    <tr style=\"text-align: right;\">\n",
       "      <th></th>\n",
       "      <th>Netflix Ratings</th>\n",
       "      <th>Hulu Ratings</th>\n",
       "      <th>Amazon Ratings</th>\n",
       "      <th>Disney Ratings</th>\n",
       "      <th>Rating Category</th>\n",
       "    </tr>\n",
       "    <tr>\n",
       "      <th>rating</th>\n",
       "      <th></th>\n",
       "      <th></th>\n",
       "      <th></th>\n",
       "      <th></th>\n",
       "      <th></th>\n",
       "    </tr>\n",
       "  </thead>\n",
       "  <tbody>\n",
       "    <tr>\n",
       "      <th>ALL</th>\n",
       "      <td>NaN</td>\n",
       "      <td>NaN</td>\n",
       "      <td>1268.0</td>\n",
       "      <td>NaN</td>\n",
       "      <td>All Ages</td>\n",
       "    </tr>\n",
       "    <tr>\n",
       "      <th>G</th>\n",
       "      <td>41.0</td>\n",
       "      <td>18.0</td>\n",
       "      <td>93.0</td>\n",
       "      <td>253.0</td>\n",
       "      <td>All Ages</td>\n",
       "    </tr>\n",
       "    <tr>\n",
       "      <th>TV-G</th>\n",
       "      <td>220.0</td>\n",
       "      <td>148.0</td>\n",
       "      <td>81.0</td>\n",
       "      <td>318.0</td>\n",
       "      <td>All Ages</td>\n",
       "    </tr>\n",
       "    <tr>\n",
       "      <th>TV-Y</th>\n",
       "      <td>307.0</td>\n",
       "      <td>31.0</td>\n",
       "      <td>74.0</td>\n",
       "      <td>50.0</td>\n",
       "      <td>All Ages</td>\n",
       "    </tr>\n",
       "  </tbody>\n",
       "</table>\n",
       "</div>"
      ],
      "text/plain": [
       "        Netflix Ratings  Hulu Ratings  Amazon Ratings  Disney Ratings  \\\n",
       "rating                                                                  \n",
       "ALL                 NaN           NaN          1268.0             NaN   \n",
       "G                  41.0          18.0            93.0           253.0   \n",
       "TV-G              220.0         148.0            81.0           318.0   \n",
       "TV-Y              307.0          31.0            74.0            50.0   \n",
       "\n",
       "       Rating Category  \n",
       "rating                  \n",
       "ALL           All Ages  \n",
       "G             All Ages  \n",
       "TV-G          All Ages  \n",
       "TV-Y          All Ages  "
      ]
     },
     "execution_count": 28,
     "metadata": {},
     "output_type": "execute_result"
    }
   ],
   "source": [
    "# Creating a Dataframe for just the ratings in the All Ages category\n",
    "\n",
    "AllAges_Rating_All = All_rating_filtered_df[(All_rating_filtered_df[\"Rating Category\"] == \"All Ages\")]\n",
    "AllAges_Rating_All"
   ]
  },
  {
   "cell_type": "code",
   "execution_count": 29,
   "id": "b24b9c0c-be3d-492b-912c-1ab1281b002a",
   "metadata": {},
   "outputs": [
    {
     "data": {
      "text/plain": [
       "568.0"
      ]
     },
     "execution_count": 29,
     "metadata": {},
     "output_type": "execute_result"
    }
   ],
   "source": [
    "# Getting a sum of all the all ages ratings for Netflix\n",
    "\n",
    "AllAges_Rating_Netflix = AllAges_Rating_All[\"Netflix Ratings\"].sum()\n",
    "AllAges_Rating_Netflix"
   ]
  },
  {
   "cell_type": "code",
   "execution_count": 30,
   "id": "ac132eee-5781-49ec-8e40-e2c59732e167",
   "metadata": {},
   "outputs": [
    {
     "data": {
      "text/plain": [
       "197.0"
      ]
     },
     "execution_count": 30,
     "metadata": {},
     "output_type": "execute_result"
    }
   ],
   "source": [
    "# Getting a sum of all the all ages ratings for Hulu\n",
    "\n",
    "AllAges_Rating_Hulu = AllAges_Rating_All[\"Hulu Ratings\"].sum()\n",
    "AllAges_Rating_Hulu"
   ]
  },
  {
   "cell_type": "code",
   "execution_count": 31,
   "id": "484840e5-476f-472e-be95-374f08d050f4",
   "metadata": {},
   "outputs": [
    {
     "data": {
      "text/plain": [
       "1516.0"
      ]
     },
     "execution_count": 31,
     "metadata": {},
     "output_type": "execute_result"
    }
   ],
   "source": [
    "# Getting a sum of all the all ages ratings for Amazon\n",
    "\n",
    "AllAges_Rating_Amazon = AllAges_Rating_All[\"Amazon Ratings\"].sum()\n",
    "AllAges_Rating_Amazon"
   ]
  },
  {
   "cell_type": "code",
   "execution_count": 32,
   "id": "bfdbcb6a-c40b-4ab6-8bf7-b8948a928c07",
   "metadata": {},
   "outputs": [
    {
     "data": {
      "text/plain": [
       "621.0"
      ]
     },
     "execution_count": 32,
     "metadata": {},
     "output_type": "execute_result"
    }
   ],
   "source": [
    "# Getting a sum of all the all ages ratings for Disney\n",
    "\n",
    "AllAges_Rating_Disney = AllAges_Rating_All[\"Disney Ratings\"].sum()\n",
    "AllAges_Rating_Disney"
   ]
  },
  {
   "cell_type": "code",
   "execution_count": 33,
   "id": "5be8e62d-b9ee-452c-a9da-15012262de08",
   "metadata": {},
   "outputs": [
    {
     "data": {
      "text/html": [
       "<div>\n",
       "<style scoped>\n",
       "    .dataframe tbody tr th:only-of-type {\n",
       "        vertical-align: middle;\n",
       "    }\n",
       "\n",
       "    .dataframe tbody tr th {\n",
       "        vertical-align: top;\n",
       "    }\n",
       "\n",
       "    .dataframe thead th {\n",
       "        text-align: right;\n",
       "    }\n",
       "</style>\n",
       "<table border=\"1\" class=\"dataframe\">\n",
       "  <thead>\n",
       "    <tr style=\"text-align: right;\">\n",
       "      <th></th>\n",
       "      <th>Netflix Ratings</th>\n",
       "      <th>Hulu Ratings</th>\n",
       "      <th>Amazon Ratings</th>\n",
       "      <th>Disney Ratings</th>\n",
       "    </tr>\n",
       "  </thead>\n",
       "  <tbody>\n",
       "    <tr>\n",
       "      <th>All Ages</th>\n",
       "      <td>568.0</td>\n",
       "      <td>197.0</td>\n",
       "      <td>1516.0</td>\n",
       "      <td>621.0</td>\n",
       "    </tr>\n",
       "  </tbody>\n",
       "</table>\n",
       "</div>"
      ],
      "text/plain": [
       "          Netflix Ratings  Hulu Ratings  Amazon Ratings  Disney Ratings\n",
       "All Ages            568.0         197.0          1516.0           621.0"
      ]
     },
     "execution_count": 33,
     "metadata": {},
     "output_type": "execute_result"
    }
   ],
   "source": [
    "# Creating dataframe that holds the amount of movies/shows that are for All Ages in each service\n",
    "\n",
    "AllAges_Rating_All_Df = pd.DataFrame (\n",
    "    {\"Netflix Ratings\": [AllAges_Rating_Netflix],\n",
    "     \"Hulu Ratings\": [AllAges_Rating_Hulu],\n",
    "     \"Amazon Ratings\": [AllAges_Rating_Amazon],\n",
    "     \"Disney Ratings\": [AllAges_Rating_Disney]},\n",
    "index=[\"All Ages\"])\n",
    "\n",
    "AllAges_Rating_All_Df"
   ]
  },
  {
   "cell_type": "code",
   "execution_count": 34,
   "id": "469b0ba7-0f94-4d62-913b-cf793212c40c",
   "metadata": {},
   "outputs": [
    {
     "data": {
      "text/html": [
       "<div>\n",
       "<style scoped>\n",
       "    .dataframe tbody tr th:only-of-type {\n",
       "        vertical-align: middle;\n",
       "    }\n",
       "\n",
       "    .dataframe tbody tr th {\n",
       "        vertical-align: top;\n",
       "    }\n",
       "\n",
       "    .dataframe thead th {\n",
       "        text-align: right;\n",
       "    }\n",
       "</style>\n",
       "<table border=\"1\" class=\"dataframe\">\n",
       "  <thead>\n",
       "    <tr style=\"text-align: right;\">\n",
       "      <th></th>\n",
       "      <th>Netflix Ratings</th>\n",
       "      <th>Hulu Ratings</th>\n",
       "      <th>Amazon Ratings</th>\n",
       "      <th>Disney Ratings</th>\n",
       "    </tr>\n",
       "  </thead>\n",
       "  <tbody>\n",
       "    <tr>\n",
       "      <th>Kids</th>\n",
       "      <td>1490.0</td>\n",
       "      <td>472.0</td>\n",
       "      <td>846.0</td>\n",
       "      <td>681.0</td>\n",
       "    </tr>\n",
       "  </tbody>\n",
       "</table>\n",
       "</div>"
      ],
      "text/plain": [
       "      Netflix Ratings  Hulu Ratings  Amazon Ratings  Disney Ratings\n",
       "Kids           1490.0         472.0           846.0           681.0"
      ]
     },
     "execution_count": 34,
     "metadata": {},
     "output_type": "execute_result"
    }
   ],
   "source": [
    "# Creating dataframe that holds the amount of movies/shows that are for Kids in each service\n",
    "\n",
    "Kids_Rating_All_Df = pd.DataFrame (\n",
    "    {\"Netflix Ratings\": [Kids_Rating_Netflix],\n",
    "     \"Hulu Ratings\": [Kids_Rating_Hulu],\n",
    "     \"Amazon Ratings\": [Kids_Rating_Amazon],\n",
    "     \"Disney Ratings\": [Kids_Rating_Disney]},\n",
    "index=[\"Kids\"])\n",
    "\n",
    "Kids_Rating_All_Df"
   ]
  },
  {
   "cell_type": "code",
   "execution_count": 35,
   "id": "efded1e2-a465-44b5-9dad-558426fb8730",
   "metadata": {},
   "outputs": [
    {
     "data": {
      "text/html": [
       "<div>\n",
       "<style scoped>\n",
       "    .dataframe tbody tr th:only-of-type {\n",
       "        vertical-align: middle;\n",
       "    }\n",
       "\n",
       "    .dataframe tbody tr th {\n",
       "        vertical-align: top;\n",
       "    }\n",
       "\n",
       "    .dataframe thead th {\n",
       "        text-align: right;\n",
       "    }\n",
       "</style>\n",
       "<table border=\"1\" class=\"dataframe\">\n",
       "  <thead>\n",
       "    <tr style=\"text-align: right;\">\n",
       "      <th></th>\n",
       "      <th>Netflix Ratings</th>\n",
       "      <th>Hulu Ratings</th>\n",
       "      <th>Amazon Ratings</th>\n",
       "      <th>Disney Ratings</th>\n",
       "    </tr>\n",
       "  </thead>\n",
       "  <tbody>\n",
       "    <tr>\n",
       "      <th>Teens</th>\n",
       "      <td>2650.0</td>\n",
       "      <td>854.0</td>\n",
       "      <td>4265.0</td>\n",
       "      <td>145.0</td>\n",
       "    </tr>\n",
       "  </tbody>\n",
       "</table>\n",
       "</div>"
      ],
      "text/plain": [
       "       Netflix Ratings  Hulu Ratings  Amazon Ratings  Disney Ratings\n",
       "Teens           2650.0         854.0          4265.0           145.0"
      ]
     },
     "execution_count": 35,
     "metadata": {},
     "output_type": "execute_result"
    }
   ],
   "source": [
    "# Creating dataframe that holds the amount of movies/shows that are for Teens in each service\n",
    "\n",
    "Teens_Rating_All_Df = pd.DataFrame (\n",
    "    {\"Netflix Ratings\": [Teens_Rating_Netflix],\n",
    "     \"Hulu Ratings\": [Teens_Rating_Hulu],\n",
    "     \"Amazon Ratings\": [Teens_Rating_Amazon],\n",
    "     \"Disney Ratings\": [Teens_Rating_Disney]},\n",
    "index=[\"Teens\"])\n",
    "\n",
    "Teens_Rating_All_Df"
   ]
  },
  {
   "cell_type": "code",
   "execution_count": 36,
   "id": "f6dfecf4-6c1e-4f74-9af8-ec39e9e6ade8",
   "metadata": {},
   "outputs": [
    {
     "data": {
      "text/html": [
       "<div>\n",
       "<style scoped>\n",
       "    .dataframe tbody tr th:only-of-type {\n",
       "        vertical-align: middle;\n",
       "    }\n",
       "\n",
       "    .dataframe tbody tr th {\n",
       "        vertical-align: top;\n",
       "    }\n",
       "\n",
       "    .dataframe thead th {\n",
       "        text-align: right;\n",
       "    }\n",
       "</style>\n",
       "<table border=\"1\" class=\"dataframe\">\n",
       "  <thead>\n",
       "    <tr style=\"text-align: right;\">\n",
       "      <th></th>\n",
       "      <th>Netflix Ratings</th>\n",
       "      <th>Hulu Ratings</th>\n",
       "      <th>Amazon Ratings</th>\n",
       "      <th>Disney Ratings</th>\n",
       "    </tr>\n",
       "  </thead>\n",
       "  <tbody>\n",
       "    <tr>\n",
       "      <th>Adults</th>\n",
       "      <td>4012.0</td>\n",
       "      <td>736.0</td>\n",
       "      <td>2366.0</td>\n",
       "      <td>0.0</td>\n",
       "    </tr>\n",
       "  </tbody>\n",
       "</table>\n",
       "</div>"
      ],
      "text/plain": [
       "        Netflix Ratings  Hulu Ratings  Amazon Ratings  Disney Ratings\n",
       "Adults           4012.0         736.0          2366.0             0.0"
      ]
     },
     "execution_count": 36,
     "metadata": {},
     "output_type": "execute_result"
    }
   ],
   "source": [
    "# Creating dataframe that holds the amount of movies/shows that are for Adults in each service\n",
    "\n",
    "Adults_Rating_All_Df = pd.DataFrame (\n",
    "    {\"Netflix Ratings\": [Adults_Rating_Netflix],\n",
    "     \"Hulu Ratings\": [Adults_Rating_Hulu],\n",
    "     \"Amazon Ratings\": [Adults_Rating_Amazon],\n",
    "     \"Disney Ratings\": [Adults_Rating_Disney]},\n",
    "index=[\"Adults\"])\n",
    "\n",
    "Adults_Rating_All_Df"
   ]
  },
  {
   "cell_type": "code",
   "execution_count": 37,
   "id": "6e0ec5d6-24f9-45c9-a100-beafb2a5d4ed",
   "metadata": {},
   "outputs": [
    {
     "data": {
      "text/html": [
       "<div>\n",
       "<style scoped>\n",
       "    .dataframe tbody tr th:only-of-type {\n",
       "        vertical-align: middle;\n",
       "    }\n",
       "\n",
       "    .dataframe tbody tr th {\n",
       "        vertical-align: top;\n",
       "    }\n",
       "\n",
       "    .dataframe thead th {\n",
       "        text-align: right;\n",
       "    }\n",
       "</style>\n",
       "<table border=\"1\" class=\"dataframe\">\n",
       "  <thead>\n",
       "    <tr style=\"text-align: right;\">\n",
       "      <th></th>\n",
       "      <th>Netflix</th>\n",
       "      <th>Hulu</th>\n",
       "      <th>Amazon</th>\n",
       "      <th>Disney</th>\n",
       "    </tr>\n",
       "  </thead>\n",
       "  <tbody>\n",
       "    <tr>\n",
       "      <th>All Ages</th>\n",
       "      <td>568.0</td>\n",
       "      <td>197.0</td>\n",
       "      <td>1516.0</td>\n",
       "      <td>621.0</td>\n",
       "    </tr>\n",
       "    <tr>\n",
       "      <th>Kids</th>\n",
       "      <td>1490.0</td>\n",
       "      <td>472.0</td>\n",
       "      <td>846.0</td>\n",
       "      <td>681.0</td>\n",
       "    </tr>\n",
       "    <tr>\n",
       "      <th>Teens</th>\n",
       "      <td>2650.0</td>\n",
       "      <td>854.0</td>\n",
       "      <td>4265.0</td>\n",
       "      <td>145.0</td>\n",
       "    </tr>\n",
       "    <tr>\n",
       "      <th>Adults</th>\n",
       "      <td>4012.0</td>\n",
       "      <td>736.0</td>\n",
       "      <td>2366.0</td>\n",
       "      <td>0.0</td>\n",
       "    </tr>\n",
       "  </tbody>\n",
       "</table>\n",
       "</div>"
      ],
      "text/plain": [
       "          Netflix   Hulu  Amazon  Disney\n",
       "All Ages    568.0  197.0  1516.0   621.0\n",
       "Kids       1490.0  472.0   846.0   681.0\n",
       "Teens      2650.0  854.0  4265.0   145.0\n",
       "Adults     4012.0  736.0  2366.0     0.0"
      ]
     },
     "execution_count": 37,
     "metadata": {},
     "output_type": "execute_result"
    }
   ],
   "source": [
    "# Creating a data frame to holds all the counts for each age group in each service\n",
    "\n",
    "All_Ratings_Complete_Df = pd.DataFrame (\n",
    "    {\"Netflix\": [AllAges_Rating_Netflix, Kids_Rating_Netflix, Teens_Rating_Netflix, Adults_Rating_Netflix],\n",
    "     \"Hulu\": [AllAges_Rating_Hulu, Kids_Rating_Hulu, Teens_Rating_Hulu, Adults_Rating_Hulu],\n",
    "     \"Amazon\": [AllAges_Rating_Amazon, Kids_Rating_Amazon, Teens_Rating_Amazon, Adults_Rating_Amazon],\n",
    "     \"Disney\": [AllAges_Rating_Disney, Kids_Rating_Disney, Teens_Rating_Disney, Adults_Rating_Disney]},\n",
    "index=[\"All Ages\", \"Kids\", \"Teens\", \"Adults\"])\n",
    "\n",
    "All_Ratings_Complete_Df"
   ]
  },
  {
   "cell_type": "code",
   "execution_count": 38,
   "id": "f7c991ad-1a66-44da-aac0-4e8533e739ff",
   "metadata": {},
   "outputs": [],
   "source": [
    "# Saving the dataframe as a csv\n",
    "\n",
    "All_Ratings_Complete_Df.to_csv('resources/Ratings_Summary.csv', index=True)"
   ]
  },
  {
   "cell_type": "markdown",
   "id": "cf1c1015-caff-4d9d-8c55-64838ac6e8b5",
   "metadata": {},
   "source": [
    "# Creating the Duration .csv"
   ]
  },
  {
   "cell_type": "code",
   "execution_count": 39,
   "id": "381ebc6d-a87b-45b2-8aa4-a3513110e122",
   "metadata": {},
   "outputs": [
    {
     "name": "stderr",
     "output_type": "stream",
     "text": [
      "/var/folders/9h/z2md7zqd42nc4z91fcmjxpz80000gn/T/ipykernel_31143/3772807661.py:7: SettingWithCopyWarning: \n",
      "A value is trying to be set on a copy of a slice from a DataFrame.\n",
      "Try using .loc[row_indexer,col_indexer] = value instead\n",
      "\n",
      "See the caveats in the documentation: https://pandas.pydata.org/pandas-docs/stable/user_guide/indexing.html#returning-a-view-versus-a-copy\n",
      "  tv_shows_df['Season Number'] = tv_shows_df['duration'].str.extract(r'(\\d+)').astype(int)\n"
     ]
    },
    {
     "data": {
      "text/html": [
       "<div>\n",
       "<style scoped>\n",
       "    .dataframe tbody tr th:only-of-type {\n",
       "        vertical-align: middle;\n",
       "    }\n",
       "\n",
       "    .dataframe tbody tr th {\n",
       "        vertical-align: top;\n",
       "    }\n",
       "\n",
       "    .dataframe thead th {\n",
       "        text-align: right;\n",
       "    }\n",
       "</style>\n",
       "<table border=\"1\" class=\"dataframe\">\n",
       "  <thead>\n",
       "    <tr style=\"text-align: right;\">\n",
       "      <th></th>\n",
       "      <th>show_id</th>\n",
       "      <th>type</th>\n",
       "      <th>title</th>\n",
       "      <th>country</th>\n",
       "      <th>date_added</th>\n",
       "      <th>release_year</th>\n",
       "      <th>rating</th>\n",
       "      <th>duration</th>\n",
       "      <th>listed_in</th>\n",
       "      <th>streaming_service</th>\n",
       "      <th>Season Number</th>\n",
       "    </tr>\n",
       "  </thead>\n",
       "  <tbody>\n",
       "    <tr>\n",
       "      <th>1</th>\n",
       "      <td>s2</td>\n",
       "      <td>TV Show</td>\n",
       "      <td>Blood &amp; Water</td>\n",
       "      <td>South Africa</td>\n",
       "      <td>September 24, 2021</td>\n",
       "      <td>2021</td>\n",
       "      <td>TV-MA</td>\n",
       "      <td>2 Seasons</td>\n",
       "      <td>International TV Shows, TV Dramas, TV Mysteries</td>\n",
       "      <td>Netflix</td>\n",
       "      <td>2</td>\n",
       "    </tr>\n",
       "    <tr>\n",
       "      <th>2</th>\n",
       "      <td>s3</td>\n",
       "      <td>TV Show</td>\n",
       "      <td>Ganglands</td>\n",
       "      <td>NaN</td>\n",
       "      <td>September 24, 2021</td>\n",
       "      <td>2021</td>\n",
       "      <td>TV-MA</td>\n",
       "      <td>1 Season</td>\n",
       "      <td>Crime TV Shows, International TV Shows, TV Act...</td>\n",
       "      <td>Netflix</td>\n",
       "      <td>1</td>\n",
       "    </tr>\n",
       "    <tr>\n",
       "      <th>3</th>\n",
       "      <td>s4</td>\n",
       "      <td>TV Show</td>\n",
       "      <td>Jailbirds New Orleans</td>\n",
       "      <td>NaN</td>\n",
       "      <td>September 24, 2021</td>\n",
       "      <td>2021</td>\n",
       "      <td>TV-MA</td>\n",
       "      <td>1 Season</td>\n",
       "      <td>Docuseries, Reality TV</td>\n",
       "      <td>Netflix</td>\n",
       "      <td>1</td>\n",
       "    </tr>\n",
       "    <tr>\n",
       "      <th>4</th>\n",
       "      <td>s5</td>\n",
       "      <td>TV Show</td>\n",
       "      <td>Kota Factory</td>\n",
       "      <td>India</td>\n",
       "      <td>September 24, 2021</td>\n",
       "      <td>2021</td>\n",
       "      <td>TV-MA</td>\n",
       "      <td>2 Seasons</td>\n",
       "      <td>International TV Shows, Romantic TV Shows, TV ...</td>\n",
       "      <td>Netflix</td>\n",
       "      <td>2</td>\n",
       "    </tr>\n",
       "    <tr>\n",
       "      <th>5</th>\n",
       "      <td>s6</td>\n",
       "      <td>TV Show</td>\n",
       "      <td>Midnight Mass</td>\n",
       "      <td>NaN</td>\n",
       "      <td>September 24, 2021</td>\n",
       "      <td>2021</td>\n",
       "      <td>TV-MA</td>\n",
       "      <td>1 Season</td>\n",
       "      <td>TV Dramas, TV Horror, TV Mysteries</td>\n",
       "      <td>Netflix</td>\n",
       "      <td>1</td>\n",
       "    </tr>\n",
       "  </tbody>\n",
       "</table>\n",
       "</div>"
      ],
      "text/plain": [
       "  show_id     type                  title       country          date_added  \\\n",
       "1      s2  TV Show          Blood & Water  South Africa  September 24, 2021   \n",
       "2      s3  TV Show              Ganglands           NaN  September 24, 2021   \n",
       "3      s4  TV Show  Jailbirds New Orleans           NaN  September 24, 2021   \n",
       "4      s5  TV Show           Kota Factory         India  September 24, 2021   \n",
       "5      s6  TV Show          Midnight Mass           NaN  September 24, 2021   \n",
       "\n",
       "   release_year rating   duration  \\\n",
       "1          2021  TV-MA  2 Seasons   \n",
       "2          2021  TV-MA   1 Season   \n",
       "3          2021  TV-MA   1 Season   \n",
       "4          2021  TV-MA  2 Seasons   \n",
       "5          2021  TV-MA   1 Season   \n",
       "\n",
       "                                           listed_in streaming_service  \\\n",
       "1    International TV Shows, TV Dramas, TV Mysteries           Netflix   \n",
       "2  Crime TV Shows, International TV Shows, TV Act...           Netflix   \n",
       "3                             Docuseries, Reality TV           Netflix   \n",
       "4  International TV Shows, Romantic TV Shows, TV ...           Netflix   \n",
       "5                 TV Dramas, TV Horror, TV Mysteries           Netflix   \n",
       "\n",
       "   Season Number  \n",
       "1              2  \n",
       "2              1  \n",
       "3              1  \n",
       "4              2  \n",
       "5              1  "
      ]
     },
     "execution_count": 39,
     "metadata": {},
     "output_type": "execute_result"
    }
   ],
   "source": [
    "# Creating a dataframe to hold only the tv shows from the cleaned dataframe\n",
    "\n",
    "tv_shows_df = new_combined[(combined_df[\"type\"] == \"TV Show\")]\n",
    "\n",
    "# Creating a new column to hold only the integer value for the number of seasons that a show has\n",
    "\n",
    "tv_shows_df['Season Number'] = tv_shows_df['duration'].str.extract(r'(\\d+)').astype(int)\n",
    "\n",
    "tv_shows_df.head()"
   ]
  },
  {
   "cell_type": "code",
   "execution_count": 40,
   "id": "095fafac-86bd-4c45-82e6-7b316feb1d88",
   "metadata": {},
   "outputs": [
    {
     "data": {
      "text/plain": [
       "Season Number\n",
       "1     1793\n",
       "2      425\n",
       "3      199\n",
       "4       95\n",
       "5       65\n",
       "6       33\n",
       "7       23\n",
       "8       17\n",
       "9        9\n",
       "10       7\n",
       "13       3\n",
       "15       2\n",
       "12       2\n",
       "11       2\n",
       "17       1\n",
       "Name: count, dtype: int64"
      ]
     },
     "execution_count": 40,
     "metadata": {},
     "output_type": "execute_result"
    }
   ],
   "source": [
    "# Getting the value counts for the amount of seasons that shows have in Netflix\n",
    "\n",
    "Netflix_tv_df = tv_shows_df[(tv_shows_df[\"streaming_service\"] == \"Netflix\")]\n",
    "Netflix_tv_duration = Netflix_tv_df[\"Season Number\"].value_counts()\n",
    "Netflix_tv_duration"
   ]
  },
  {
   "cell_type": "code",
   "execution_count": 41,
   "id": "545adee6-4fa2-454b-901d-bb47e00f754c",
   "metadata": {},
   "outputs": [
    {
     "data": {
      "text/plain": [
       "Season Number\n",
       "1     219\n",
       "2      82\n",
       "3      45\n",
       "4      24\n",
       "5      11\n",
       "7       5\n",
       "6       3\n",
       "10      2\n",
       "9       2\n",
       "8       2\n",
       "32      1\n",
       "16      1\n",
       "19      1\n",
       "Name: count, dtype: int64"
      ]
     },
     "execution_count": 41,
     "metadata": {},
     "output_type": "execute_result"
    }
   ],
   "source": [
    "# Getting the value counts for the amount of seasons that shows have in Disney\n",
    "\n",
    "Disney_tv_df = tv_shows_df[(tv_shows_df[\"streaming_service\"] == \"Disney\")]\n",
    "Disney_tv_duration = Disney_tv_df[\"Season Number\"].value_counts()\n",
    "Disney_tv_duration"
   ]
  },
  {
   "cell_type": "code",
   "execution_count": 42,
   "id": "e8ea2298-0f53-4cca-92b6-deda9a91248a",
   "metadata": {},
   "outputs": [
    {
     "data": {
      "text/plain": [
       "Season Number\n",
       "1     829\n",
       "2     265\n",
       "3     121\n",
       "4      99\n",
       "5      80\n",
       "6      56\n",
       "7      46\n",
       "8      20\n",
       "9      17\n",
       "11     13\n",
       "10     10\n",
       "12      8\n",
       "16      3\n",
       "13      3\n",
       "14      3\n",
       "29      2\n",
       "22      2\n",
       "17      2\n",
       "23      2\n",
       "15      2\n",
       "19      1\n",
       "30      1\n",
       "20      1\n",
       "25      1\n",
       "34      1\n",
       "26      1\n",
       "Name: count, dtype: int64"
      ]
     },
     "execution_count": 42,
     "metadata": {},
     "output_type": "execute_result"
    }
   ],
   "source": [
    "# Getting the value counts for the amount of seasons that shows have in Hulu\n",
    "\n",
    "Hulu_tv_df = tv_shows_df[(tv_shows_df[\"streaming_service\"] == \"Hulu\")]\n",
    "Hulu_tv_duration = Hulu_tv_df[\"Season Number\"].value_counts()\n",
    "Hulu_tv_duration"
   ]
  },
  {
   "cell_type": "code",
   "execution_count": 43,
   "id": "c53b4c0a-5d73-4391-a96d-043347c102c1",
   "metadata": {},
   "outputs": [
    {
     "data": {
      "text/plain": [
       "Season Number\n",
       "1     1342\n",
       "2      229\n",
       "3      110\n",
       "4       62\n",
       "5       39\n",
       "6       23\n",
       "7       15\n",
       "8       10\n",
       "9        6\n",
       "10       5\n",
       "11       3\n",
       "14       3\n",
       "12       3\n",
       "29       1\n",
       "21       1\n",
       "19       1\n",
       "15       1\n",
       "Name: count, dtype: int64"
      ]
     },
     "execution_count": 43,
     "metadata": {},
     "output_type": "execute_result"
    }
   ],
   "source": [
    "# Getting the value counts for the amount of seasons that shows have in Amazon\n",
    "\n",
    "Amazon_tv_df = tv_shows_df[(tv_shows_df[\"streaming_service\"] == \"Amazon\")]\n",
    "Amazon_tv_duration = Amazon_tv_df[\"Season Number\"].value_counts()\n",
    "Amazon_tv_duration"
   ]
  },
  {
   "cell_type": "code",
   "execution_count": 44,
   "id": "1ea62282-4b85-4bc4-a749-a0c8d26afe2f",
   "metadata": {},
   "outputs": [
    {
     "data": {
      "text/html": [
       "<div>\n",
       "<style scoped>\n",
       "    .dataframe tbody tr th:only-of-type {\n",
       "        vertical-align: middle;\n",
       "    }\n",
       "\n",
       "    .dataframe tbody tr th {\n",
       "        vertical-align: top;\n",
       "    }\n",
       "\n",
       "    .dataframe thead th {\n",
       "        text-align: right;\n",
       "    }\n",
       "</style>\n",
       "<table border=\"1\" class=\"dataframe\">\n",
       "  <thead>\n",
       "    <tr style=\"text-align: right;\">\n",
       "      <th></th>\n",
       "      <th>Netflix TV Duration</th>\n",
       "      <th>Hulu TV Duration</th>\n",
       "      <th>Amazon TV Duration</th>\n",
       "      <th>Disney TV Duration</th>\n",
       "    </tr>\n",
       "    <tr>\n",
       "      <th>Season Number</th>\n",
       "      <th></th>\n",
       "      <th></th>\n",
       "      <th></th>\n",
       "      <th></th>\n",
       "    </tr>\n",
       "  </thead>\n",
       "  <tbody>\n",
       "    <tr>\n",
       "      <th>1</th>\n",
       "      <td>1793.0</td>\n",
       "      <td>829.0</td>\n",
       "      <td>1342.0</td>\n",
       "      <td>219.0</td>\n",
       "    </tr>\n",
       "    <tr>\n",
       "      <th>2</th>\n",
       "      <td>425.0</td>\n",
       "      <td>265.0</td>\n",
       "      <td>229.0</td>\n",
       "      <td>82.0</td>\n",
       "    </tr>\n",
       "    <tr>\n",
       "      <th>3</th>\n",
       "      <td>199.0</td>\n",
       "      <td>121.0</td>\n",
       "      <td>110.0</td>\n",
       "      <td>45.0</td>\n",
       "    </tr>\n",
       "    <tr>\n",
       "      <th>4</th>\n",
       "      <td>95.0</td>\n",
       "      <td>99.0</td>\n",
       "      <td>62.0</td>\n",
       "      <td>24.0</td>\n",
       "    </tr>\n",
       "    <tr>\n",
       "      <th>5</th>\n",
       "      <td>65.0</td>\n",
       "      <td>80.0</td>\n",
       "      <td>39.0</td>\n",
       "      <td>11.0</td>\n",
       "    </tr>\n",
       "    <tr>\n",
       "      <th>6</th>\n",
       "      <td>33.0</td>\n",
       "      <td>56.0</td>\n",
       "      <td>23.0</td>\n",
       "      <td>3.0</td>\n",
       "    </tr>\n",
       "    <tr>\n",
       "      <th>7</th>\n",
       "      <td>23.0</td>\n",
       "      <td>46.0</td>\n",
       "      <td>15.0</td>\n",
       "      <td>5.0</td>\n",
       "    </tr>\n",
       "    <tr>\n",
       "      <th>8</th>\n",
       "      <td>17.0</td>\n",
       "      <td>20.0</td>\n",
       "      <td>10.0</td>\n",
       "      <td>2.0</td>\n",
       "    </tr>\n",
       "    <tr>\n",
       "      <th>9</th>\n",
       "      <td>9.0</td>\n",
       "      <td>17.0</td>\n",
       "      <td>6.0</td>\n",
       "      <td>2.0</td>\n",
       "    </tr>\n",
       "    <tr>\n",
       "      <th>10</th>\n",
       "      <td>7.0</td>\n",
       "      <td>10.0</td>\n",
       "      <td>5.0</td>\n",
       "      <td>2.0</td>\n",
       "    </tr>\n",
       "    <tr>\n",
       "      <th>11</th>\n",
       "      <td>2.0</td>\n",
       "      <td>13.0</td>\n",
       "      <td>3.0</td>\n",
       "      <td>NaN</td>\n",
       "    </tr>\n",
       "    <tr>\n",
       "      <th>12</th>\n",
       "      <td>2.0</td>\n",
       "      <td>8.0</td>\n",
       "      <td>3.0</td>\n",
       "      <td>NaN</td>\n",
       "    </tr>\n",
       "    <tr>\n",
       "      <th>13</th>\n",
       "      <td>3.0</td>\n",
       "      <td>3.0</td>\n",
       "      <td>NaN</td>\n",
       "      <td>NaN</td>\n",
       "    </tr>\n",
       "    <tr>\n",
       "      <th>14</th>\n",
       "      <td>NaN</td>\n",
       "      <td>3.0</td>\n",
       "      <td>3.0</td>\n",
       "      <td>NaN</td>\n",
       "    </tr>\n",
       "    <tr>\n",
       "      <th>15</th>\n",
       "      <td>2.0</td>\n",
       "      <td>2.0</td>\n",
       "      <td>1.0</td>\n",
       "      <td>NaN</td>\n",
       "    </tr>\n",
       "    <tr>\n",
       "      <th>16</th>\n",
       "      <td>NaN</td>\n",
       "      <td>3.0</td>\n",
       "      <td>NaN</td>\n",
       "      <td>1.0</td>\n",
       "    </tr>\n",
       "    <tr>\n",
       "      <th>17</th>\n",
       "      <td>1.0</td>\n",
       "      <td>2.0</td>\n",
       "      <td>NaN</td>\n",
       "      <td>NaN</td>\n",
       "    </tr>\n",
       "    <tr>\n",
       "      <th>19</th>\n",
       "      <td>NaN</td>\n",
       "      <td>1.0</td>\n",
       "      <td>1.0</td>\n",
       "      <td>1.0</td>\n",
       "    </tr>\n",
       "    <tr>\n",
       "      <th>20</th>\n",
       "      <td>NaN</td>\n",
       "      <td>1.0</td>\n",
       "      <td>NaN</td>\n",
       "      <td>NaN</td>\n",
       "    </tr>\n",
       "    <tr>\n",
       "      <th>21</th>\n",
       "      <td>NaN</td>\n",
       "      <td>NaN</td>\n",
       "      <td>1.0</td>\n",
       "      <td>NaN</td>\n",
       "    </tr>\n",
       "    <tr>\n",
       "      <th>22</th>\n",
       "      <td>NaN</td>\n",
       "      <td>2.0</td>\n",
       "      <td>NaN</td>\n",
       "      <td>NaN</td>\n",
       "    </tr>\n",
       "    <tr>\n",
       "      <th>23</th>\n",
       "      <td>NaN</td>\n",
       "      <td>2.0</td>\n",
       "      <td>NaN</td>\n",
       "      <td>NaN</td>\n",
       "    </tr>\n",
       "    <tr>\n",
       "      <th>25</th>\n",
       "      <td>NaN</td>\n",
       "      <td>1.0</td>\n",
       "      <td>NaN</td>\n",
       "      <td>NaN</td>\n",
       "    </tr>\n",
       "    <tr>\n",
       "      <th>26</th>\n",
       "      <td>NaN</td>\n",
       "      <td>1.0</td>\n",
       "      <td>NaN</td>\n",
       "      <td>NaN</td>\n",
       "    </tr>\n",
       "    <tr>\n",
       "      <th>29</th>\n",
       "      <td>NaN</td>\n",
       "      <td>2.0</td>\n",
       "      <td>1.0</td>\n",
       "      <td>NaN</td>\n",
       "    </tr>\n",
       "    <tr>\n",
       "      <th>30</th>\n",
       "      <td>NaN</td>\n",
       "      <td>1.0</td>\n",
       "      <td>NaN</td>\n",
       "      <td>NaN</td>\n",
       "    </tr>\n",
       "    <tr>\n",
       "      <th>32</th>\n",
       "      <td>NaN</td>\n",
       "      <td>NaN</td>\n",
       "      <td>NaN</td>\n",
       "      <td>1.0</td>\n",
       "    </tr>\n",
       "    <tr>\n",
       "      <th>34</th>\n",
       "      <td>NaN</td>\n",
       "      <td>1.0</td>\n",
       "      <td>NaN</td>\n",
       "      <td>NaN</td>\n",
       "    </tr>\n",
       "  </tbody>\n",
       "</table>\n",
       "</div>"
      ],
      "text/plain": [
       "               Netflix TV Duration  Hulu TV Duration  Amazon TV Duration  \\\n",
       "Season Number                                                              \n",
       "1                           1793.0             829.0              1342.0   \n",
       "2                            425.0             265.0               229.0   \n",
       "3                            199.0             121.0               110.0   \n",
       "4                             95.0              99.0                62.0   \n",
       "5                             65.0              80.0                39.0   \n",
       "6                             33.0              56.0                23.0   \n",
       "7                             23.0              46.0                15.0   \n",
       "8                             17.0              20.0                10.0   \n",
       "9                              9.0              17.0                 6.0   \n",
       "10                             7.0              10.0                 5.0   \n",
       "11                             2.0              13.0                 3.0   \n",
       "12                             2.0               8.0                 3.0   \n",
       "13                             3.0               3.0                 NaN   \n",
       "14                             NaN               3.0                 3.0   \n",
       "15                             2.0               2.0                 1.0   \n",
       "16                             NaN               3.0                 NaN   \n",
       "17                             1.0               2.0                 NaN   \n",
       "19                             NaN               1.0                 1.0   \n",
       "20                             NaN               1.0                 NaN   \n",
       "21                             NaN               NaN                 1.0   \n",
       "22                             NaN               2.0                 NaN   \n",
       "23                             NaN               2.0                 NaN   \n",
       "25                             NaN               1.0                 NaN   \n",
       "26                             NaN               1.0                 NaN   \n",
       "29                             NaN               2.0                 1.0   \n",
       "30                             NaN               1.0                 NaN   \n",
       "32                             NaN               NaN                 NaN   \n",
       "34                             NaN               1.0                 NaN   \n",
       "\n",
       "               Disney TV Duration  \n",
       "Season Number                      \n",
       "1                           219.0  \n",
       "2                            82.0  \n",
       "3                            45.0  \n",
       "4                            24.0  \n",
       "5                            11.0  \n",
       "6                             3.0  \n",
       "7                             5.0  \n",
       "8                             2.0  \n",
       "9                             2.0  \n",
       "10                            2.0  \n",
       "11                            NaN  \n",
       "12                            NaN  \n",
       "13                            NaN  \n",
       "14                            NaN  \n",
       "15                            NaN  \n",
       "16                            1.0  \n",
       "17                            NaN  \n",
       "19                            1.0  \n",
       "20                            NaN  \n",
       "21                            NaN  \n",
       "22                            NaN  \n",
       "23                            NaN  \n",
       "25                            NaN  \n",
       "26                            NaN  \n",
       "29                            NaN  \n",
       "30                            NaN  \n",
       "32                            1.0  \n",
       "34                            NaN  "
      ]
     },
     "execution_count": 44,
     "metadata": {},
     "output_type": "execute_result"
    }
   ],
   "source": [
    "# Creating a dataframe to hold all the value count data for the seasons in each service\n",
    "\n",
    "TV_duration_df = pd.DataFrame({\n",
    "    \"Netflix TV Duration\": Netflix_tv_duration,\n",
    "    \"Hulu TV Duration\": Hulu_tv_duration,\n",
    "    \"Amazon TV Duration\": Amazon_tv_duration,\n",
    "    \"Disney TV Duration\": Disney_tv_duration\n",
    "})\n",
    "\n",
    "# Sort the dataframe by season number\n",
    "\n",
    "TV_duration_df_sorted = TV_duration_df.sort_values(by=\"Season Number\", ascending=True)\n",
    "TV_duration_df_sorted"
   ]
  },
  {
   "cell_type": "code",
   "execution_count": 45,
   "id": "3f28863a-99ff-4852-ac2b-41acaade6a0f",
   "metadata": {},
   "outputs": [],
   "source": [
    "# Save the sorted dataframe as a csv\n",
    "\n",
    "TV_duration_df_sorted.to_csv('resources/Durations_Summary.csv', index=True)"
   ]
  }
 ],
 "metadata": {
  "kernelspec": {
   "display_name": "Python 3 (ipykernel)",
   "language": "python",
   "name": "python3"
  },
  "language_info": {
   "codemirror_mode": {
    "name": "ipython",
    "version": 3
   },
   "file_extension": ".py",
   "mimetype": "text/x-python",
   "name": "python",
   "nbconvert_exporter": "python",
   "pygments_lexer": "ipython3",
   "version": "3.10.13"
  }
 },
 "nbformat": 4,
 "nbformat_minor": 5
}
