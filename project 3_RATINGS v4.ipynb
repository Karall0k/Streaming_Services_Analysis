{
 "cells": [
  {
   "cell_type": "code",
   "execution_count": 1,
   "id": "b29b6fa5",
   "metadata": {},
   "outputs": [],
   "source": [
    "import os\n",
    "import pandas as pd\n",
    "import matplotlib.pyplot as plt\n",
    "from pathlib import Path\n",
    "import plotly.express as px\n",
    "import plotly.graph_objects as go"
   ]
  },
  {
   "cell_type": "code",
   "execution_count": 2,
   "id": "509a54d7",
   "metadata": {},
   "outputs": [],
   "source": [
    "combined = Path(\"Resources/combined_cleaned_data.csv\")\n",
    "\n",
    "combined_df =pd.read_csv(combined)"
   ]
  },
  {
   "cell_type": "code",
   "execution_count": 3,
   "id": "aa99b02a",
   "metadata": {},
   "outputs": [
    {
     "data": {
      "text/html": [
       "<div>\n",
       "<style scoped>\n",
       "    .dataframe tbody tr th:only-of-type {\n",
       "        vertical-align: middle;\n",
       "    }\n",
       "\n",
       "    .dataframe tbody tr th {\n",
       "        vertical-align: top;\n",
       "    }\n",
       "\n",
       "    .dataframe thead th {\n",
       "        text-align: right;\n",
       "    }\n",
       "</style>\n",
       "<table border=\"1\" class=\"dataframe\">\n",
       "  <thead>\n",
       "    <tr style=\"text-align: right;\">\n",
       "      <th></th>\n",
       "      <th>show_id</th>\n",
       "      <th>type</th>\n",
       "      <th>title</th>\n",
       "      <th>country</th>\n",
       "      <th>date_added</th>\n",
       "      <th>release_year</th>\n",
       "      <th>rating</th>\n",
       "      <th>duration</th>\n",
       "      <th>listed_in</th>\n",
       "      <th>streaming_service</th>\n",
       "    </tr>\n",
       "  </thead>\n",
       "  <tbody>\n",
       "    <tr>\n",
       "      <th>0</th>\n",
       "      <td>s1</td>\n",
       "      <td>Movie</td>\n",
       "      <td>Dick Johnson Is Dead</td>\n",
       "      <td>United States</td>\n",
       "      <td>September 25, 2021</td>\n",
       "      <td>2020</td>\n",
       "      <td>PG-13</td>\n",
       "      <td>90 min</td>\n",
       "      <td>Documentaries</td>\n",
       "      <td>Netflix</td>\n",
       "    </tr>\n",
       "    <tr>\n",
       "      <th>1</th>\n",
       "      <td>s2</td>\n",
       "      <td>TV Show</td>\n",
       "      <td>Blood &amp; Water</td>\n",
       "      <td>South Africa</td>\n",
       "      <td>September 24, 2021</td>\n",
       "      <td>2021</td>\n",
       "      <td>TV-MA</td>\n",
       "      <td>2 Seasons</td>\n",
       "      <td>International TV Shows, TV Dramas, TV Mysteries</td>\n",
       "      <td>Netflix</td>\n",
       "    </tr>\n",
       "    <tr>\n",
       "      <th>2</th>\n",
       "      <td>s3</td>\n",
       "      <td>TV Show</td>\n",
       "      <td>Ganglands</td>\n",
       "      <td>NaN</td>\n",
       "      <td>September 24, 2021</td>\n",
       "      <td>2021</td>\n",
       "      <td>TV-MA</td>\n",
       "      <td>1 Season</td>\n",
       "      <td>Crime TV Shows, International TV Shows, TV Act...</td>\n",
       "      <td>Netflix</td>\n",
       "    </tr>\n",
       "    <tr>\n",
       "      <th>3</th>\n",
       "      <td>s4</td>\n",
       "      <td>TV Show</td>\n",
       "      <td>Jailbirds New Orleans</td>\n",
       "      <td>NaN</td>\n",
       "      <td>September 24, 2021</td>\n",
       "      <td>2021</td>\n",
       "      <td>TV-MA</td>\n",
       "      <td>1 Season</td>\n",
       "      <td>Docuseries, Reality TV</td>\n",
       "      <td>Netflix</td>\n",
       "    </tr>\n",
       "    <tr>\n",
       "      <th>4</th>\n",
       "      <td>s5</td>\n",
       "      <td>TV Show</td>\n",
       "      <td>Kota Factory</td>\n",
       "      <td>India</td>\n",
       "      <td>September 24, 2021</td>\n",
       "      <td>2021</td>\n",
       "      <td>TV-MA</td>\n",
       "      <td>2 Seasons</td>\n",
       "      <td>International TV Shows, Romantic TV Shows, TV ...</td>\n",
       "      <td>Netflix</td>\n",
       "    </tr>\n",
       "  </tbody>\n",
       "</table>\n",
       "</div>"
      ],
      "text/plain": [
       "  show_id     type                  title        country          date_added  \\\n",
       "0      s1    Movie   Dick Johnson Is Dead  United States  September 25, 2021   \n",
       "1      s2  TV Show          Blood & Water   South Africa  September 24, 2021   \n",
       "2      s3  TV Show              Ganglands            NaN  September 24, 2021   \n",
       "3      s4  TV Show  Jailbirds New Orleans            NaN  September 24, 2021   \n",
       "4      s5  TV Show           Kota Factory          India  September 24, 2021   \n",
       "\n",
       "   release_year rating   duration  \\\n",
       "0          2020  PG-13     90 min   \n",
       "1          2021  TV-MA  2 Seasons   \n",
       "2          2021  TV-MA   1 Season   \n",
       "3          2021  TV-MA   1 Season   \n",
       "4          2021  TV-MA  2 Seasons   \n",
       "\n",
       "                                           listed_in streaming_service  \n",
       "0                                      Documentaries           Netflix  \n",
       "1    International TV Shows, TV Dramas, TV Mysteries           Netflix  \n",
       "2  Crime TV Shows, International TV Shows, TV Act...           Netflix  \n",
       "3                             Docuseries, Reality TV           Netflix  \n",
       "4  International TV Shows, Romantic TV Shows, TV ...           Netflix  "
      ]
     },
     "execution_count": 3,
     "metadata": {},
     "output_type": "execute_result"
    }
   ],
   "source": [
    "combined_df.head()"
   ]
  },
  {
   "cell_type": "code",
   "execution_count": 4,
   "id": "0341760d-8a0e-4adf-bc33-16f5dd8ab4a5",
   "metadata": {},
   "outputs": [
    {
     "data": {
      "text/plain": [
       "rating\n",
       "TV-MA       3207\n",
       "TV-14       2160\n",
       "TV-PG        863\n",
       "R            799\n",
       "PG-13        490\n",
       "TV-Y7        334\n",
       "TV-Y         307\n",
       "PG           287\n",
       "TV-G         220\n",
       "NR            80\n",
       "G             41\n",
       "TV-Y7-FV       6\n",
       "NC-17          3\n",
       "UR             3\n",
       "74 min         1\n",
       "84 min         1\n",
       "66 min         1\n",
       "Name: count, dtype: int64"
      ]
     },
     "execution_count": 4,
     "metadata": {},
     "output_type": "execute_result"
    }
   ],
   "source": [
    "Netflix_all_df = combined_df[(combined_df[\"streaming_service\"] == \"Netflix\")]\n",
    "Netflix_all_rating = Netflix_all_df[\"rating\"].value_counts()\n",
    "Netflix_all_rating"
   ]
  },
  {
   "cell_type": "code",
   "execution_count": 5,
   "id": "26b8632d-940e-4c4c-9d52-db39f9c4c25c",
   "metadata": {},
   "outputs": [
    {
     "data": {
      "text/plain": [
       "rating\n",
       "TV-14      691\n",
       "TV-MA      391\n",
       "R          345\n",
       "TV-PG      321\n",
       "PG-13      163\n",
       "          ... \n",
       "157 min      1\n",
       "28 min       1\n",
       "64 min       1\n",
       "5 min        1\n",
       "6 min        1\n",
       "Name: count, Length: 88, dtype: int64"
      ]
     },
     "execution_count": 5,
     "metadata": {},
     "output_type": "execute_result"
    }
   ],
   "source": [
    "Hulu_all_df = combined_df[(combined_df[\"streaming_service\"] == \"Hulu\")]\n",
    "Hulu_all_rating = Hulu_all_df[\"rating\"].value_counts()\n",
    "Hulu_all_rating"
   ]
  },
  {
   "cell_type": "code",
   "execution_count": 6,
   "id": "50f8f8f1-874e-47cf-8475-e50751b7cc67",
   "metadata": {},
   "outputs": [
    {
     "data": {
      "text/plain": [
       "rating\n",
       "TV-G        318\n",
       "TV-PG       301\n",
       "G           253\n",
       "PG          236\n",
       "TV-Y7       131\n",
       "TV-14        79\n",
       "PG-13        66\n",
       "TV-Y         50\n",
       "TV-Y7-FV     13\n",
       "Name: count, dtype: int64"
      ]
     },
     "execution_count": 6,
     "metadata": {},
     "output_type": "execute_result"
    }
   ],
   "source": [
    "Disney_all_df = combined_df[(combined_df[\"streaming_service\"] == \"Disney\")]\n",
    "Disney_all_rating = Disney_all_df[\"rating\"].value_counts()\n",
    "Disney_all_rating"
   ]
  },
  {
   "cell_type": "code",
   "execution_count": 7,
   "id": "e17c1e76-6212-4f7c-811d-cccc1edf96b0",
   "metadata": {},
   "outputs": [
    {
     "data": {
      "text/plain": [
       "rating\n",
       "13+         2117\n",
       "16+         1547\n",
       "ALL         1268\n",
       "18+         1243\n",
       "R           1010\n",
       "PG-13        393\n",
       "7+           385\n",
       "PG           253\n",
       "NR           223\n",
       "TV-14        208\n",
       "TV-PG        169\n",
       "TV-NR        105\n",
       "G             93\n",
       "TV-G          81\n",
       "TV-MA         77\n",
       "TV-Y          74\n",
       "TV-Y7         39\n",
       "UNRATED       33\n",
       "NC-17          3\n",
       "AGES_18_       3\n",
       "NOT_RATE       3\n",
       "AGES_16_       2\n",
       "16             1\n",
       "ALL_AGES       1\n",
       "Name: count, dtype: int64"
      ]
     },
     "execution_count": 7,
     "metadata": {},
     "output_type": "execute_result"
    }
   ],
   "source": [
    "Amazon_all_df = combined_df[(combined_df[\"streaming_service\"] == \"Amazon\")]\n",
    "Amazon_all_rating = Amazon_all_df[\"rating\"].value_counts()\n",
    "Amazon_all_rating"
   ]
  },
  {
   "cell_type": "code",
   "execution_count": 8,
   "id": "434bc97e-9659-41be-8e39-531cc0bbf9a4",
   "metadata": {},
   "outputs": [
    {
     "data": {
      "text/html": [
       "<div>\n",
       "<style scoped>\n",
       "    .dataframe tbody tr th:only-of-type {\n",
       "        vertical-align: middle;\n",
       "    }\n",
       "\n",
       "    .dataframe tbody tr th {\n",
       "        vertical-align: top;\n",
       "    }\n",
       "\n",
       "    .dataframe thead th {\n",
       "        text-align: right;\n",
       "    }\n",
       "</style>\n",
       "<table border=\"1\" class=\"dataframe\">\n",
       "  <thead>\n",
       "    <tr style=\"text-align: right;\">\n",
       "      <th></th>\n",
       "      <th>Netflix Ratings</th>\n",
       "      <th>Hulu Ratings</th>\n",
       "      <th>Amazon Ratings</th>\n",
       "      <th>Disney Ratings</th>\n",
       "    </tr>\n",
       "    <tr>\n",
       "      <th>rating</th>\n",
       "      <th></th>\n",
       "      <th></th>\n",
       "      <th></th>\n",
       "      <th></th>\n",
       "    </tr>\n",
       "  </thead>\n",
       "  <tbody>\n",
       "    <tr>\n",
       "      <th>1 Season</th>\n",
       "      <td>NaN</td>\n",
       "      <td>42.0</td>\n",
       "      <td>NaN</td>\n",
       "      <td>NaN</td>\n",
       "    </tr>\n",
       "    <tr>\n",
       "      <th>100 min</th>\n",
       "      <td>NaN</td>\n",
       "      <td>3.0</td>\n",
       "      <td>NaN</td>\n",
       "      <td>NaN</td>\n",
       "    </tr>\n",
       "    <tr>\n",
       "      <th>101 min</th>\n",
       "      <td>NaN</td>\n",
       "      <td>7.0</td>\n",
       "      <td>NaN</td>\n",
       "      <td>NaN</td>\n",
       "    </tr>\n",
       "    <tr>\n",
       "      <th>102 min</th>\n",
       "      <td>NaN</td>\n",
       "      <td>3.0</td>\n",
       "      <td>NaN</td>\n",
       "      <td>NaN</td>\n",
       "    </tr>\n",
       "    <tr>\n",
       "      <th>103 min</th>\n",
       "      <td>NaN</td>\n",
       "      <td>3.0</td>\n",
       "      <td>NaN</td>\n",
       "      <td>NaN</td>\n",
       "    </tr>\n",
       "    <tr>\n",
       "      <th>...</th>\n",
       "      <td>...</td>\n",
       "      <td>...</td>\n",
       "      <td>...</td>\n",
       "      <td>...</td>\n",
       "    </tr>\n",
       "    <tr>\n",
       "      <th>TV-Y</th>\n",
       "      <td>307.0</td>\n",
       "      <td>31.0</td>\n",
       "      <td>74.0</td>\n",
       "      <td>50.0</td>\n",
       "    </tr>\n",
       "    <tr>\n",
       "      <th>TV-Y7</th>\n",
       "      <td>334.0</td>\n",
       "      <td>46.0</td>\n",
       "      <td>39.0</td>\n",
       "      <td>131.0</td>\n",
       "    </tr>\n",
       "    <tr>\n",
       "      <th>TV-Y7-FV</th>\n",
       "      <td>6.0</td>\n",
       "      <td>NaN</td>\n",
       "      <td>NaN</td>\n",
       "      <td>13.0</td>\n",
       "    </tr>\n",
       "    <tr>\n",
       "      <th>UNRATED</th>\n",
       "      <td>NaN</td>\n",
       "      <td>NaN</td>\n",
       "      <td>33.0</td>\n",
       "      <td>NaN</td>\n",
       "    </tr>\n",
       "    <tr>\n",
       "      <th>UR</th>\n",
       "      <td>3.0</td>\n",
       "      <td>NaN</td>\n",
       "      <td>NaN</td>\n",
       "      <td>NaN</td>\n",
       "    </tr>\n",
       "  </tbody>\n",
       "</table>\n",
       "<p>105 rows × 4 columns</p>\n",
       "</div>"
      ],
      "text/plain": [
       "          Netflix Ratings  Hulu Ratings  Amazon Ratings  Disney Ratings\n",
       "rating                                                                 \n",
       "1 Season              NaN          42.0             NaN             NaN\n",
       "100 min               NaN           3.0             NaN             NaN\n",
       "101 min               NaN           7.0             NaN             NaN\n",
       "102 min               NaN           3.0             NaN             NaN\n",
       "103 min               NaN           3.0             NaN             NaN\n",
       "...                   ...           ...             ...             ...\n",
       "TV-Y                307.0          31.0            74.0            50.0\n",
       "TV-Y7               334.0          46.0            39.0           131.0\n",
       "TV-Y7-FV              6.0           NaN             NaN            13.0\n",
       "UNRATED               NaN           NaN            33.0             NaN\n",
       "UR                    3.0           NaN             NaN             NaN\n",
       "\n",
       "[105 rows x 4 columns]"
      ]
     },
     "execution_count": 8,
     "metadata": {},
     "output_type": "execute_result"
    }
   ],
   "source": [
    "All_rating_df = pd.DataFrame({\n",
    "    \"Netflix Ratings\": Netflix_all_rating,\n",
    "    \"Hulu Ratings\": Hulu_all_rating,\n",
    "    \"Amazon Ratings\": Amazon_all_rating,\n",
    "    \"Disney Ratings\": Disney_all_rating\n",
    "})\n",
    "\n",
    "All_rating_df"
   ]
  },
  {
   "cell_type": "code",
   "execution_count": 9,
   "id": "3ea27f82-40f7-404f-a486-1e67d6096273",
   "metadata": {
    "scrolled": true
   },
   "outputs": [
    {
     "data": {
      "text/html": [
       "<div>\n",
       "<style scoped>\n",
       "    .dataframe tbody tr th:only-of-type {\n",
       "        vertical-align: middle;\n",
       "    }\n",
       "\n",
       "    .dataframe tbody tr th {\n",
       "        vertical-align: top;\n",
       "    }\n",
       "\n",
       "    .dataframe thead th {\n",
       "        text-align: right;\n",
       "    }\n",
       "</style>\n",
       "<table border=\"1\" class=\"dataframe\">\n",
       "  <thead>\n",
       "    <tr style=\"text-align: right;\">\n",
       "      <th></th>\n",
       "      <th>Netflix Ratings</th>\n",
       "      <th>Hulu Ratings</th>\n",
       "      <th>Amazon Ratings</th>\n",
       "      <th>Disney Ratings</th>\n",
       "      <th>Rating Category</th>\n",
       "    </tr>\n",
       "    <tr>\n",
       "      <th>rating</th>\n",
       "      <th></th>\n",
       "      <th></th>\n",
       "      <th></th>\n",
       "      <th></th>\n",
       "      <th></th>\n",
       "    </tr>\n",
       "  </thead>\n",
       "  <tbody>\n",
       "    <tr>\n",
       "      <th>13+</th>\n",
       "      <td>NaN</td>\n",
       "      <td>NaN</td>\n",
       "      <td>2117.0</td>\n",
       "      <td>NaN</td>\n",
       "      <td>Teens</td>\n",
       "    </tr>\n",
       "    <tr>\n",
       "      <th>16+</th>\n",
       "      <td>NaN</td>\n",
       "      <td>NaN</td>\n",
       "      <td>1547.0</td>\n",
       "      <td>NaN</td>\n",
       "      <td>Teens</td>\n",
       "    </tr>\n",
       "    <tr>\n",
       "      <th>18+</th>\n",
       "      <td>NaN</td>\n",
       "      <td>NaN</td>\n",
       "      <td>1243.0</td>\n",
       "      <td>NaN</td>\n",
       "      <td>Adults</td>\n",
       "    </tr>\n",
       "    <tr>\n",
       "      <th>7+</th>\n",
       "      <td>NaN</td>\n",
       "      <td>NaN</td>\n",
       "      <td>385.0</td>\n",
       "      <td>NaN</td>\n",
       "      <td>Kids</td>\n",
       "    </tr>\n",
       "    <tr>\n",
       "      <th>ALL</th>\n",
       "      <td>NaN</td>\n",
       "      <td>NaN</td>\n",
       "      <td>1268.0</td>\n",
       "      <td>NaN</td>\n",
       "      <td>All Ages</td>\n",
       "    </tr>\n",
       "    <tr>\n",
       "      <th>G</th>\n",
       "      <td>41.0</td>\n",
       "      <td>18.0</td>\n",
       "      <td>93.0</td>\n",
       "      <td>253.0</td>\n",
       "      <td>All Ages</td>\n",
       "    </tr>\n",
       "    <tr>\n",
       "      <th>NC-17</th>\n",
       "      <td>3.0</td>\n",
       "      <td>NaN</td>\n",
       "      <td>3.0</td>\n",
       "      <td>NaN</td>\n",
       "      <td>Adults</td>\n",
       "    </tr>\n",
       "    <tr>\n",
       "      <th>PG</th>\n",
       "      <td>287.0</td>\n",
       "      <td>105.0</td>\n",
       "      <td>253.0</td>\n",
       "      <td>236.0</td>\n",
       "      <td>Kids</td>\n",
       "    </tr>\n",
       "    <tr>\n",
       "      <th>PG-13</th>\n",
       "      <td>490.0</td>\n",
       "      <td>163.0</td>\n",
       "      <td>393.0</td>\n",
       "      <td>66.0</td>\n",
       "      <td>Teens</td>\n",
       "    </tr>\n",
       "    <tr>\n",
       "      <th>R</th>\n",
       "      <td>799.0</td>\n",
       "      <td>345.0</td>\n",
       "      <td>1010.0</td>\n",
       "      <td>NaN</td>\n",
       "      <td>Adults</td>\n",
       "    </tr>\n",
       "    <tr>\n",
       "      <th>TV-14</th>\n",
       "      <td>2160.0</td>\n",
       "      <td>691.0</td>\n",
       "      <td>208.0</td>\n",
       "      <td>79.0</td>\n",
       "      <td>Teens</td>\n",
       "    </tr>\n",
       "    <tr>\n",
       "      <th>TV-G</th>\n",
       "      <td>220.0</td>\n",
       "      <td>148.0</td>\n",
       "      <td>81.0</td>\n",
       "      <td>318.0</td>\n",
       "      <td>All Ages</td>\n",
       "    </tr>\n",
       "    <tr>\n",
       "      <th>TV-MA</th>\n",
       "      <td>3207.0</td>\n",
       "      <td>391.0</td>\n",
       "      <td>77.0</td>\n",
       "      <td>NaN</td>\n",
       "      <td>Adults</td>\n",
       "    </tr>\n",
       "    <tr>\n",
       "      <th>TV-PG</th>\n",
       "      <td>863.0</td>\n",
       "      <td>321.0</td>\n",
       "      <td>169.0</td>\n",
       "      <td>301.0</td>\n",
       "      <td>Kids</td>\n",
       "    </tr>\n",
       "    <tr>\n",
       "      <th>TV-Y</th>\n",
       "      <td>307.0</td>\n",
       "      <td>31.0</td>\n",
       "      <td>74.0</td>\n",
       "      <td>50.0</td>\n",
       "      <td>All Ages</td>\n",
       "    </tr>\n",
       "    <tr>\n",
       "      <th>TV-Y7</th>\n",
       "      <td>334.0</td>\n",
       "      <td>46.0</td>\n",
       "      <td>39.0</td>\n",
       "      <td>131.0</td>\n",
       "      <td>Kids</td>\n",
       "    </tr>\n",
       "    <tr>\n",
       "      <th>TV-Y7-FV</th>\n",
       "      <td>6.0</td>\n",
       "      <td>NaN</td>\n",
       "      <td>NaN</td>\n",
       "      <td>13.0</td>\n",
       "      <td>Kids</td>\n",
       "    </tr>\n",
       "    <tr>\n",
       "      <th>UNRATED</th>\n",
       "      <td>NaN</td>\n",
       "      <td>NaN</td>\n",
       "      <td>33.0</td>\n",
       "      <td>NaN</td>\n",
       "      <td>Adults</td>\n",
       "    </tr>\n",
       "    <tr>\n",
       "      <th>UR</th>\n",
       "      <td>3.0</td>\n",
       "      <td>NaN</td>\n",
       "      <td>NaN</td>\n",
       "      <td>NaN</td>\n",
       "      <td>Adults</td>\n",
       "    </tr>\n",
       "  </tbody>\n",
       "</table>\n",
       "</div>"
      ],
      "text/plain": [
       "          Netflix Ratings  Hulu Ratings  Amazon Ratings  Disney Ratings  \\\n",
       "rating                                                                    \n",
       "13+                   NaN           NaN          2117.0             NaN   \n",
       "16+                   NaN           NaN          1547.0             NaN   \n",
       "18+                   NaN           NaN          1243.0             NaN   \n",
       "7+                    NaN           NaN           385.0             NaN   \n",
       "ALL                   NaN           NaN          1268.0             NaN   \n",
       "G                    41.0          18.0            93.0           253.0   \n",
       "NC-17                 3.0           NaN             3.0             NaN   \n",
       "PG                  287.0         105.0           253.0           236.0   \n",
       "PG-13               490.0         163.0           393.0            66.0   \n",
       "R                   799.0         345.0          1010.0             NaN   \n",
       "TV-14              2160.0         691.0           208.0            79.0   \n",
       "TV-G                220.0         148.0            81.0           318.0   \n",
       "TV-MA              3207.0         391.0            77.0             NaN   \n",
       "TV-PG               863.0         321.0           169.0           301.0   \n",
       "TV-Y                307.0          31.0            74.0            50.0   \n",
       "TV-Y7               334.0          46.0            39.0           131.0   \n",
       "TV-Y7-FV              6.0           NaN             NaN            13.0   \n",
       "UNRATED               NaN           NaN            33.0             NaN   \n",
       "UR                    3.0           NaN             NaN             NaN   \n",
       "\n",
       "         Rating Category  \n",
       "rating                    \n",
       "13+                Teens  \n",
       "16+                Teens  \n",
       "18+               Adults  \n",
       "7+                  Kids  \n",
       "ALL             All Ages  \n",
       "G               All Ages  \n",
       "NC-17             Adults  \n",
       "PG                  Kids  \n",
       "PG-13              Teens  \n",
       "R                 Adults  \n",
       "TV-14              Teens  \n",
       "TV-G            All Ages  \n",
       "TV-MA             Adults  \n",
       "TV-PG               Kids  \n",
       "TV-Y            All Ages  \n",
       "TV-Y7               Kids  \n",
       "TV-Y7-FV            Kids  \n",
       "UNRATED           Adults  \n",
       "UR                Adults  "
      ]
     },
     "execution_count": 9,
     "metadata": {},
     "output_type": "execute_result"
    }
   ],
   "source": [
    "All_rating_df['Rating Category'] = All_rating_df.index.to_series().apply( lambda x: 'Teens' if x in ['13+', 'PG-13', 'TV-14', '16+'] \n",
    "                                                                       else ('Kids' if x in ['PG', 'TV-PG', '7+', 'TV-Y7', 'TV-Y7-FV'] \n",
    "                                                                             else ('Adults' if x in ['R', 'NC-17', '18+', 'TV-MA', 'UR', 'UNRATED']\n",
    "                                                                                    else ('All Ages' if x in ['G', 'TV-G', 'TV-Y', 'ALL', 'ALL AGES']\n",
    "                                                                             else 'X') )))\n",
    "\n",
    "substring = 'X'\n",
    "filter = All_rating_df['Rating Category'].str.contains(substring)\n",
    "All_rating_filtered_df = All_rating_df[~filter]\n",
    "\n",
    "All_rating_filtered_df"
   ]
  },
  {
   "cell_type": "code",
   "execution_count": 10,
   "id": "3a268b07-f531-4109-bc0c-86b28e9c954b",
   "metadata": {
    "scrolled": true
   },
   "outputs": [
    {
     "data": {
      "text/html": [
       "<div>\n",
       "<style scoped>\n",
       "    .dataframe tbody tr th:only-of-type {\n",
       "        vertical-align: middle;\n",
       "    }\n",
       "\n",
       "    .dataframe tbody tr th {\n",
       "        vertical-align: top;\n",
       "    }\n",
       "\n",
       "    .dataframe thead th {\n",
       "        text-align: right;\n",
       "    }\n",
       "</style>\n",
       "<table border=\"1\" class=\"dataframe\">\n",
       "  <thead>\n",
       "    <tr style=\"text-align: right;\">\n",
       "      <th></th>\n",
       "      <th>Netflix Ratings</th>\n",
       "      <th>Hulu Ratings</th>\n",
       "      <th>Amazon Ratings</th>\n",
       "      <th>Disney Ratings</th>\n",
       "      <th>Rating Category</th>\n",
       "    </tr>\n",
       "    <tr>\n",
       "      <th>rating</th>\n",
       "      <th></th>\n",
       "      <th></th>\n",
       "      <th></th>\n",
       "      <th></th>\n",
       "      <th></th>\n",
       "    </tr>\n",
       "  </thead>\n",
       "  <tbody>\n",
       "    <tr>\n",
       "      <th>18+</th>\n",
       "      <td>NaN</td>\n",
       "      <td>NaN</td>\n",
       "      <td>1243.0</td>\n",
       "      <td>NaN</td>\n",
       "      <td>Adults</td>\n",
       "    </tr>\n",
       "    <tr>\n",
       "      <th>NC-17</th>\n",
       "      <td>3.0</td>\n",
       "      <td>NaN</td>\n",
       "      <td>3.0</td>\n",
       "      <td>NaN</td>\n",
       "      <td>Adults</td>\n",
       "    </tr>\n",
       "    <tr>\n",
       "      <th>R</th>\n",
       "      <td>799.0</td>\n",
       "      <td>345.0</td>\n",
       "      <td>1010.0</td>\n",
       "      <td>NaN</td>\n",
       "      <td>Adults</td>\n",
       "    </tr>\n",
       "    <tr>\n",
       "      <th>TV-MA</th>\n",
       "      <td>3207.0</td>\n",
       "      <td>391.0</td>\n",
       "      <td>77.0</td>\n",
       "      <td>NaN</td>\n",
       "      <td>Adults</td>\n",
       "    </tr>\n",
       "    <tr>\n",
       "      <th>UNRATED</th>\n",
       "      <td>NaN</td>\n",
       "      <td>NaN</td>\n",
       "      <td>33.0</td>\n",
       "      <td>NaN</td>\n",
       "      <td>Adults</td>\n",
       "    </tr>\n",
       "    <tr>\n",
       "      <th>UR</th>\n",
       "      <td>3.0</td>\n",
       "      <td>NaN</td>\n",
       "      <td>NaN</td>\n",
       "      <td>NaN</td>\n",
       "      <td>Adults</td>\n",
       "    </tr>\n",
       "  </tbody>\n",
       "</table>\n",
       "</div>"
      ],
      "text/plain": [
       "         Netflix Ratings  Hulu Ratings  Amazon Ratings  Disney Ratings  \\\n",
       "rating                                                                   \n",
       "18+                  NaN           NaN          1243.0             NaN   \n",
       "NC-17                3.0           NaN             3.0             NaN   \n",
       "R                  799.0         345.0          1010.0             NaN   \n",
       "TV-MA             3207.0         391.0            77.0             NaN   \n",
       "UNRATED              NaN           NaN            33.0             NaN   \n",
       "UR                   3.0           NaN             NaN             NaN   \n",
       "\n",
       "        Rating Category  \n",
       "rating                   \n",
       "18+              Adults  \n",
       "NC-17            Adults  \n",
       "R                Adults  \n",
       "TV-MA            Adults  \n",
       "UNRATED          Adults  \n",
       "UR               Adults  "
      ]
     },
     "execution_count": 10,
     "metadata": {},
     "output_type": "execute_result"
    }
   ],
   "source": [
    "Adults_Rating_All = All_rating_filtered_df[(All_rating_filtered_df[\"Rating Category\"] == \"Adults\")]\n",
    "Adults_Rating_All"
   ]
  },
  {
   "cell_type": "code",
   "execution_count": 11,
   "id": "7499851d-e869-49c1-badb-3bc68e841ad7",
   "metadata": {},
   "outputs": [
    {
     "data": {
      "text/plain": [
       "4012.0"
      ]
     },
     "execution_count": 11,
     "metadata": {},
     "output_type": "execute_result"
    }
   ],
   "source": [
    "Adults_Rating_Netflix = Adults_Rating_All[\"Netflix Ratings\"].sum()\n",
    "Adults_Rating_Netflix"
   ]
  },
  {
   "cell_type": "code",
   "execution_count": 12,
   "id": "cf4215a4-bf77-45ca-b328-c90df029b5b8",
   "metadata": {},
   "outputs": [
    {
     "data": {
      "text/plain": [
       "736.0"
      ]
     },
     "execution_count": 12,
     "metadata": {},
     "output_type": "execute_result"
    }
   ],
   "source": [
    "Adults_Rating_Hulu = Adults_Rating_All[\"Hulu Ratings\"].sum()\n",
    "Adults_Rating_Hulu"
   ]
  },
  {
   "cell_type": "code",
   "execution_count": 13,
   "id": "bec91ee5-a79b-48a0-a294-66b43737e34a",
   "metadata": {},
   "outputs": [
    {
     "data": {
      "text/plain": [
       "2366.0"
      ]
     },
     "execution_count": 13,
     "metadata": {},
     "output_type": "execute_result"
    }
   ],
   "source": [
    "Adults_Rating_Amazon = Adults_Rating_All[\"Amazon Ratings\"].sum()\n",
    "Adults_Rating_Amazon"
   ]
  },
  {
   "cell_type": "code",
   "execution_count": 14,
   "id": "01245f7b-6672-4240-a2dc-b4a298b2d882",
   "metadata": {},
   "outputs": [
    {
     "data": {
      "text/plain": [
       "0.0"
      ]
     },
     "execution_count": 14,
     "metadata": {},
     "output_type": "execute_result"
    }
   ],
   "source": [
    "Adults_Rating_Disney = Adults_Rating_All[\"Disney Ratings\"].sum()\n",
    "Adults_Rating_Disney"
   ]
  },
  {
   "cell_type": "code",
   "execution_count": 15,
   "id": "5ef39994-36a4-4667-a452-552fd0dce57d",
   "metadata": {},
   "outputs": [
    {
     "data": {
      "text/html": [
       "<div>\n",
       "<style scoped>\n",
       "    .dataframe tbody tr th:only-of-type {\n",
       "        vertical-align: middle;\n",
       "    }\n",
       "\n",
       "    .dataframe tbody tr th {\n",
       "        vertical-align: top;\n",
       "    }\n",
       "\n",
       "    .dataframe thead th {\n",
       "        text-align: right;\n",
       "    }\n",
       "</style>\n",
       "<table border=\"1\" class=\"dataframe\">\n",
       "  <thead>\n",
       "    <tr style=\"text-align: right;\">\n",
       "      <th></th>\n",
       "      <th>Netflix Ratings</th>\n",
       "      <th>Hulu Ratings</th>\n",
       "      <th>Amazon Ratings</th>\n",
       "      <th>Disney Ratings</th>\n",
       "      <th>Rating Category</th>\n",
       "    </tr>\n",
       "    <tr>\n",
       "      <th>rating</th>\n",
       "      <th></th>\n",
       "      <th></th>\n",
       "      <th></th>\n",
       "      <th></th>\n",
       "      <th></th>\n",
       "    </tr>\n",
       "  </thead>\n",
       "  <tbody>\n",
       "    <tr>\n",
       "      <th>13+</th>\n",
       "      <td>NaN</td>\n",
       "      <td>NaN</td>\n",
       "      <td>2117.0</td>\n",
       "      <td>NaN</td>\n",
       "      <td>Teens</td>\n",
       "    </tr>\n",
       "    <tr>\n",
       "      <th>16+</th>\n",
       "      <td>NaN</td>\n",
       "      <td>NaN</td>\n",
       "      <td>1547.0</td>\n",
       "      <td>NaN</td>\n",
       "      <td>Teens</td>\n",
       "    </tr>\n",
       "    <tr>\n",
       "      <th>PG-13</th>\n",
       "      <td>490.0</td>\n",
       "      <td>163.0</td>\n",
       "      <td>393.0</td>\n",
       "      <td>66.0</td>\n",
       "      <td>Teens</td>\n",
       "    </tr>\n",
       "    <tr>\n",
       "      <th>TV-14</th>\n",
       "      <td>2160.0</td>\n",
       "      <td>691.0</td>\n",
       "      <td>208.0</td>\n",
       "      <td>79.0</td>\n",
       "      <td>Teens</td>\n",
       "    </tr>\n",
       "  </tbody>\n",
       "</table>\n",
       "</div>"
      ],
      "text/plain": [
       "        Netflix Ratings  Hulu Ratings  Amazon Ratings  Disney Ratings  \\\n",
       "rating                                                                  \n",
       "13+                 NaN           NaN          2117.0             NaN   \n",
       "16+                 NaN           NaN          1547.0             NaN   \n",
       "PG-13             490.0         163.0           393.0            66.0   \n",
       "TV-14            2160.0         691.0           208.0            79.0   \n",
       "\n",
       "       Rating Category  \n",
       "rating                  \n",
       "13+              Teens  \n",
       "16+              Teens  \n",
       "PG-13            Teens  \n",
       "TV-14            Teens  "
      ]
     },
     "execution_count": 15,
     "metadata": {},
     "output_type": "execute_result"
    }
   ],
   "source": [
    "Teens_Rating_All = All_rating_filtered_df[(All_rating_filtered_df[\"Rating Category\"] == \"Teens\")]\n",
    "Teens_Rating_All"
   ]
  },
  {
   "cell_type": "code",
   "execution_count": 16,
   "id": "1cab9c35-cb7a-452d-9cd4-4bbdd5c7a34f",
   "metadata": {},
   "outputs": [
    {
     "data": {
      "text/plain": [
       "2650.0"
      ]
     },
     "execution_count": 16,
     "metadata": {},
     "output_type": "execute_result"
    }
   ],
   "source": [
    "Teens_Rating_Netflix = Teens_Rating_All[\"Netflix Ratings\"].sum()\n",
    "Teens_Rating_Netflix"
   ]
  },
  {
   "cell_type": "code",
   "execution_count": 17,
   "id": "2a9b1592-8456-4c9a-9c6b-e97a68cc72c5",
   "metadata": {},
   "outputs": [
    {
     "data": {
      "text/plain": [
       "854.0"
      ]
     },
     "execution_count": 17,
     "metadata": {},
     "output_type": "execute_result"
    }
   ],
   "source": [
    "Teens_Rating_Hulu = Teens_Rating_All[\"Hulu Ratings\"].sum()\n",
    "Teens_Rating_Hulu"
   ]
  },
  {
   "cell_type": "code",
   "execution_count": 18,
   "id": "71c244e5-529e-4248-9326-1f58de6f85c6",
   "metadata": {},
   "outputs": [
    {
     "data": {
      "text/plain": [
       "4265.0"
      ]
     },
     "execution_count": 18,
     "metadata": {},
     "output_type": "execute_result"
    }
   ],
   "source": [
    "Teens_Rating_Amazon = Teens_Rating_All[\"Amazon Ratings\"].sum()\n",
    "Teens_Rating_Amazon"
   ]
  },
  {
   "cell_type": "code",
   "execution_count": 19,
   "id": "fe1a4998-32e3-4e50-9496-4fd09fe73517",
   "metadata": {},
   "outputs": [
    {
     "data": {
      "text/plain": [
       "145.0"
      ]
     },
     "execution_count": 19,
     "metadata": {},
     "output_type": "execute_result"
    }
   ],
   "source": [
    "Teens_Rating_Disney = Teens_Rating_All[\"Disney Ratings\"].sum()\n",
    "Teens_Rating_Disney"
   ]
  },
  {
   "cell_type": "code",
   "execution_count": 20,
   "id": "5cc373f7-7c9c-47cc-9ff0-1937d7b7b64f",
   "metadata": {},
   "outputs": [
    {
     "data": {
      "text/html": [
       "<div>\n",
       "<style scoped>\n",
       "    .dataframe tbody tr th:only-of-type {\n",
       "        vertical-align: middle;\n",
       "    }\n",
       "\n",
       "    .dataframe tbody tr th {\n",
       "        vertical-align: top;\n",
       "    }\n",
       "\n",
       "    .dataframe thead th {\n",
       "        text-align: right;\n",
       "    }\n",
       "</style>\n",
       "<table border=\"1\" class=\"dataframe\">\n",
       "  <thead>\n",
       "    <tr style=\"text-align: right;\">\n",
       "      <th></th>\n",
       "      <th>Netflix Ratings</th>\n",
       "      <th>Hulu Ratings</th>\n",
       "      <th>Amazon Ratings</th>\n",
       "      <th>Disney Ratings</th>\n",
       "      <th>Rating Category</th>\n",
       "    </tr>\n",
       "    <tr>\n",
       "      <th>rating</th>\n",
       "      <th></th>\n",
       "      <th></th>\n",
       "      <th></th>\n",
       "      <th></th>\n",
       "      <th></th>\n",
       "    </tr>\n",
       "  </thead>\n",
       "  <tbody>\n",
       "    <tr>\n",
       "      <th>7+</th>\n",
       "      <td>NaN</td>\n",
       "      <td>NaN</td>\n",
       "      <td>385.0</td>\n",
       "      <td>NaN</td>\n",
       "      <td>Kids</td>\n",
       "    </tr>\n",
       "    <tr>\n",
       "      <th>PG</th>\n",
       "      <td>287.0</td>\n",
       "      <td>105.0</td>\n",
       "      <td>253.0</td>\n",
       "      <td>236.0</td>\n",
       "      <td>Kids</td>\n",
       "    </tr>\n",
       "    <tr>\n",
       "      <th>TV-PG</th>\n",
       "      <td>863.0</td>\n",
       "      <td>321.0</td>\n",
       "      <td>169.0</td>\n",
       "      <td>301.0</td>\n",
       "      <td>Kids</td>\n",
       "    </tr>\n",
       "    <tr>\n",
       "      <th>TV-Y7</th>\n",
       "      <td>334.0</td>\n",
       "      <td>46.0</td>\n",
       "      <td>39.0</td>\n",
       "      <td>131.0</td>\n",
       "      <td>Kids</td>\n",
       "    </tr>\n",
       "    <tr>\n",
       "      <th>TV-Y7-FV</th>\n",
       "      <td>6.0</td>\n",
       "      <td>NaN</td>\n",
       "      <td>NaN</td>\n",
       "      <td>13.0</td>\n",
       "      <td>Kids</td>\n",
       "    </tr>\n",
       "  </tbody>\n",
       "</table>\n",
       "</div>"
      ],
      "text/plain": [
       "          Netflix Ratings  Hulu Ratings  Amazon Ratings  Disney Ratings  \\\n",
       "rating                                                                    \n",
       "7+                    NaN           NaN           385.0             NaN   \n",
       "PG                  287.0         105.0           253.0           236.0   \n",
       "TV-PG               863.0         321.0           169.0           301.0   \n",
       "TV-Y7               334.0          46.0            39.0           131.0   \n",
       "TV-Y7-FV              6.0           NaN             NaN            13.0   \n",
       "\n",
       "         Rating Category  \n",
       "rating                    \n",
       "7+                  Kids  \n",
       "PG                  Kids  \n",
       "TV-PG               Kids  \n",
       "TV-Y7               Kids  \n",
       "TV-Y7-FV            Kids  "
      ]
     },
     "execution_count": 20,
     "metadata": {},
     "output_type": "execute_result"
    }
   ],
   "source": [
    "Kids_Rating_All = All_rating_filtered_df[(All_rating_filtered_df[\"Rating Category\"] == \"Kids\")]\n",
    "Kids_Rating_All"
   ]
  },
  {
   "cell_type": "code",
   "execution_count": 21,
   "id": "c613b821-ce41-48e1-a49e-62a1ea7e2b36",
   "metadata": {},
   "outputs": [
    {
     "data": {
      "text/plain": [
       "1490.0"
      ]
     },
     "execution_count": 21,
     "metadata": {},
     "output_type": "execute_result"
    }
   ],
   "source": [
    "Kids_Rating_Netflix = Kids_Rating_All[\"Netflix Ratings\"].sum()\n",
    "Kids_Rating_Netflix"
   ]
  },
  {
   "cell_type": "code",
   "execution_count": 22,
   "id": "1f0744e6-5a20-4d34-b078-63c4a5e43b88",
   "metadata": {},
   "outputs": [
    {
     "data": {
      "text/plain": [
       "472.0"
      ]
     },
     "execution_count": 22,
     "metadata": {},
     "output_type": "execute_result"
    }
   ],
   "source": [
    "Kids_Rating_Hulu = Kids_Rating_All[\"Hulu Ratings\"].sum()\n",
    "Kids_Rating_Hulu"
   ]
  },
  {
   "cell_type": "code",
   "execution_count": 23,
   "id": "90252d7e-2f07-4ef4-9b86-fa141721eb07",
   "metadata": {},
   "outputs": [
    {
     "data": {
      "text/plain": [
       "846.0"
      ]
     },
     "execution_count": 23,
     "metadata": {},
     "output_type": "execute_result"
    }
   ],
   "source": [
    "Kids_Rating_Amazon = Kids_Rating_All[\"Amazon Ratings\"].sum()\n",
    "Kids_Rating_Amazon"
   ]
  },
  {
   "cell_type": "code",
   "execution_count": 24,
   "id": "62c03967-bd3a-4f5a-be3c-1c6f55761809",
   "metadata": {},
   "outputs": [
    {
     "data": {
      "text/plain": [
       "681.0"
      ]
     },
     "execution_count": 24,
     "metadata": {},
     "output_type": "execute_result"
    }
   ],
   "source": [
    "Kids_Rating_Disney = Kids_Rating_All[\"Disney Ratings\"].sum()\n",
    "Kids_Rating_Disney"
   ]
  },
  {
   "cell_type": "code",
   "execution_count": 25,
   "id": "328803a3-2939-4e66-8d78-53385371a033",
   "metadata": {},
   "outputs": [
    {
     "data": {
      "text/html": [
       "<div>\n",
       "<style scoped>\n",
       "    .dataframe tbody tr th:only-of-type {\n",
       "        vertical-align: middle;\n",
       "    }\n",
       "\n",
       "    .dataframe tbody tr th {\n",
       "        vertical-align: top;\n",
       "    }\n",
       "\n",
       "    .dataframe thead th {\n",
       "        text-align: right;\n",
       "    }\n",
       "</style>\n",
       "<table border=\"1\" class=\"dataframe\">\n",
       "  <thead>\n",
       "    <tr style=\"text-align: right;\">\n",
       "      <th></th>\n",
       "      <th>Netflix Ratings</th>\n",
       "      <th>Hulu Ratings</th>\n",
       "      <th>Amazon Ratings</th>\n",
       "      <th>Disney Ratings</th>\n",
       "      <th>Rating Category</th>\n",
       "    </tr>\n",
       "    <tr>\n",
       "      <th>rating</th>\n",
       "      <th></th>\n",
       "      <th></th>\n",
       "      <th></th>\n",
       "      <th></th>\n",
       "      <th></th>\n",
       "    </tr>\n",
       "  </thead>\n",
       "  <tbody>\n",
       "    <tr>\n",
       "      <th>ALL</th>\n",
       "      <td>NaN</td>\n",
       "      <td>NaN</td>\n",
       "      <td>1268.0</td>\n",
       "      <td>NaN</td>\n",
       "      <td>All Ages</td>\n",
       "    </tr>\n",
       "    <tr>\n",
       "      <th>G</th>\n",
       "      <td>41.0</td>\n",
       "      <td>18.0</td>\n",
       "      <td>93.0</td>\n",
       "      <td>253.0</td>\n",
       "      <td>All Ages</td>\n",
       "    </tr>\n",
       "    <tr>\n",
       "      <th>TV-G</th>\n",
       "      <td>220.0</td>\n",
       "      <td>148.0</td>\n",
       "      <td>81.0</td>\n",
       "      <td>318.0</td>\n",
       "      <td>All Ages</td>\n",
       "    </tr>\n",
       "    <tr>\n",
       "      <th>TV-Y</th>\n",
       "      <td>307.0</td>\n",
       "      <td>31.0</td>\n",
       "      <td>74.0</td>\n",
       "      <td>50.0</td>\n",
       "      <td>All Ages</td>\n",
       "    </tr>\n",
       "  </tbody>\n",
       "</table>\n",
       "</div>"
      ],
      "text/plain": [
       "        Netflix Ratings  Hulu Ratings  Amazon Ratings  Disney Ratings  \\\n",
       "rating                                                                  \n",
       "ALL                 NaN           NaN          1268.0             NaN   \n",
       "G                  41.0          18.0            93.0           253.0   \n",
       "TV-G              220.0         148.0            81.0           318.0   \n",
       "TV-Y              307.0          31.0            74.0            50.0   \n",
       "\n",
       "       Rating Category  \n",
       "rating                  \n",
       "ALL           All Ages  \n",
       "G             All Ages  \n",
       "TV-G          All Ages  \n",
       "TV-Y          All Ages  "
      ]
     },
     "execution_count": 25,
     "metadata": {},
     "output_type": "execute_result"
    }
   ],
   "source": [
    "AllAges_Rating_All = All_rating_filtered_df[(All_rating_filtered_df[\"Rating Category\"] == \"All Ages\")]\n",
    "AllAges_Rating_All"
   ]
  },
  {
   "cell_type": "code",
   "execution_count": 26,
   "id": "524bdd51-f110-4961-88d1-9dce9c079703",
   "metadata": {},
   "outputs": [
    {
     "data": {
      "text/plain": [
       "568.0"
      ]
     },
     "execution_count": 26,
     "metadata": {},
     "output_type": "execute_result"
    }
   ],
   "source": [
    "AllAges_Rating_Netflix = AllAges_Rating_All[\"Netflix Ratings\"].sum()\n",
    "AllAges_Rating_Netflix"
   ]
  },
  {
   "cell_type": "code",
   "execution_count": 27,
   "id": "f2161647-59ef-497e-b5d2-997125846073",
   "metadata": {},
   "outputs": [
    {
     "data": {
      "text/plain": [
       "197.0"
      ]
     },
     "execution_count": 27,
     "metadata": {},
     "output_type": "execute_result"
    }
   ],
   "source": [
    "AllAges_Rating_Hulu = AllAges_Rating_All[\"Hulu Ratings\"].sum()\n",
    "AllAges_Rating_Hulu"
   ]
  },
  {
   "cell_type": "code",
   "execution_count": 28,
   "id": "d08f8b00-b4bc-489f-99f4-614c2790c42a",
   "metadata": {},
   "outputs": [
    {
     "data": {
      "text/plain": [
       "1516.0"
      ]
     },
     "execution_count": 28,
     "metadata": {},
     "output_type": "execute_result"
    }
   ],
   "source": [
    "AllAges_Rating_Amazon = AllAges_Rating_All[\"Amazon Ratings\"].sum()\n",
    "AllAges_Rating_Amazon"
   ]
  },
  {
   "cell_type": "code",
   "execution_count": 29,
   "id": "bb9a246a-8cd6-456c-ae5f-adbd63d6a00b",
   "metadata": {},
   "outputs": [
    {
     "data": {
      "text/plain": [
       "621.0"
      ]
     },
     "execution_count": 29,
     "metadata": {},
     "output_type": "execute_result"
    }
   ],
   "source": [
    "AllAges_Rating_Disney = AllAges_Rating_All[\"Disney Ratings\"].sum()\n",
    "AllAges_Rating_Disney"
   ]
  },
  {
   "cell_type": "code",
   "execution_count": 30,
   "id": "df758c0d",
   "metadata": {},
   "outputs": [
    {
     "data": {
      "text/html": [
       "<div>\n",
       "<style scoped>\n",
       "    .dataframe tbody tr th:only-of-type {\n",
       "        vertical-align: middle;\n",
       "    }\n",
       "\n",
       "    .dataframe tbody tr th {\n",
       "        vertical-align: top;\n",
       "    }\n",
       "\n",
       "    .dataframe thead th {\n",
       "        text-align: right;\n",
       "    }\n",
       "</style>\n",
       "<table border=\"1\" class=\"dataframe\">\n",
       "  <thead>\n",
       "    <tr style=\"text-align: right;\">\n",
       "      <th></th>\n",
       "      <th>Netflix Ratings</th>\n",
       "      <th>Hulu Ratings</th>\n",
       "      <th>Amazon Ratings</th>\n",
       "      <th>Disney Ratings</th>\n",
       "    </tr>\n",
       "  </thead>\n",
       "  <tbody>\n",
       "    <tr>\n",
       "      <th>All Ages</th>\n",
       "      <td>568.0</td>\n",
       "      <td>197.0</td>\n",
       "      <td>1516.0</td>\n",
       "      <td>621.0</td>\n",
       "    </tr>\n",
       "  </tbody>\n",
       "</table>\n",
       "</div>"
      ],
      "text/plain": [
       "          Netflix Ratings  Hulu Ratings  Amazon Ratings  Disney Ratings\n",
       "All Ages            568.0         197.0          1516.0           621.0"
      ]
     },
     "execution_count": 30,
     "metadata": {},
     "output_type": "execute_result"
    }
   ],
   "source": [
    "AllAges_Rating_All_Df = pd.DataFrame (\n",
    "    {\"Netflix Ratings\": [AllAges_Rating_Netflix],\n",
    "     \"Hulu Ratings\": [AllAges_Rating_Hulu],\n",
    "     \"Amazon Ratings\": [AllAges_Rating_Amazon],\n",
    "     \"Disney Ratings\": [AllAges_Rating_Disney]},\n",
    "index=[\"All Ages\"])\n",
    "\n",
    "AllAges_Rating_All_Df"
   ]
  },
  {
   "cell_type": "code",
   "execution_count": 31,
   "id": "46b6b290",
   "metadata": {},
   "outputs": [
    {
     "data": {
      "text/html": [
       "<div>\n",
       "<style scoped>\n",
       "    .dataframe tbody tr th:only-of-type {\n",
       "        vertical-align: middle;\n",
       "    }\n",
       "\n",
       "    .dataframe tbody tr th {\n",
       "        vertical-align: top;\n",
       "    }\n",
       "\n",
       "    .dataframe thead th {\n",
       "        text-align: right;\n",
       "    }\n",
       "</style>\n",
       "<table border=\"1\" class=\"dataframe\">\n",
       "  <thead>\n",
       "    <tr style=\"text-align: right;\">\n",
       "      <th></th>\n",
       "      <th>Netflix Ratings</th>\n",
       "      <th>Hulu Ratings</th>\n",
       "      <th>Amazon Ratings</th>\n",
       "      <th>Disney Ratings</th>\n",
       "    </tr>\n",
       "  </thead>\n",
       "  <tbody>\n",
       "    <tr>\n",
       "      <th>Kids</th>\n",
       "      <td>1490.0</td>\n",
       "      <td>472.0</td>\n",
       "      <td>846.0</td>\n",
       "      <td>681.0</td>\n",
       "    </tr>\n",
       "  </tbody>\n",
       "</table>\n",
       "</div>"
      ],
      "text/plain": [
       "      Netflix Ratings  Hulu Ratings  Amazon Ratings  Disney Ratings\n",
       "Kids           1490.0         472.0           846.0           681.0"
      ]
     },
     "execution_count": 31,
     "metadata": {},
     "output_type": "execute_result"
    }
   ],
   "source": [
    "Kids_Rating_All_Df = pd.DataFrame (\n",
    "    {\"Netflix Ratings\": [Kids_Rating_Netflix],\n",
    "     \"Hulu Ratings\": [Kids_Rating_Hulu],\n",
    "     \"Amazon Ratings\": [Kids_Rating_Amazon],\n",
    "     \"Disney Ratings\": [Kids_Rating_Disney]},\n",
    "index=[\"Kids\"])\n",
    "\n",
    "Kids_Rating_All_Df"
   ]
  },
  {
   "cell_type": "code",
   "execution_count": 32,
   "id": "e05c90ed",
   "metadata": {},
   "outputs": [
    {
     "data": {
      "text/html": [
       "<div>\n",
       "<style scoped>\n",
       "    .dataframe tbody tr th:only-of-type {\n",
       "        vertical-align: middle;\n",
       "    }\n",
       "\n",
       "    .dataframe tbody tr th {\n",
       "        vertical-align: top;\n",
       "    }\n",
       "\n",
       "    .dataframe thead th {\n",
       "        text-align: right;\n",
       "    }\n",
       "</style>\n",
       "<table border=\"1\" class=\"dataframe\">\n",
       "  <thead>\n",
       "    <tr style=\"text-align: right;\">\n",
       "      <th></th>\n",
       "      <th>Netflix Ratings</th>\n",
       "      <th>Hulu Ratings</th>\n",
       "      <th>Amazon Ratings</th>\n",
       "      <th>Disney Ratings</th>\n",
       "    </tr>\n",
       "  </thead>\n",
       "  <tbody>\n",
       "    <tr>\n",
       "      <th>Teens</th>\n",
       "      <td>2650.0</td>\n",
       "      <td>854.0</td>\n",
       "      <td>4265.0</td>\n",
       "      <td>145.0</td>\n",
       "    </tr>\n",
       "  </tbody>\n",
       "</table>\n",
       "</div>"
      ],
      "text/plain": [
       "       Netflix Ratings  Hulu Ratings  Amazon Ratings  Disney Ratings\n",
       "Teens           2650.0         854.0          4265.0           145.0"
      ]
     },
     "execution_count": 32,
     "metadata": {},
     "output_type": "execute_result"
    }
   ],
   "source": [
    "Teens_Rating_All_Df = pd.DataFrame (\n",
    "    {\"Netflix Ratings\": [Teens_Rating_Netflix],\n",
    "     \"Hulu Ratings\": [Teens_Rating_Hulu],\n",
    "     \"Amazon Ratings\": [Teens_Rating_Amazon],\n",
    "     \"Disney Ratings\": [Teens_Rating_Disney]},\n",
    "index=[\"Teens\"])\n",
    "\n",
    "Teens_Rating_All_Df"
   ]
  },
  {
   "cell_type": "code",
   "execution_count": 33,
   "id": "1073d41e",
   "metadata": {},
   "outputs": [
    {
     "data": {
      "text/html": [
       "<div>\n",
       "<style scoped>\n",
       "    .dataframe tbody tr th:only-of-type {\n",
       "        vertical-align: middle;\n",
       "    }\n",
       "\n",
       "    .dataframe tbody tr th {\n",
       "        vertical-align: top;\n",
       "    }\n",
       "\n",
       "    .dataframe thead th {\n",
       "        text-align: right;\n",
       "    }\n",
       "</style>\n",
       "<table border=\"1\" class=\"dataframe\">\n",
       "  <thead>\n",
       "    <tr style=\"text-align: right;\">\n",
       "      <th></th>\n",
       "      <th>Netflix Ratings</th>\n",
       "      <th>Hulu Ratings</th>\n",
       "      <th>Amazon Ratings</th>\n",
       "      <th>Disney Ratings</th>\n",
       "    </tr>\n",
       "  </thead>\n",
       "  <tbody>\n",
       "    <tr>\n",
       "      <th>Adults</th>\n",
       "      <td>4012.0</td>\n",
       "      <td>736.0</td>\n",
       "      <td>2366.0</td>\n",
       "      <td>0.0</td>\n",
       "    </tr>\n",
       "  </tbody>\n",
       "</table>\n",
       "</div>"
      ],
      "text/plain": [
       "        Netflix Ratings  Hulu Ratings  Amazon Ratings  Disney Ratings\n",
       "Adults           4012.0         736.0          2366.0             0.0"
      ]
     },
     "execution_count": 33,
     "metadata": {},
     "output_type": "execute_result"
    }
   ],
   "source": [
    "Adults_Rating_All_Df = pd.DataFrame (\n",
    "    {\"Netflix Ratings\": [Adults_Rating_Netflix],\n",
    "     \"Hulu Ratings\": [Adults_Rating_Hulu],\n",
    "     \"Amazon Ratings\": [Adults_Rating_Amazon],\n",
    "     \"Disney Ratings\": [Adults_Rating_Disney]},\n",
    "index=[\"Adults\"])\n",
    "\n",
    "Adults_Rating_All_Df"
   ]
  },
  {
   "cell_type": "code",
   "execution_count": 34,
   "id": "e686afd9",
   "metadata": {
    "scrolled": false
   },
   "outputs": [
    {
     "data": {
      "text/html": [
       "<div>\n",
       "<style scoped>\n",
       "    .dataframe tbody tr th:only-of-type {\n",
       "        vertical-align: middle;\n",
       "    }\n",
       "\n",
       "    .dataframe tbody tr th {\n",
       "        vertical-align: top;\n",
       "    }\n",
       "\n",
       "    .dataframe thead th {\n",
       "        text-align: right;\n",
       "    }\n",
       "</style>\n",
       "<table border=\"1\" class=\"dataframe\">\n",
       "  <thead>\n",
       "    <tr style=\"text-align: right;\">\n",
       "      <th></th>\n",
       "      <th>Netflix</th>\n",
       "      <th>Hulu</th>\n",
       "      <th>Amazon</th>\n",
       "      <th>Disney</th>\n",
       "    </tr>\n",
       "  </thead>\n",
       "  <tbody>\n",
       "    <tr>\n",
       "      <th>All Ages</th>\n",
       "      <td>568.0</td>\n",
       "      <td>197.0</td>\n",
       "      <td>1516.0</td>\n",
       "      <td>621.0</td>\n",
       "    </tr>\n",
       "    <tr>\n",
       "      <th>Kids</th>\n",
       "      <td>1490.0</td>\n",
       "      <td>472.0</td>\n",
       "      <td>846.0</td>\n",
       "      <td>681.0</td>\n",
       "    </tr>\n",
       "    <tr>\n",
       "      <th>Teens</th>\n",
       "      <td>2650.0</td>\n",
       "      <td>854.0</td>\n",
       "      <td>4265.0</td>\n",
       "      <td>145.0</td>\n",
       "    </tr>\n",
       "    <tr>\n",
       "      <th>Adults</th>\n",
       "      <td>4012.0</td>\n",
       "      <td>736.0</td>\n",
       "      <td>2366.0</td>\n",
       "      <td>0.0</td>\n",
       "    </tr>\n",
       "  </tbody>\n",
       "</table>\n",
       "</div>"
      ],
      "text/plain": [
       "          Netflix   Hulu  Amazon  Disney\n",
       "All Ages    568.0  197.0  1516.0   621.0\n",
       "Kids       1490.0  472.0   846.0   681.0\n",
       "Teens      2650.0  854.0  4265.0   145.0\n",
       "Adults     4012.0  736.0  2366.0     0.0"
      ]
     },
     "execution_count": 34,
     "metadata": {},
     "output_type": "execute_result"
    }
   ],
   "source": [
    "All_Ratings_Complete_Df = pd.DataFrame (\n",
    "    {\"Netflix\": [AllAges_Rating_Netflix, Kids_Rating_Netflix, Teens_Rating_Netflix, Adults_Rating_Netflix],\n",
    "     \"Hulu\": [AllAges_Rating_Hulu, Kids_Rating_Hulu, Teens_Rating_Hulu, Adults_Rating_Hulu],\n",
    "     \"Amazon\": [AllAges_Rating_Amazon, Kids_Rating_Amazon, Teens_Rating_Amazon, Adults_Rating_Amazon],\n",
    "     \"Disney\": [AllAges_Rating_Disney, Kids_Rating_Disney, Teens_Rating_Disney, Adults_Rating_Disney]},\n",
    "index=[\"All Ages\", \"Kids\", \"Teens\", \"Adults\"])\n",
    "\n",
    "All_Ratings_Complete_Df"
   ]
  },
  {
   "cell_type": "code",
   "execution_count": 70,
   "id": "05378017",
   "metadata": {},
   "outputs": [],
   "source": [
    "All_Ratings_Complete_Df.to_csv('Ratings_Summary.csv', index=True)"
   ]
  },
  {
   "cell_type": "code",
   "execution_count": 62,
   "id": "3aa939be",
   "metadata": {
    "scrolled": true
   },
   "outputs": [
    {
     "data": {
      "text/plain": [
       "All Ages     568.0\n",
       "Kids        1490.0\n",
       "Teens       2650.0\n",
       "Adults      4012.0\n",
       "Name: Netflix, dtype: float64"
      ]
     },
     "execution_count": 62,
     "metadata": {},
     "output_type": "execute_result"
    }
   ],
   "source": [
    "Netflix_All_Ratings_Complete_Df = All_Ratings_Complete_Df[\"Netflix\"]\n",
    "Netflix_All_Ratings_Complete_Df"
   ]
  },
  {
   "cell_type": "code",
   "execution_count": 64,
   "id": "01f1449d",
   "metadata": {
    "scrolled": true
   },
   "outputs": [
    {
     "data": {
      "text/plain": [
       "All Ages    197.0\n",
       "Kids        472.0\n",
       "Teens       854.0\n",
       "Adults      736.0\n",
       "Name: Hulu, dtype: float64"
      ]
     },
     "execution_count": 64,
     "metadata": {},
     "output_type": "execute_result"
    }
   ],
   "source": [
    "Hulu_All_Ratings_Complete_Df = All_Ratings_Complete_Df[\"Hulu\"]\n",
    "Hulu_All_Ratings_Complete_Df"
   ]
  },
  {
   "cell_type": "code",
   "execution_count": 65,
   "id": "d78425d2",
   "metadata": {},
   "outputs": [
    {
     "data": {
      "text/plain": [
       "All Ages    1516.0\n",
       "Kids         846.0\n",
       "Teens       4265.0\n",
       "Adults      2366.0\n",
       "Name: Amazon, dtype: float64"
      ]
     },
     "execution_count": 65,
     "metadata": {},
     "output_type": "execute_result"
    }
   ],
   "source": [
    "Amazon_All_Ratings_Complete_Df = All_Ratings_Complete_Df[\"Amazon\"]\n",
    "Amazon_All_Ratings_Complete_Df"
   ]
  },
  {
   "cell_type": "code",
   "execution_count": 66,
   "id": "27205e3f",
   "metadata": {},
   "outputs": [
    {
     "data": {
      "text/plain": [
       "All Ages    621.0\n",
       "Kids        681.0\n",
       "Teens       145.0\n",
       "Adults        0.0\n",
       "Name: Disney, dtype: float64"
      ]
     },
     "execution_count": 66,
     "metadata": {},
     "output_type": "execute_result"
    }
   ],
   "source": [
    "Disney_All_Ratings_Complete_Df = All_Ratings_Complete_Df[\"Disney\"]\n",
    "Disney_All_Ratings_Complete_Df"
   ]
  },
  {
   "cell_type": "code",
   "execution_count": 69,
   "id": "86964591",
   "metadata": {
    "scrolled": true
   },
   "outputs": [
    {
     "data": {
      "application/vnd.plotly.v1+json": {
       "config": {
        "plotlyServerURL": "https://plot.ly"
       },
       "data": [
        {
         "name": "Netflix",
         "type": "bar",
         "x": [
          "All Ages",
          "Kids",
          "Teens",
          "Adults"
         ],
         "y": [
          568,
          1490,
          2650,
          4012
         ]
        },
        {
         "name": "Hulu",
         "type": "bar",
         "visible": false,
         "x": [
          "All Ages",
          "Kids",
          "Teens",
          "Adults"
         ],
         "y": [
          197,
          472,
          854,
          736
         ]
        },
        {
         "name": "Amazon",
         "type": "bar",
         "visible": false,
         "x": [
          "All Ages",
          "Kids",
          "Teens",
          "Adults"
         ],
         "y": [
          1516,
          846,
          4265,
          2366
         ]
        },
        {
         "name": "Disney",
         "type": "bar",
         "visible": false,
         "x": [
          "All Ages",
          "Kids",
          "Teens",
          "Adults"
         ],
         "y": [
          621,
          681,
          145,
          0
         ]
        }
       ],
       "layout": {
        "template": {
         "data": {
          "bar": [
           {
            "error_x": {
             "color": "#2a3f5f"
            },
            "error_y": {
             "color": "#2a3f5f"
            },
            "marker": {
             "line": {
              "color": "#E5ECF6",
              "width": 0.5
             },
             "pattern": {
              "fillmode": "overlay",
              "size": 10,
              "solidity": 0.2
             }
            },
            "type": "bar"
           }
          ],
          "barpolar": [
           {
            "marker": {
             "line": {
              "color": "#E5ECF6",
              "width": 0.5
             },
             "pattern": {
              "fillmode": "overlay",
              "size": 10,
              "solidity": 0.2
             }
            },
            "type": "barpolar"
           }
          ],
          "carpet": [
           {
            "aaxis": {
             "endlinecolor": "#2a3f5f",
             "gridcolor": "white",
             "linecolor": "white",
             "minorgridcolor": "white",
             "startlinecolor": "#2a3f5f"
            },
            "baxis": {
             "endlinecolor": "#2a3f5f",
             "gridcolor": "white",
             "linecolor": "white",
             "minorgridcolor": "white",
             "startlinecolor": "#2a3f5f"
            },
            "type": "carpet"
           }
          ],
          "choropleth": [
           {
            "colorbar": {
             "outlinewidth": 0,
             "ticks": ""
            },
            "type": "choropleth"
           }
          ],
          "contour": [
           {
            "colorbar": {
             "outlinewidth": 0,
             "ticks": ""
            },
            "colorscale": [
             [
              0,
              "#0d0887"
             ],
             [
              0.1111111111111111,
              "#46039f"
             ],
             [
              0.2222222222222222,
              "#7201a8"
             ],
             [
              0.3333333333333333,
              "#9c179e"
             ],
             [
              0.4444444444444444,
              "#bd3786"
             ],
             [
              0.5555555555555556,
              "#d8576b"
             ],
             [
              0.6666666666666666,
              "#ed7953"
             ],
             [
              0.7777777777777778,
              "#fb9f3a"
             ],
             [
              0.8888888888888888,
              "#fdca26"
             ],
             [
              1,
              "#f0f921"
             ]
            ],
            "type": "contour"
           }
          ],
          "contourcarpet": [
           {
            "colorbar": {
             "outlinewidth": 0,
             "ticks": ""
            },
            "type": "contourcarpet"
           }
          ],
          "heatmap": [
           {
            "colorbar": {
             "outlinewidth": 0,
             "ticks": ""
            },
            "colorscale": [
             [
              0,
              "#0d0887"
             ],
             [
              0.1111111111111111,
              "#46039f"
             ],
             [
              0.2222222222222222,
              "#7201a8"
             ],
             [
              0.3333333333333333,
              "#9c179e"
             ],
             [
              0.4444444444444444,
              "#bd3786"
             ],
             [
              0.5555555555555556,
              "#d8576b"
             ],
             [
              0.6666666666666666,
              "#ed7953"
             ],
             [
              0.7777777777777778,
              "#fb9f3a"
             ],
             [
              0.8888888888888888,
              "#fdca26"
             ],
             [
              1,
              "#f0f921"
             ]
            ],
            "type": "heatmap"
           }
          ],
          "heatmapgl": [
           {
            "colorbar": {
             "outlinewidth": 0,
             "ticks": ""
            },
            "colorscale": [
             [
              0,
              "#0d0887"
             ],
             [
              0.1111111111111111,
              "#46039f"
             ],
             [
              0.2222222222222222,
              "#7201a8"
             ],
             [
              0.3333333333333333,
              "#9c179e"
             ],
             [
              0.4444444444444444,
              "#bd3786"
             ],
             [
              0.5555555555555556,
              "#d8576b"
             ],
             [
              0.6666666666666666,
              "#ed7953"
             ],
             [
              0.7777777777777778,
              "#fb9f3a"
             ],
             [
              0.8888888888888888,
              "#fdca26"
             ],
             [
              1,
              "#f0f921"
             ]
            ],
            "type": "heatmapgl"
           }
          ],
          "histogram": [
           {
            "marker": {
             "pattern": {
              "fillmode": "overlay",
              "size": 10,
              "solidity": 0.2
             }
            },
            "type": "histogram"
           }
          ],
          "histogram2d": [
           {
            "colorbar": {
             "outlinewidth": 0,
             "ticks": ""
            },
            "colorscale": [
             [
              0,
              "#0d0887"
             ],
             [
              0.1111111111111111,
              "#46039f"
             ],
             [
              0.2222222222222222,
              "#7201a8"
             ],
             [
              0.3333333333333333,
              "#9c179e"
             ],
             [
              0.4444444444444444,
              "#bd3786"
             ],
             [
              0.5555555555555556,
              "#d8576b"
             ],
             [
              0.6666666666666666,
              "#ed7953"
             ],
             [
              0.7777777777777778,
              "#fb9f3a"
             ],
             [
              0.8888888888888888,
              "#fdca26"
             ],
             [
              1,
              "#f0f921"
             ]
            ],
            "type": "histogram2d"
           }
          ],
          "histogram2dcontour": [
           {
            "colorbar": {
             "outlinewidth": 0,
             "ticks": ""
            },
            "colorscale": [
             [
              0,
              "#0d0887"
             ],
             [
              0.1111111111111111,
              "#46039f"
             ],
             [
              0.2222222222222222,
              "#7201a8"
             ],
             [
              0.3333333333333333,
              "#9c179e"
             ],
             [
              0.4444444444444444,
              "#bd3786"
             ],
             [
              0.5555555555555556,
              "#d8576b"
             ],
             [
              0.6666666666666666,
              "#ed7953"
             ],
             [
              0.7777777777777778,
              "#fb9f3a"
             ],
             [
              0.8888888888888888,
              "#fdca26"
             ],
             [
              1,
              "#f0f921"
             ]
            ],
            "type": "histogram2dcontour"
           }
          ],
          "mesh3d": [
           {
            "colorbar": {
             "outlinewidth": 0,
             "ticks": ""
            },
            "type": "mesh3d"
           }
          ],
          "parcoords": [
           {
            "line": {
             "colorbar": {
              "outlinewidth": 0,
              "ticks": ""
             }
            },
            "type": "parcoords"
           }
          ],
          "pie": [
           {
            "automargin": true,
            "type": "pie"
           }
          ],
          "scatter": [
           {
            "fillpattern": {
             "fillmode": "overlay",
             "size": 10,
             "solidity": 0.2
            },
            "type": "scatter"
           }
          ],
          "scatter3d": [
           {
            "line": {
             "colorbar": {
              "outlinewidth": 0,
              "ticks": ""
             }
            },
            "marker": {
             "colorbar": {
              "outlinewidth": 0,
              "ticks": ""
             }
            },
            "type": "scatter3d"
           }
          ],
          "scattercarpet": [
           {
            "marker": {
             "colorbar": {
              "outlinewidth": 0,
              "ticks": ""
             }
            },
            "type": "scattercarpet"
           }
          ],
          "scattergeo": [
           {
            "marker": {
             "colorbar": {
              "outlinewidth": 0,
              "ticks": ""
             }
            },
            "type": "scattergeo"
           }
          ],
          "scattergl": [
           {
            "marker": {
             "colorbar": {
              "outlinewidth": 0,
              "ticks": ""
             }
            },
            "type": "scattergl"
           }
          ],
          "scattermapbox": [
           {
            "marker": {
             "colorbar": {
              "outlinewidth": 0,
              "ticks": ""
             }
            },
            "type": "scattermapbox"
           }
          ],
          "scatterpolar": [
           {
            "marker": {
             "colorbar": {
              "outlinewidth": 0,
              "ticks": ""
             }
            },
            "type": "scatterpolar"
           }
          ],
          "scatterpolargl": [
           {
            "marker": {
             "colorbar": {
              "outlinewidth": 0,
              "ticks": ""
             }
            },
            "type": "scatterpolargl"
           }
          ],
          "scatterternary": [
           {
            "marker": {
             "colorbar": {
              "outlinewidth": 0,
              "ticks": ""
             }
            },
            "type": "scatterternary"
           }
          ],
          "surface": [
           {
            "colorbar": {
             "outlinewidth": 0,
             "ticks": ""
            },
            "colorscale": [
             [
              0,
              "#0d0887"
             ],
             [
              0.1111111111111111,
              "#46039f"
             ],
             [
              0.2222222222222222,
              "#7201a8"
             ],
             [
              0.3333333333333333,
              "#9c179e"
             ],
             [
              0.4444444444444444,
              "#bd3786"
             ],
             [
              0.5555555555555556,
              "#d8576b"
             ],
             [
              0.6666666666666666,
              "#ed7953"
             ],
             [
              0.7777777777777778,
              "#fb9f3a"
             ],
             [
              0.8888888888888888,
              "#fdca26"
             ],
             [
              1,
              "#f0f921"
             ]
            ],
            "type": "surface"
           }
          ],
          "table": [
           {
            "cells": {
             "fill": {
              "color": "#EBF0F8"
             },
             "line": {
              "color": "white"
             }
            },
            "header": {
             "fill": {
              "color": "#C8D4E3"
             },
             "line": {
              "color": "white"
             }
            },
            "type": "table"
           }
          ]
         },
         "layout": {
          "annotationdefaults": {
           "arrowcolor": "#2a3f5f",
           "arrowhead": 0,
           "arrowwidth": 1
          },
          "autotypenumbers": "strict",
          "coloraxis": {
           "colorbar": {
            "outlinewidth": 0,
            "ticks": ""
           }
          },
          "colorscale": {
           "diverging": [
            [
             0,
             "#8e0152"
            ],
            [
             0.1,
             "#c51b7d"
            ],
            [
             0.2,
             "#de77ae"
            ],
            [
             0.3,
             "#f1b6da"
            ],
            [
             0.4,
             "#fde0ef"
            ],
            [
             0.5,
             "#f7f7f7"
            ],
            [
             0.6,
             "#e6f5d0"
            ],
            [
             0.7,
             "#b8e186"
            ],
            [
             0.8,
             "#7fbc41"
            ],
            [
             0.9,
             "#4d9221"
            ],
            [
             1,
             "#276419"
            ]
           ],
           "sequential": [
            [
             0,
             "#0d0887"
            ],
            [
             0.1111111111111111,
             "#46039f"
            ],
            [
             0.2222222222222222,
             "#7201a8"
            ],
            [
             0.3333333333333333,
             "#9c179e"
            ],
            [
             0.4444444444444444,
             "#bd3786"
            ],
            [
             0.5555555555555556,
             "#d8576b"
            ],
            [
             0.6666666666666666,
             "#ed7953"
            ],
            [
             0.7777777777777778,
             "#fb9f3a"
            ],
            [
             0.8888888888888888,
             "#fdca26"
            ],
            [
             1,
             "#f0f921"
            ]
           ],
           "sequentialminus": [
            [
             0,
             "#0d0887"
            ],
            [
             0.1111111111111111,
             "#46039f"
            ],
            [
             0.2222222222222222,
             "#7201a8"
            ],
            [
             0.3333333333333333,
             "#9c179e"
            ],
            [
             0.4444444444444444,
             "#bd3786"
            ],
            [
             0.5555555555555556,
             "#d8576b"
            ],
            [
             0.6666666666666666,
             "#ed7953"
            ],
            [
             0.7777777777777778,
             "#fb9f3a"
            ],
            [
             0.8888888888888888,
             "#fdca26"
            ],
            [
             1,
             "#f0f921"
            ]
           ]
          },
          "colorway": [
           "#636efa",
           "#EF553B",
           "#00cc96",
           "#ab63fa",
           "#FFA15A",
           "#19d3f3",
           "#FF6692",
           "#B6E880",
           "#FF97FF",
           "#FECB52"
          ],
          "font": {
           "color": "#2a3f5f"
          },
          "geo": {
           "bgcolor": "white",
           "lakecolor": "white",
           "landcolor": "#E5ECF6",
           "showlakes": true,
           "showland": true,
           "subunitcolor": "white"
          },
          "hoverlabel": {
           "align": "left"
          },
          "hovermode": "closest",
          "mapbox": {
           "style": "light"
          },
          "paper_bgcolor": "white",
          "plot_bgcolor": "#E5ECF6",
          "polar": {
           "angularaxis": {
            "gridcolor": "white",
            "linecolor": "white",
            "ticks": ""
           },
           "bgcolor": "#E5ECF6",
           "radialaxis": {
            "gridcolor": "white",
            "linecolor": "white",
            "ticks": ""
           }
          },
          "scene": {
           "xaxis": {
            "backgroundcolor": "#E5ECF6",
            "gridcolor": "white",
            "gridwidth": 2,
            "linecolor": "white",
            "showbackground": true,
            "ticks": "",
            "zerolinecolor": "white"
           },
           "yaxis": {
            "backgroundcolor": "#E5ECF6",
            "gridcolor": "white",
            "gridwidth": 2,
            "linecolor": "white",
            "showbackground": true,
            "ticks": "",
            "zerolinecolor": "white"
           },
           "zaxis": {
            "backgroundcolor": "#E5ECF6",
            "gridcolor": "white",
            "gridwidth": 2,
            "linecolor": "white",
            "showbackground": true,
            "ticks": "",
            "zerolinecolor": "white"
           }
          },
          "shapedefaults": {
           "line": {
            "color": "#2a3f5f"
           }
          },
          "ternary": {
           "aaxis": {
            "gridcolor": "white",
            "linecolor": "white",
            "ticks": ""
           },
           "baxis": {
            "gridcolor": "white",
            "linecolor": "white",
            "ticks": ""
           },
           "bgcolor": "#E5ECF6",
           "caxis": {
            "gridcolor": "white",
            "linecolor": "white",
            "ticks": ""
           }
          },
          "title": {
           "x": 0.05
          },
          "xaxis": {
           "automargin": true,
           "gridcolor": "white",
           "linecolor": "white",
           "ticks": "",
           "title": {
            "standoff": 15
           },
           "zerolinecolor": "white",
           "zerolinewidth": 2
          },
          "yaxis": {
           "automargin": true,
           "gridcolor": "white",
           "linecolor": "white",
           "ticks": "",
           "title": {
            "standoff": 15
           },
           "zerolinecolor": "white",
           "zerolinewidth": 2
          }
         }
        },
        "title": {
         "text": "Content Ratings"
        },
        "updatemenus": [
         {
          "buttons": [
           {
            "args": [
             {
              "visible": [
               true,
               false,
               false,
               false,
               false
              ]
             },
             {
              "title": "Netflix Content Ratings"
             }
            ],
            "label": "Netflix",
            "method": "update"
           },
           {
            "args": [
             {
              "visible": [
               false,
               true,
               false,
               false,
               false
              ]
             },
             {
              "title": "Hulu Content Ratings"
             }
            ],
            "label": "Hulu",
            "method": "update"
           },
           {
            "args": [
             {
              "visible": [
               false,
               false,
               true,
               false,
               false
              ]
             },
             {
              "title": "Amazon Content Ratings"
             }
            ],
            "label": "Amazon",
            "method": "update"
           },
           {
            "args": [
             {
              "visible": [
               false,
               false,
               false,
               true,
               false
              ]
             },
             {
              "title": "Disney Content Ratings"
             }
            ],
            "label": "Disney",
            "method": "update"
           }
          ],
          "direction": "down",
          "showactive": true
         }
        ],
        "xaxis": {
         "title": {
          "text": "Rating Category"
         }
        },
        "yaxis": {
         "title": {
          "text": "Number of Titles"
         }
        }
       }
      },
      "text/html": [
       "<div>                            <div id=\"5b0e989d-30cb-4a45-a722-6883866af4c5\" class=\"plotly-graph-div\" style=\"height:525px; width:100%;\"></div>            <script type=\"text/javascript\">                require([\"plotly\"], function(Plotly) {                    window.PLOTLYENV=window.PLOTLYENV || {};                                    if (document.getElementById(\"5b0e989d-30cb-4a45-a722-6883866af4c5\")) {                    Plotly.newPlot(                        \"5b0e989d-30cb-4a45-a722-6883866af4c5\",                        [{\"name\":\"Netflix\",\"x\":[\"All Ages\",\"Kids\",\"Teens\",\"Adults\"],\"y\":[568.0,1490.0,2650.0,4012.0],\"type\":\"bar\"},{\"name\":\"Hulu\",\"visible\":false,\"x\":[\"All Ages\",\"Kids\",\"Teens\",\"Adults\"],\"y\":[197.0,472.0,854.0,736.0],\"type\":\"bar\"},{\"name\":\"Amazon\",\"visible\":false,\"x\":[\"All Ages\",\"Kids\",\"Teens\",\"Adults\"],\"y\":[1516.0,846.0,4265.0,2366.0],\"type\":\"bar\"},{\"name\":\"Disney\",\"visible\":false,\"x\":[\"All Ages\",\"Kids\",\"Teens\",\"Adults\"],\"y\":[621.0,681.0,145.0,0.0],\"type\":\"bar\"}],                        {\"template\":{\"data\":{\"histogram2dcontour\":[{\"type\":\"histogram2dcontour\",\"colorbar\":{\"outlinewidth\":0,\"ticks\":\"\"},\"colorscale\":[[0.0,\"#0d0887\"],[0.1111111111111111,\"#46039f\"],[0.2222222222222222,\"#7201a8\"],[0.3333333333333333,\"#9c179e\"],[0.4444444444444444,\"#bd3786\"],[0.5555555555555556,\"#d8576b\"],[0.6666666666666666,\"#ed7953\"],[0.7777777777777778,\"#fb9f3a\"],[0.8888888888888888,\"#fdca26\"],[1.0,\"#f0f921\"]]}],\"choropleth\":[{\"type\":\"choropleth\",\"colorbar\":{\"outlinewidth\":0,\"ticks\":\"\"}}],\"histogram2d\":[{\"type\":\"histogram2d\",\"colorbar\":{\"outlinewidth\":0,\"ticks\":\"\"},\"colorscale\":[[0.0,\"#0d0887\"],[0.1111111111111111,\"#46039f\"],[0.2222222222222222,\"#7201a8\"],[0.3333333333333333,\"#9c179e\"],[0.4444444444444444,\"#bd3786\"],[0.5555555555555556,\"#d8576b\"],[0.6666666666666666,\"#ed7953\"],[0.7777777777777778,\"#fb9f3a\"],[0.8888888888888888,\"#fdca26\"],[1.0,\"#f0f921\"]]}],\"heatmap\":[{\"type\":\"heatmap\",\"colorbar\":{\"outlinewidth\":0,\"ticks\":\"\"},\"colorscale\":[[0.0,\"#0d0887\"],[0.1111111111111111,\"#46039f\"],[0.2222222222222222,\"#7201a8\"],[0.3333333333333333,\"#9c179e\"],[0.4444444444444444,\"#bd3786\"],[0.5555555555555556,\"#d8576b\"],[0.6666666666666666,\"#ed7953\"],[0.7777777777777778,\"#fb9f3a\"],[0.8888888888888888,\"#fdca26\"],[1.0,\"#f0f921\"]]}],\"heatmapgl\":[{\"type\":\"heatmapgl\",\"colorbar\":{\"outlinewidth\":0,\"ticks\":\"\"},\"colorscale\":[[0.0,\"#0d0887\"],[0.1111111111111111,\"#46039f\"],[0.2222222222222222,\"#7201a8\"],[0.3333333333333333,\"#9c179e\"],[0.4444444444444444,\"#bd3786\"],[0.5555555555555556,\"#d8576b\"],[0.6666666666666666,\"#ed7953\"],[0.7777777777777778,\"#fb9f3a\"],[0.8888888888888888,\"#fdca26\"],[1.0,\"#f0f921\"]]}],\"contourcarpet\":[{\"type\":\"contourcarpet\",\"colorbar\":{\"outlinewidth\":0,\"ticks\":\"\"}}],\"contour\":[{\"type\":\"contour\",\"colorbar\":{\"outlinewidth\":0,\"ticks\":\"\"},\"colorscale\":[[0.0,\"#0d0887\"],[0.1111111111111111,\"#46039f\"],[0.2222222222222222,\"#7201a8\"],[0.3333333333333333,\"#9c179e\"],[0.4444444444444444,\"#bd3786\"],[0.5555555555555556,\"#d8576b\"],[0.6666666666666666,\"#ed7953\"],[0.7777777777777778,\"#fb9f3a\"],[0.8888888888888888,\"#fdca26\"],[1.0,\"#f0f921\"]]}],\"surface\":[{\"type\":\"surface\",\"colorbar\":{\"outlinewidth\":0,\"ticks\":\"\"},\"colorscale\":[[0.0,\"#0d0887\"],[0.1111111111111111,\"#46039f\"],[0.2222222222222222,\"#7201a8\"],[0.3333333333333333,\"#9c179e\"],[0.4444444444444444,\"#bd3786\"],[0.5555555555555556,\"#d8576b\"],[0.6666666666666666,\"#ed7953\"],[0.7777777777777778,\"#fb9f3a\"],[0.8888888888888888,\"#fdca26\"],[1.0,\"#f0f921\"]]}],\"mesh3d\":[{\"type\":\"mesh3d\",\"colorbar\":{\"outlinewidth\":0,\"ticks\":\"\"}}],\"scatter\":[{\"fillpattern\":{\"fillmode\":\"overlay\",\"size\":10,\"solidity\":0.2},\"type\":\"scatter\"}],\"parcoords\":[{\"type\":\"parcoords\",\"line\":{\"colorbar\":{\"outlinewidth\":0,\"ticks\":\"\"}}}],\"scatterpolargl\":[{\"type\":\"scatterpolargl\",\"marker\":{\"colorbar\":{\"outlinewidth\":0,\"ticks\":\"\"}}}],\"bar\":[{\"error_x\":{\"color\":\"#2a3f5f\"},\"error_y\":{\"color\":\"#2a3f5f\"},\"marker\":{\"line\":{\"color\":\"#E5ECF6\",\"width\":0.5},\"pattern\":{\"fillmode\":\"overlay\",\"size\":10,\"solidity\":0.2}},\"type\":\"bar\"}],\"scattergeo\":[{\"type\":\"scattergeo\",\"marker\":{\"colorbar\":{\"outlinewidth\":0,\"ticks\":\"\"}}}],\"scatterpolar\":[{\"type\":\"scatterpolar\",\"marker\":{\"colorbar\":{\"outlinewidth\":0,\"ticks\":\"\"}}}],\"histogram\":[{\"marker\":{\"pattern\":{\"fillmode\":\"overlay\",\"size\":10,\"solidity\":0.2}},\"type\":\"histogram\"}],\"scattergl\":[{\"type\":\"scattergl\",\"marker\":{\"colorbar\":{\"outlinewidth\":0,\"ticks\":\"\"}}}],\"scatter3d\":[{\"type\":\"scatter3d\",\"line\":{\"colorbar\":{\"outlinewidth\":0,\"ticks\":\"\"}},\"marker\":{\"colorbar\":{\"outlinewidth\":0,\"ticks\":\"\"}}}],\"scattermapbox\":[{\"type\":\"scattermapbox\",\"marker\":{\"colorbar\":{\"outlinewidth\":0,\"ticks\":\"\"}}}],\"scatterternary\":[{\"type\":\"scatterternary\",\"marker\":{\"colorbar\":{\"outlinewidth\":0,\"ticks\":\"\"}}}],\"scattercarpet\":[{\"type\":\"scattercarpet\",\"marker\":{\"colorbar\":{\"outlinewidth\":0,\"ticks\":\"\"}}}],\"carpet\":[{\"aaxis\":{\"endlinecolor\":\"#2a3f5f\",\"gridcolor\":\"white\",\"linecolor\":\"white\",\"minorgridcolor\":\"white\",\"startlinecolor\":\"#2a3f5f\"},\"baxis\":{\"endlinecolor\":\"#2a3f5f\",\"gridcolor\":\"white\",\"linecolor\":\"white\",\"minorgridcolor\":\"white\",\"startlinecolor\":\"#2a3f5f\"},\"type\":\"carpet\"}],\"table\":[{\"cells\":{\"fill\":{\"color\":\"#EBF0F8\"},\"line\":{\"color\":\"white\"}},\"header\":{\"fill\":{\"color\":\"#C8D4E3\"},\"line\":{\"color\":\"white\"}},\"type\":\"table\"}],\"barpolar\":[{\"marker\":{\"line\":{\"color\":\"#E5ECF6\",\"width\":0.5},\"pattern\":{\"fillmode\":\"overlay\",\"size\":10,\"solidity\":0.2}},\"type\":\"barpolar\"}],\"pie\":[{\"automargin\":true,\"type\":\"pie\"}]},\"layout\":{\"autotypenumbers\":\"strict\",\"colorway\":[\"#636efa\",\"#EF553B\",\"#00cc96\",\"#ab63fa\",\"#FFA15A\",\"#19d3f3\",\"#FF6692\",\"#B6E880\",\"#FF97FF\",\"#FECB52\"],\"font\":{\"color\":\"#2a3f5f\"},\"hovermode\":\"closest\",\"hoverlabel\":{\"align\":\"left\"},\"paper_bgcolor\":\"white\",\"plot_bgcolor\":\"#E5ECF6\",\"polar\":{\"bgcolor\":\"#E5ECF6\",\"angularaxis\":{\"gridcolor\":\"white\",\"linecolor\":\"white\",\"ticks\":\"\"},\"radialaxis\":{\"gridcolor\":\"white\",\"linecolor\":\"white\",\"ticks\":\"\"}},\"ternary\":{\"bgcolor\":\"#E5ECF6\",\"aaxis\":{\"gridcolor\":\"white\",\"linecolor\":\"white\",\"ticks\":\"\"},\"baxis\":{\"gridcolor\":\"white\",\"linecolor\":\"white\",\"ticks\":\"\"},\"caxis\":{\"gridcolor\":\"white\",\"linecolor\":\"white\",\"ticks\":\"\"}},\"coloraxis\":{\"colorbar\":{\"outlinewidth\":0,\"ticks\":\"\"}},\"colorscale\":{\"sequential\":[[0.0,\"#0d0887\"],[0.1111111111111111,\"#46039f\"],[0.2222222222222222,\"#7201a8\"],[0.3333333333333333,\"#9c179e\"],[0.4444444444444444,\"#bd3786\"],[0.5555555555555556,\"#d8576b\"],[0.6666666666666666,\"#ed7953\"],[0.7777777777777778,\"#fb9f3a\"],[0.8888888888888888,\"#fdca26\"],[1.0,\"#f0f921\"]],\"sequentialminus\":[[0.0,\"#0d0887\"],[0.1111111111111111,\"#46039f\"],[0.2222222222222222,\"#7201a8\"],[0.3333333333333333,\"#9c179e\"],[0.4444444444444444,\"#bd3786\"],[0.5555555555555556,\"#d8576b\"],[0.6666666666666666,\"#ed7953\"],[0.7777777777777778,\"#fb9f3a\"],[0.8888888888888888,\"#fdca26\"],[1.0,\"#f0f921\"]],\"diverging\":[[0,\"#8e0152\"],[0.1,\"#c51b7d\"],[0.2,\"#de77ae\"],[0.3,\"#f1b6da\"],[0.4,\"#fde0ef\"],[0.5,\"#f7f7f7\"],[0.6,\"#e6f5d0\"],[0.7,\"#b8e186\"],[0.8,\"#7fbc41\"],[0.9,\"#4d9221\"],[1,\"#276419\"]]},\"xaxis\":{\"gridcolor\":\"white\",\"linecolor\":\"white\",\"ticks\":\"\",\"title\":{\"standoff\":15},\"zerolinecolor\":\"white\",\"automargin\":true,\"zerolinewidth\":2},\"yaxis\":{\"gridcolor\":\"white\",\"linecolor\":\"white\",\"ticks\":\"\",\"title\":{\"standoff\":15},\"zerolinecolor\":\"white\",\"automargin\":true,\"zerolinewidth\":2},\"scene\":{\"xaxis\":{\"backgroundcolor\":\"#E5ECF6\",\"gridcolor\":\"white\",\"linecolor\":\"white\",\"showbackground\":true,\"ticks\":\"\",\"zerolinecolor\":\"white\",\"gridwidth\":2},\"yaxis\":{\"backgroundcolor\":\"#E5ECF6\",\"gridcolor\":\"white\",\"linecolor\":\"white\",\"showbackground\":true,\"ticks\":\"\",\"zerolinecolor\":\"white\",\"gridwidth\":2},\"zaxis\":{\"backgroundcolor\":\"#E5ECF6\",\"gridcolor\":\"white\",\"linecolor\":\"white\",\"showbackground\":true,\"ticks\":\"\",\"zerolinecolor\":\"white\",\"gridwidth\":2}},\"shapedefaults\":{\"line\":{\"color\":\"#2a3f5f\"}},\"annotationdefaults\":{\"arrowcolor\":\"#2a3f5f\",\"arrowhead\":0,\"arrowwidth\":1},\"geo\":{\"bgcolor\":\"white\",\"landcolor\":\"#E5ECF6\",\"subunitcolor\":\"white\",\"showland\":true,\"showlakes\":true,\"lakecolor\":\"white\"},\"title\":{\"x\":0.05},\"mapbox\":{\"style\":\"light\"}}},\"updatemenus\":[{\"buttons\":[{\"args\":[{\"visible\":[true,false,false,false,false]},{\"title\":\"Netflix Content Ratings\"}],\"label\":\"Netflix\",\"method\":\"update\"},{\"args\":[{\"visible\":[false,true,false,false,false]},{\"title\":\"Hulu Content Ratings\"}],\"label\":\"Hulu\",\"method\":\"update\"},{\"args\":[{\"visible\":[false,false,true,false,false]},{\"title\":\"Amazon Content Ratings\"}],\"label\":\"Amazon\",\"method\":\"update\"},{\"args\":[{\"visible\":[false,false,false,true,false]},{\"title\":\"Disney Content Ratings\"}],\"label\":\"Disney\",\"method\":\"update\"}],\"direction\":\"down\",\"showactive\":true}],\"title\":{\"text\":\"Content Ratings\"},\"xaxis\":{\"title\":{\"text\":\"Rating Category\"}},\"yaxis\":{\"title\":{\"text\":\"Number of Titles\"}}},                        {\"responsive\": true}                    ).then(function(){\n",
       "                            \n",
       "var gd = document.getElementById('5b0e989d-30cb-4a45-a722-6883866af4c5');\n",
       "var x = new MutationObserver(function (mutations, observer) {{\n",
       "        var display = window.getComputedStyle(gd).display;\n",
       "        if (!display || display === 'none') {{\n",
       "            console.log([gd, 'removed!']);\n",
       "            Plotly.purge(gd);\n",
       "            observer.disconnect();\n",
       "        }}\n",
       "}});\n",
       "\n",
       "// Listen for the removal of the full notebook cells\n",
       "var notebookContainer = gd.closest('#notebook-container');\n",
       "if (notebookContainer) {{\n",
       "    x.observe(notebookContainer, {childList: true});\n",
       "}}\n",
       "\n",
       "// Listen for the clearing of the current output cell\n",
       "var outputEl = gd.closest('.output');\n",
       "if (outputEl) {{\n",
       "    x.observe(outputEl, {childList: true});\n",
       "}}\n",
       "\n",
       "                        })                };                });            </script>        </div>"
      ]
     },
     "metadata": {},
     "output_type": "display_data"
    }
   ],
   "source": [
    "import plotly.graph_objects as go\n",
    "\n",
    "\n",
    "#  top 10 disney\n",
    "fig = go.Figure()\n",
    "\n",
    "fig.add_trace(go.Bar(\n",
    "    x=Netflix_All_Ratings_Complete_Df.index,\n",
    "    y=Netflix_All_Ratings_Complete_Df.values,\n",
    "    name='Netflix'\n",
    "))\n",
    "\n",
    "# top 10 hulu\n",
    "fig.add_trace(go.Bar(\n",
    "    x=Hulu_All_Ratings_Complete_Df.index,\n",
    "    y=Hulu_All_Ratings_Complete_Df.values,\n",
    "    name='Hulu',\n",
    "    visible=False  \n",
    "))\n",
    "# top 10 amazon\n",
    "fig.add_trace(go.Bar(\n",
    "    x=Amazon_All_Ratings_Complete_Df.index,\n",
    "    y=Amazon_All_Ratings_Complete_Df.values,\n",
    "    name='Amazon',\n",
    "    visible=False  \n",
    "))\n",
    "\n",
    "#top 10 netflix \n",
    "fig.add_trace(go.Bar(\n",
    "    x=Disney_All_Ratings_Complete_Df.index,\n",
    "    y=Disney_All_Ratings_Complete_Df.values,\n",
    "    name='Disney',\n",
    "    visible=False \n",
    "))\n",
    "\n",
    "# dropdown menu\n",
    "fig.update_layout(\n",
    "    updatemenus=[\n",
    "        {\n",
    "            \"buttons\": [\n",
    "                {\n",
    "                    \"label\": \"Netflix\",\n",
    "                    \"method\": \"update\",\n",
    "                    \"args\": [{\"visible\": [True, False, False, False, False]}, {\"title\": \"Netflix Content Ratings\"}],\n",
    "                },\n",
    "                {\n",
    "                    \"label\": \"Hulu\",\n",
    "                    \"method\": \"update\",\n",
    "                    \"args\": [{\"visible\": [False, True, False, False, False]}, {\"title\": \"Hulu Content Ratings\"}],\n",
    "                },\n",
    "                {\n",
    "                    \"label\": \"Amazon\",\n",
    "                    \"method\": \"update\",\n",
    "                    \"args\": [{\"visible\": [False, False, True, False, False]}, {\"title\": \"Amazon Content Ratings\"}],\n",
    "                },\n",
    "                {\n",
    "                    \"label\": \"Disney\",\n",
    "                    \"method\": \"update\",\n",
    "                    \"args\": [{\"visible\": [False, False, False, True, False]}, {\"title\": \"Disney Content Ratings\"}],\n",
    "                }\n",
    "            ],\n",
    "            \"direction\": \"down\",\n",
    "            \"showactive\": True,\n",
    "        }\n",
    "    ]\n",
    ")\n",
    "\n",
    "\n",
    "\n",
    "\n",
    "# Set titles\n",
    "fig.update_layout(\n",
    "    title=\"Content Ratings\",\n",
    "    xaxis_title=\"Rating Category\",\n",
    "    yaxis_title=\"Number of Titles\",\n",
    ")\n",
    "\n",
    "# Show the plot\n",
    "fig.show()"
   ]
  },
  {
   "cell_type": "code",
   "execution_count": null,
   "id": "63c450af",
   "metadata": {},
   "outputs": [],
   "source": []
  }
 ],
 "metadata": {
  "kernelspec": {
   "display_name": "Python 3 (ipykernel)",
   "language": "python",
   "name": "python3"
  },
  "language_info": {
   "codemirror_mode": {
    "name": "ipython",
    "version": 3
   },
   "file_extension": ".py",
   "mimetype": "text/x-python",
   "name": "python",
   "nbconvert_exporter": "python",
   "pygments_lexer": "ipython3",
   "version": "3.11.5"
  }
 },
 "nbformat": 4,
 "nbformat_minor": 5
}
