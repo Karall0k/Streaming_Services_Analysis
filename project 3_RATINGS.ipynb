{
 "cells": [
  {
   "cell_type": "code",
   "execution_count": 1,
   "id": "b29b6fa5",
   "metadata": {},
   "outputs": [],
   "source": [
    "import os\n",
    "import pandas as pd\n",
    "import matplotlib.pyplot as plt\n",
    "from pathlib import Path\n"
   ]
  },
  {
   "cell_type": "code",
   "execution_count": 2,
   "id": "509a54d7",
   "metadata": {},
   "outputs": [],
   "source": [
    "netflix = Path(\"Resources/netflix_data.csv\")\n",
    "hulu = Path(\"Resources/hulu_data.csv\")\n",
    "amazon = Path(\"Resources/amazon_data.csv\")\n",
    "disney=Path(\"Resources/disney_data.csv\")\n",
    "\n",
    "netflix_df =pd.read_csv(netflix)\n",
    "hulu_df =pd.read_csv(hulu)\n",
    "amazon_df =pd.read_csv(amazon)\n",
    "disney_df =pd.read_csv(disney)"
   ]
  },
  {
   "cell_type": "code",
   "execution_count": 3,
   "id": "ce402b17",
   "metadata": {},
   "outputs": [],
   "source": [
    "netflix_df['streaming_service'] = 'Netflix'\n",
    "hulu_df['streaming_service'] = 'Hulu'\n",
    "amazon_df['streaming_service'] = 'Amazon'\n",
    "disney_df['streaming_service'] = 'Disney'\n"
   ]
  },
  {
   "cell_type": "code",
   "execution_count": 4,
   "id": "a9c5116d",
   "metadata": {},
   "outputs": [],
   "source": [
    "combined_df = pd.concat([netflix_df, hulu_df, amazon_df, disney_df], axis=0)"
   ]
  },
  {
   "cell_type": "code",
   "execution_count": 5,
   "id": "aa99b02a",
   "metadata": {},
   "outputs": [
    {
     "data": {
      "text/html": [
       "<div>\n",
       "<style scoped>\n",
       "    .dataframe tbody tr th:only-of-type {\n",
       "        vertical-align: middle;\n",
       "    }\n",
       "\n",
       "    .dataframe tbody tr th {\n",
       "        vertical-align: top;\n",
       "    }\n",
       "\n",
       "    .dataframe thead th {\n",
       "        text-align: right;\n",
       "    }\n",
       "</style>\n",
       "<table border=\"1\" class=\"dataframe\">\n",
       "  <thead>\n",
       "    <tr style=\"text-align: right;\">\n",
       "      <th></th>\n",
       "      <th>show_id</th>\n",
       "      <th>type</th>\n",
       "      <th>title</th>\n",
       "      <th>director</th>\n",
       "      <th>country</th>\n",
       "      <th>date_added</th>\n",
       "      <th>release_year</th>\n",
       "      <th>rating</th>\n",
       "      <th>duration</th>\n",
       "      <th>listed_in</th>\n",
       "      <th>streaming_service</th>\n",
       "      <th>cast</th>\n",
       "      <th>description</th>\n",
       "    </tr>\n",
       "  </thead>\n",
       "  <tbody>\n",
       "    <tr>\n",
       "      <th>0</th>\n",
       "      <td>s1</td>\n",
       "      <td>Movie</td>\n",
       "      <td>Dick Johnson Is Dead</td>\n",
       "      <td>Kirsten Johnson</td>\n",
       "      <td>United States</td>\n",
       "      <td>9/25/2021</td>\n",
       "      <td>2020</td>\n",
       "      <td>PG-13</td>\n",
       "      <td>90 min</td>\n",
       "      <td>Documentaries</td>\n",
       "      <td>Netflix</td>\n",
       "      <td>NaN</td>\n",
       "      <td>NaN</td>\n",
       "    </tr>\n",
       "    <tr>\n",
       "      <th>1</th>\n",
       "      <td>s3</td>\n",
       "      <td>TV Show</td>\n",
       "      <td>Ganglands</td>\n",
       "      <td>Julien Leclercq</td>\n",
       "      <td>France</td>\n",
       "      <td>9/24/2021</td>\n",
       "      <td>2021</td>\n",
       "      <td>TV-MA</td>\n",
       "      <td>1 Season</td>\n",
       "      <td>Crime TV Shows, International TV Shows, TV Act...</td>\n",
       "      <td>Netflix</td>\n",
       "      <td>NaN</td>\n",
       "      <td>NaN</td>\n",
       "    </tr>\n",
       "    <tr>\n",
       "      <th>2</th>\n",
       "      <td>s6</td>\n",
       "      <td>TV Show</td>\n",
       "      <td>Midnight Mass</td>\n",
       "      <td>Mike Flanagan</td>\n",
       "      <td>United States</td>\n",
       "      <td>9/24/2021</td>\n",
       "      <td>2021</td>\n",
       "      <td>TV-MA</td>\n",
       "      <td>1 Season</td>\n",
       "      <td>TV Dramas, TV Horror, TV Mysteries</td>\n",
       "      <td>Netflix</td>\n",
       "      <td>NaN</td>\n",
       "      <td>NaN</td>\n",
       "    </tr>\n",
       "    <tr>\n",
       "      <th>3</th>\n",
       "      <td>s14</td>\n",
       "      <td>Movie</td>\n",
       "      <td>Confessions of an Invisible Girl</td>\n",
       "      <td>Bruno Garotti</td>\n",
       "      <td>Brazil</td>\n",
       "      <td>9/22/2021</td>\n",
       "      <td>2021</td>\n",
       "      <td>TV-PG</td>\n",
       "      <td>91 min</td>\n",
       "      <td>Children &amp; Family Movies, Comedies</td>\n",
       "      <td>Netflix</td>\n",
       "      <td>NaN</td>\n",
       "      <td>NaN</td>\n",
       "    </tr>\n",
       "    <tr>\n",
       "      <th>4</th>\n",
       "      <td>s8</td>\n",
       "      <td>Movie</td>\n",
       "      <td>Sankofa</td>\n",
       "      <td>Haile Gerima</td>\n",
       "      <td>United States</td>\n",
       "      <td>9/24/2021</td>\n",
       "      <td>1993</td>\n",
       "      <td>TV-MA</td>\n",
       "      <td>125 min</td>\n",
       "      <td>Dramas, Independent Movies, International Movies</td>\n",
       "      <td>Netflix</td>\n",
       "      <td>NaN</td>\n",
       "      <td>NaN</td>\n",
       "    </tr>\n",
       "  </tbody>\n",
       "</table>\n",
       "</div>"
      ],
      "text/plain": [
       "  show_id     type                             title         director  \\\n",
       "0      s1    Movie              Dick Johnson Is Dead  Kirsten Johnson   \n",
       "1      s3  TV Show                         Ganglands  Julien Leclercq   \n",
       "2      s6  TV Show                     Midnight Mass    Mike Flanagan   \n",
       "3     s14    Movie  Confessions of an Invisible Girl    Bruno Garotti   \n",
       "4      s8    Movie                           Sankofa     Haile Gerima   \n",
       "\n",
       "         country date_added  release_year rating  duration  \\\n",
       "0  United States  9/25/2021          2020  PG-13    90 min   \n",
       "1         France  9/24/2021          2021  TV-MA  1 Season   \n",
       "2  United States  9/24/2021          2021  TV-MA  1 Season   \n",
       "3         Brazil  9/22/2021          2021  TV-PG    91 min   \n",
       "4  United States  9/24/2021          1993  TV-MA   125 min   \n",
       "\n",
       "                                           listed_in streaming_service cast  \\\n",
       "0                                      Documentaries           Netflix  NaN   \n",
       "1  Crime TV Shows, International TV Shows, TV Act...           Netflix  NaN   \n",
       "2                 TV Dramas, TV Horror, TV Mysteries           Netflix  NaN   \n",
       "3                 Children & Family Movies, Comedies           Netflix  NaN   \n",
       "4   Dramas, Independent Movies, International Movies           Netflix  NaN   \n",
       "\n",
       "  description  \n",
       "0         NaN  \n",
       "1         NaN  \n",
       "2         NaN  \n",
       "3         NaN  \n",
       "4         NaN  "
      ]
     },
     "execution_count": 5,
     "metadata": {},
     "output_type": "execute_result"
    }
   ],
   "source": [
    "combined_df.head()"
   ]
  },
  {
   "cell_type": "code",
   "execution_count": 6,
   "id": "75c111fa",
   "metadata": {},
   "outputs": [
    {
     "name": "stdout",
     "output_type": "stream",
     "text": [
      "     show_id     type                                           title  \\\n",
      "0         s1    Movie                            Dick Johnson Is Dead   \n",
      "1         s3  TV Show                                       Ganglands   \n",
      "2         s6  TV Show                                   Midnight Mass   \n",
      "3        s14    Movie                Confessions of an Invisible Girl   \n",
      "4         s8    Movie                                         Sankofa   \n",
      "...      ...      ...                                             ...   \n",
      "1445   s1446    Movie                        X-Men Origins: Wolverine   \n",
      "1446   s1447    Movie  Night at the Museum: Battle of the Smithsonian   \n",
      "1447   s1448    Movie                                 Eddie the Eagle   \n",
      "1448   s1449    Movie                            Bend It Like Beckham   \n",
      "1449   s1450    Movie           Captain Sparky vs. The Flying Saucers   \n",
      "\n",
      "             director                                 country  \\\n",
      "0     Kirsten Johnson                           United States   \n",
      "1     Julien Leclercq                                  France   \n",
      "2       Mike Flanagan                           United States   \n",
      "3       Bruno Garotti                                  Brazil   \n",
      "4        Haile Gerima                           United States   \n",
      "...               ...                                     ...   \n",
      "1445       Gavin Hood           United States, United Kingdom   \n",
      "1446       Shawn Levy                   United States, Canada   \n",
      "1447  Dexter Fletcher  United Kingdom, Germany, United States   \n",
      "1448  Gurinder Chadha  United Kingdom, Germany, United States   \n",
      "1449      Mark Waring                           United States   \n",
      "\n",
      "              date_added  release_year rating  duration  \\\n",
      "0              9/25/2021          2020  PG-13    90 min   \n",
      "1              9/24/2021          2021  TV-MA  1 Season   \n",
      "2              9/24/2021          2021  TV-MA  1 Season   \n",
      "3              9/22/2021          2021  TV-PG    91 min   \n",
      "4              9/24/2021          1993  TV-MA   125 min   \n",
      "...                  ...           ...    ...       ...   \n",
      "1445        June 4, 2021          2009  PG-13   108 min   \n",
      "1446       April 2, 2021          2009     PG   106 min   \n",
      "1447   December 18, 2020          2016  PG-13   107 min   \n",
      "1448  September 18, 2020          2003  PG-13   112 min   \n",
      "1449       April 1, 2020          2012   TV-G     2 min   \n",
      "\n",
      "                                              listed_in streaming_service  \\\n",
      "0                                         Documentaries           Netflix   \n",
      "1     Crime TV Shows, International TV Shows, TV Act...           Netflix   \n",
      "2                    TV Dramas, TV Horror, TV Mysteries           Netflix   \n",
      "3                    Children & Family Movies, Comedies           Netflix   \n",
      "4      Dramas, Independent Movies, International Movies           Netflix   \n",
      "...                                                 ...               ...   \n",
      "1445          Action-Adventure, Family, Science Fiction            Disney   \n",
      "1446                   Action-Adventure, Comedy, Family            Disney   \n",
      "1447                        Biographical, Comedy, Drama            Disney   \n",
      "1448                       Buddy, Comedy, Coming of Age            Disney   \n",
      "1449      Action-Adventure, Animals & Nature, Animation            Disney   \n",
      "\n",
      "                                                   cast  \\\n",
      "0                                                   NaN   \n",
      "1                                                   NaN   \n",
      "2                                                   NaN   \n",
      "3                                                   NaN   \n",
      "4                                                   NaN   \n",
      "...                                                 ...   \n",
      "1445  Hugh Jackman, Liev Schreiber, Danny Huston, wi...   \n",
      "1446  Ben Stiller, Amy Adams, Owen Wilson, Hank Azar...   \n",
      "1447  Tom Costello, Jo Hartley, Keith Allen, Dickon ...   \n",
      "1448  Parminder Nagra, Keira Knightley, Jonathan Rhy...   \n",
      "1449                                      Charlie Tahan   \n",
      "\n",
      "                                            description  \n",
      "0                                                   NaN  \n",
      "1                                                   NaN  \n",
      "2                                                   NaN  \n",
      "3                                                   NaN  \n",
      "4                                                   NaN  \n",
      "...                                                 ...  \n",
      "1445  Wolverine unites with legendary X-Men to fight...  \n",
      "1446  Larry Daley returns to rescue some old friends...  \n",
      "1447  True story of Eddie Edwards, a British ski-jum...  \n",
      "1448  Despite the wishes of their traditional famili...  \n",
      "1449         View one of Sparky's favorite home movies.  \n",
      "\n",
      "[22981 rows x 13 columns]\n"
     ]
    }
   ],
   "source": [
    "print(combined_df)"
   ]
  },
  {
   "cell_type": "code",
   "execution_count": 7,
   "id": "0341760d-8a0e-4adf-bc33-16f5dd8ab4a5",
   "metadata": {},
   "outputs": [
    {
     "data": {
      "text/plain": [
       "rating\n",
       "TV-MA       3205\n",
       "TV-14       2157\n",
       "TV-PG        861\n",
       "R            799\n",
       "PG-13        490\n",
       "TV-Y7        333\n",
       "TV-Y         306\n",
       "PG           287\n",
       "TV-G         220\n",
       "NR            79\n",
       "G             41\n",
       "TV-Y7-FV       6\n",
       "NC-17          3\n",
       "UR             3\n",
       "Name: count, dtype: int64"
      ]
     },
     "execution_count": 7,
     "metadata": {},
     "output_type": "execute_result"
    }
   ],
   "source": [
    "Netflix_all_df = combined_df[(combined_df[\"streaming_service\"] == \"Netflix\")]\n",
    "Netflix_all_rating = Netflix_all_df[\"rating\"].value_counts()\n",
    "Netflix_all_rating"
   ]
  },
  {
   "cell_type": "code",
   "execution_count": 8,
   "id": "26b8632d-940e-4c4c-9d52-db39f9c4c25c",
   "metadata": {},
   "outputs": [
    {
     "data": {
      "text/plain": [
       "rating\n",
       "TV-14      691\n",
       "TV-MA      391\n",
       "R          345\n",
       "TV-PG      321\n",
       "PG-13      163\n",
       "          ... \n",
       "157 min      1\n",
       "28 min       1\n",
       "64 min       1\n",
       "5 min        1\n",
       "6 min        1\n",
       "Name: count, Length: 88, dtype: int64"
      ]
     },
     "execution_count": 8,
     "metadata": {},
     "output_type": "execute_result"
    }
   ],
   "source": [
    "Hulu_all_df = combined_df[(combined_df[\"streaming_service\"] == \"Hulu\")]\n",
    "Hulu_all_rating = Hulu_all_df[\"rating\"].value_counts()\n",
    "Hulu_all_rating"
   ]
  },
  {
   "cell_type": "code",
   "execution_count": 9,
   "id": "50f8f8f1-874e-47cf-8475-e50751b7cc67",
   "metadata": {},
   "outputs": [
    {
     "data": {
      "text/plain": [
       "rating\n",
       "TV-G        318\n",
       "TV-PG       301\n",
       "G           253\n",
       "PG          236\n",
       "TV-Y7       131\n",
       "TV-14        79\n",
       "PG-13        66\n",
       "TV-Y         50\n",
       "TV-Y7-FV     13\n",
       "Name: count, dtype: int64"
      ]
     },
     "execution_count": 9,
     "metadata": {},
     "output_type": "execute_result"
    }
   ],
   "source": [
    "Disney_all_df = combined_df[(combined_df[\"streaming_service\"] == \"Disney\")]\n",
    "Disney_all_rating = Disney_all_df[\"rating\"].value_counts()\n",
    "Disney_all_rating"
   ]
  },
  {
   "cell_type": "code",
   "execution_count": 10,
   "id": "e17c1e76-6212-4f7c-811d-cccc1edf96b0",
   "metadata": {},
   "outputs": [
    {
     "data": {
      "text/plain": [
       "rating\n",
       "13+         2117\n",
       "16+         1547\n",
       "ALL         1268\n",
       "18+         1243\n",
       "R           1010\n",
       "PG-13        393\n",
       "7+           385\n",
       "PG           253\n",
       "NR           223\n",
       "TV-14        208\n",
       "TV-PG        169\n",
       "TV-NR        105\n",
       "G             93\n",
       "TV-G          81\n",
       "TV-MA         77\n",
       "TV-Y          74\n",
       "TV-Y7         39\n",
       "UNRATED       33\n",
       "NC-17          3\n",
       "AGES_18_       3\n",
       "NOT_RATE       3\n",
       "AGES_16_       2\n",
       "16             1\n",
       "ALL_AGES       1\n",
       "Name: count, dtype: int64"
      ]
     },
     "execution_count": 10,
     "metadata": {},
     "output_type": "execute_result"
    }
   ],
   "source": [
    "Amazon_all_df = combined_df[(combined_df[\"streaming_service\"] == \"Amazon\")]\n",
    "Amazon_all_rating = Amazon_all_df[\"rating\"].value_counts()\n",
    "Amazon_all_rating"
   ]
  },
  {
   "cell_type": "code",
   "execution_count": 11,
   "id": "434bc97e-9659-41be-8e39-531cc0bbf9a4",
   "metadata": {},
   "outputs": [
    {
     "data": {
      "text/html": [
       "<div>\n",
       "<style scoped>\n",
       "    .dataframe tbody tr th:only-of-type {\n",
       "        vertical-align: middle;\n",
       "    }\n",
       "\n",
       "    .dataframe tbody tr th {\n",
       "        vertical-align: top;\n",
       "    }\n",
       "\n",
       "    .dataframe thead th {\n",
       "        text-align: right;\n",
       "    }\n",
       "</style>\n",
       "<table border=\"1\" class=\"dataframe\">\n",
       "  <thead>\n",
       "    <tr style=\"text-align: right;\">\n",
       "      <th></th>\n",
       "      <th>Netflix Ratings</th>\n",
       "      <th>Hulu Ratings</th>\n",
       "      <th>Amazon Ratings</th>\n",
       "      <th>Disney Ratings</th>\n",
       "    </tr>\n",
       "    <tr>\n",
       "      <th>rating</th>\n",
       "      <th></th>\n",
       "      <th></th>\n",
       "      <th></th>\n",
       "      <th></th>\n",
       "    </tr>\n",
       "  </thead>\n",
       "  <tbody>\n",
       "    <tr>\n",
       "      <th>1 Season</th>\n",
       "      <td>NaN</td>\n",
       "      <td>42.0</td>\n",
       "      <td>NaN</td>\n",
       "      <td>NaN</td>\n",
       "    </tr>\n",
       "    <tr>\n",
       "      <th>100 min</th>\n",
       "      <td>NaN</td>\n",
       "      <td>3.0</td>\n",
       "      <td>NaN</td>\n",
       "      <td>NaN</td>\n",
       "    </tr>\n",
       "    <tr>\n",
       "      <th>101 min</th>\n",
       "      <td>NaN</td>\n",
       "      <td>7.0</td>\n",
       "      <td>NaN</td>\n",
       "      <td>NaN</td>\n",
       "    </tr>\n",
       "    <tr>\n",
       "      <th>102 min</th>\n",
       "      <td>NaN</td>\n",
       "      <td>3.0</td>\n",
       "      <td>NaN</td>\n",
       "      <td>NaN</td>\n",
       "    </tr>\n",
       "    <tr>\n",
       "      <th>103 min</th>\n",
       "      <td>NaN</td>\n",
       "      <td>3.0</td>\n",
       "      <td>NaN</td>\n",
       "      <td>NaN</td>\n",
       "    </tr>\n",
       "    <tr>\n",
       "      <th>...</th>\n",
       "      <td>...</td>\n",
       "      <td>...</td>\n",
       "      <td>...</td>\n",
       "      <td>...</td>\n",
       "    </tr>\n",
       "    <tr>\n",
       "      <th>TV-Y</th>\n",
       "      <td>306.0</td>\n",
       "      <td>31.0</td>\n",
       "      <td>74.0</td>\n",
       "      <td>50.0</td>\n",
       "    </tr>\n",
       "    <tr>\n",
       "      <th>TV-Y7</th>\n",
       "      <td>333.0</td>\n",
       "      <td>46.0</td>\n",
       "      <td>39.0</td>\n",
       "      <td>131.0</td>\n",
       "    </tr>\n",
       "    <tr>\n",
       "      <th>TV-Y7-FV</th>\n",
       "      <td>6.0</td>\n",
       "      <td>NaN</td>\n",
       "      <td>NaN</td>\n",
       "      <td>13.0</td>\n",
       "    </tr>\n",
       "    <tr>\n",
       "      <th>UNRATED</th>\n",
       "      <td>NaN</td>\n",
       "      <td>NaN</td>\n",
       "      <td>33.0</td>\n",
       "      <td>NaN</td>\n",
       "    </tr>\n",
       "    <tr>\n",
       "      <th>UR</th>\n",
       "      <td>3.0</td>\n",
       "      <td>NaN</td>\n",
       "      <td>NaN</td>\n",
       "      <td>NaN</td>\n",
       "    </tr>\n",
       "  </tbody>\n",
       "</table>\n",
       "<p>103 rows × 4 columns</p>\n",
       "</div>"
      ],
      "text/plain": [
       "          Netflix Ratings  Hulu Ratings  Amazon Ratings  Disney Ratings\n",
       "rating                                                                 \n",
       "1 Season              NaN          42.0             NaN             NaN\n",
       "100 min               NaN           3.0             NaN             NaN\n",
       "101 min               NaN           7.0             NaN             NaN\n",
       "102 min               NaN           3.0             NaN             NaN\n",
       "103 min               NaN           3.0             NaN             NaN\n",
       "...                   ...           ...             ...             ...\n",
       "TV-Y                306.0          31.0            74.0            50.0\n",
       "TV-Y7               333.0          46.0            39.0           131.0\n",
       "TV-Y7-FV              6.0           NaN             NaN            13.0\n",
       "UNRATED               NaN           NaN            33.0             NaN\n",
       "UR                    3.0           NaN             NaN             NaN\n",
       "\n",
       "[103 rows x 4 columns]"
      ]
     },
     "execution_count": 11,
     "metadata": {},
     "output_type": "execute_result"
    }
   ],
   "source": [
    "All_rating_df = pd.DataFrame({\n",
    "    \"Netflix Ratings\": Netflix_all_rating,\n",
    "    \"Hulu Ratings\": Hulu_all_rating,\n",
    "    \"Amazon Ratings\": Amazon_all_rating,\n",
    "    \"Disney Ratings\": Disney_all_rating\n",
    "})\n",
    "\n",
    "All_rating_df"
   ]
  },
  {
   "cell_type": "code",
   "execution_count": 12,
   "id": "3ea27f82-40f7-404f-a486-1e67d6096273",
   "metadata": {
    "scrolled": true
   },
   "outputs": [
    {
     "data": {
      "text/html": [
       "<div>\n",
       "<style scoped>\n",
       "    .dataframe tbody tr th:only-of-type {\n",
       "        vertical-align: middle;\n",
       "    }\n",
       "\n",
       "    .dataframe tbody tr th {\n",
       "        vertical-align: top;\n",
       "    }\n",
       "\n",
       "    .dataframe thead th {\n",
       "        text-align: right;\n",
       "    }\n",
       "</style>\n",
       "<table border=\"1\" class=\"dataframe\">\n",
       "  <thead>\n",
       "    <tr style=\"text-align: right;\">\n",
       "      <th></th>\n",
       "      <th>Netflix Ratings</th>\n",
       "      <th>Hulu Ratings</th>\n",
       "      <th>Amazon Ratings</th>\n",
       "      <th>Disney Ratings</th>\n",
       "      <th>Rating Category</th>\n",
       "    </tr>\n",
       "    <tr>\n",
       "      <th>rating</th>\n",
       "      <th></th>\n",
       "      <th></th>\n",
       "      <th></th>\n",
       "      <th></th>\n",
       "      <th></th>\n",
       "    </tr>\n",
       "  </thead>\n",
       "  <tbody>\n",
       "    <tr>\n",
       "      <th>13+</th>\n",
       "      <td>NaN</td>\n",
       "      <td>NaN</td>\n",
       "      <td>2117.0</td>\n",
       "      <td>NaN</td>\n",
       "      <td>Teens</td>\n",
       "    </tr>\n",
       "    <tr>\n",
       "      <th>16+</th>\n",
       "      <td>NaN</td>\n",
       "      <td>NaN</td>\n",
       "      <td>1547.0</td>\n",
       "      <td>NaN</td>\n",
       "      <td>Teens</td>\n",
       "    </tr>\n",
       "    <tr>\n",
       "      <th>18+</th>\n",
       "      <td>NaN</td>\n",
       "      <td>NaN</td>\n",
       "      <td>1243.0</td>\n",
       "      <td>NaN</td>\n",
       "      <td>Adults</td>\n",
       "    </tr>\n",
       "    <tr>\n",
       "      <th>7+</th>\n",
       "      <td>NaN</td>\n",
       "      <td>NaN</td>\n",
       "      <td>385.0</td>\n",
       "      <td>NaN</td>\n",
       "      <td>Kids</td>\n",
       "    </tr>\n",
       "    <tr>\n",
       "      <th>ALL</th>\n",
       "      <td>NaN</td>\n",
       "      <td>NaN</td>\n",
       "      <td>1268.0</td>\n",
       "      <td>NaN</td>\n",
       "      <td>All Ages</td>\n",
       "    </tr>\n",
       "    <tr>\n",
       "      <th>G</th>\n",
       "      <td>41.0</td>\n",
       "      <td>18.0</td>\n",
       "      <td>93.0</td>\n",
       "      <td>253.0</td>\n",
       "      <td>All Ages</td>\n",
       "    </tr>\n",
       "    <tr>\n",
       "      <th>NC-17</th>\n",
       "      <td>3.0</td>\n",
       "      <td>NaN</td>\n",
       "      <td>3.0</td>\n",
       "      <td>NaN</td>\n",
       "      <td>Adults</td>\n",
       "    </tr>\n",
       "    <tr>\n",
       "      <th>PG</th>\n",
       "      <td>287.0</td>\n",
       "      <td>105.0</td>\n",
       "      <td>253.0</td>\n",
       "      <td>236.0</td>\n",
       "      <td>Kids</td>\n",
       "    </tr>\n",
       "    <tr>\n",
       "      <th>PG-13</th>\n",
       "      <td>490.0</td>\n",
       "      <td>163.0</td>\n",
       "      <td>393.0</td>\n",
       "      <td>66.0</td>\n",
       "      <td>Teens</td>\n",
       "    </tr>\n",
       "    <tr>\n",
       "      <th>R</th>\n",
       "      <td>799.0</td>\n",
       "      <td>345.0</td>\n",
       "      <td>1010.0</td>\n",
       "      <td>NaN</td>\n",
       "      <td>Adults</td>\n",
       "    </tr>\n",
       "    <tr>\n",
       "      <th>TV-14</th>\n",
       "      <td>2157.0</td>\n",
       "      <td>691.0</td>\n",
       "      <td>208.0</td>\n",
       "      <td>79.0</td>\n",
       "      <td>Teens</td>\n",
       "    </tr>\n",
       "    <tr>\n",
       "      <th>TV-G</th>\n",
       "      <td>220.0</td>\n",
       "      <td>148.0</td>\n",
       "      <td>81.0</td>\n",
       "      <td>318.0</td>\n",
       "      <td>All Ages</td>\n",
       "    </tr>\n",
       "    <tr>\n",
       "      <th>TV-MA</th>\n",
       "      <td>3205.0</td>\n",
       "      <td>391.0</td>\n",
       "      <td>77.0</td>\n",
       "      <td>NaN</td>\n",
       "      <td>Adults</td>\n",
       "    </tr>\n",
       "    <tr>\n",
       "      <th>TV-PG</th>\n",
       "      <td>861.0</td>\n",
       "      <td>321.0</td>\n",
       "      <td>169.0</td>\n",
       "      <td>301.0</td>\n",
       "      <td>Kids</td>\n",
       "    </tr>\n",
       "    <tr>\n",
       "      <th>TV-Y</th>\n",
       "      <td>306.0</td>\n",
       "      <td>31.0</td>\n",
       "      <td>74.0</td>\n",
       "      <td>50.0</td>\n",
       "      <td>All Ages</td>\n",
       "    </tr>\n",
       "    <tr>\n",
       "      <th>TV-Y7</th>\n",
       "      <td>333.0</td>\n",
       "      <td>46.0</td>\n",
       "      <td>39.0</td>\n",
       "      <td>131.0</td>\n",
       "      <td>Kids</td>\n",
       "    </tr>\n",
       "    <tr>\n",
       "      <th>TV-Y7-FV</th>\n",
       "      <td>6.0</td>\n",
       "      <td>NaN</td>\n",
       "      <td>NaN</td>\n",
       "      <td>13.0</td>\n",
       "      <td>Kids</td>\n",
       "    </tr>\n",
       "    <tr>\n",
       "      <th>UNRATED</th>\n",
       "      <td>NaN</td>\n",
       "      <td>NaN</td>\n",
       "      <td>33.0</td>\n",
       "      <td>NaN</td>\n",
       "      <td>Adults</td>\n",
       "    </tr>\n",
       "    <tr>\n",
       "      <th>UR</th>\n",
       "      <td>3.0</td>\n",
       "      <td>NaN</td>\n",
       "      <td>NaN</td>\n",
       "      <td>NaN</td>\n",
       "      <td>Adults</td>\n",
       "    </tr>\n",
       "  </tbody>\n",
       "</table>\n",
       "</div>"
      ],
      "text/plain": [
       "          Netflix Ratings  Hulu Ratings  Amazon Ratings  Disney Ratings  \\\n",
       "rating                                                                    \n",
       "13+                   NaN           NaN          2117.0             NaN   \n",
       "16+                   NaN           NaN          1547.0             NaN   \n",
       "18+                   NaN           NaN          1243.0             NaN   \n",
       "7+                    NaN           NaN           385.0             NaN   \n",
       "ALL                   NaN           NaN          1268.0             NaN   \n",
       "G                    41.0          18.0            93.0           253.0   \n",
       "NC-17                 3.0           NaN             3.0             NaN   \n",
       "PG                  287.0         105.0           253.0           236.0   \n",
       "PG-13               490.0         163.0           393.0            66.0   \n",
       "R                   799.0         345.0          1010.0             NaN   \n",
       "TV-14              2157.0         691.0           208.0            79.0   \n",
       "TV-G                220.0         148.0            81.0           318.0   \n",
       "TV-MA              3205.0         391.0            77.0             NaN   \n",
       "TV-PG               861.0         321.0           169.0           301.0   \n",
       "TV-Y                306.0          31.0            74.0            50.0   \n",
       "TV-Y7               333.0          46.0            39.0           131.0   \n",
       "TV-Y7-FV              6.0           NaN             NaN            13.0   \n",
       "UNRATED               NaN           NaN            33.0             NaN   \n",
       "UR                    3.0           NaN             NaN             NaN   \n",
       "\n",
       "         Rating Category  \n",
       "rating                    \n",
       "13+                Teens  \n",
       "16+                Teens  \n",
       "18+               Adults  \n",
       "7+                  Kids  \n",
       "ALL             All Ages  \n",
       "G               All Ages  \n",
       "NC-17             Adults  \n",
       "PG                  Kids  \n",
       "PG-13              Teens  \n",
       "R                 Adults  \n",
       "TV-14              Teens  \n",
       "TV-G            All Ages  \n",
       "TV-MA             Adults  \n",
       "TV-PG               Kids  \n",
       "TV-Y            All Ages  \n",
       "TV-Y7               Kids  \n",
       "TV-Y7-FV            Kids  \n",
       "UNRATED           Adults  \n",
       "UR                Adults  "
      ]
     },
     "execution_count": 12,
     "metadata": {},
     "output_type": "execute_result"
    }
   ],
   "source": [
    "All_rating_df['Rating Category'] = All_rating_df.index.to_series().apply( lambda x: 'Teens' if x in ['13+', 'PG-13', 'TV-14', '16+'] \n",
    "                                                                       else ('Kids' if x in ['PG', 'TV-PG', '7+', 'TV-Y7', 'TV-Y7-FV'] \n",
    "                                                                             else ('Adults' if x in ['R', 'NC-17', '18+', 'TV-MA', 'UR', 'UNRATED']\n",
    "                                                                                    else ('All Ages' if x in ['G', 'TV-G', 'TV-Y', 'ALL', 'ALL AGES']\n",
    "                                                                             else 'X') )))\n",
    "\n",
    "substring = 'X'\n",
    "filter = All_rating_df['Rating Category'].str.contains(substring)\n",
    "All_rating_filtered_df = All_rating_df[~filter]\n",
    "\n",
    "All_rating_filtered_df"
   ]
  },
  {
   "cell_type": "code",
   "execution_count": 13,
   "id": "3a268b07-f531-4109-bc0c-86b28e9c954b",
   "metadata": {
    "scrolled": true
   },
   "outputs": [
    {
     "data": {
      "text/html": [
       "<div>\n",
       "<style scoped>\n",
       "    .dataframe tbody tr th:only-of-type {\n",
       "        vertical-align: middle;\n",
       "    }\n",
       "\n",
       "    .dataframe tbody tr th {\n",
       "        vertical-align: top;\n",
       "    }\n",
       "\n",
       "    .dataframe thead th {\n",
       "        text-align: right;\n",
       "    }\n",
       "</style>\n",
       "<table border=\"1\" class=\"dataframe\">\n",
       "  <thead>\n",
       "    <tr style=\"text-align: right;\">\n",
       "      <th></th>\n",
       "      <th>Netflix Ratings</th>\n",
       "      <th>Hulu Ratings</th>\n",
       "      <th>Amazon Ratings</th>\n",
       "      <th>Disney Ratings</th>\n",
       "      <th>Rating Category</th>\n",
       "    </tr>\n",
       "    <tr>\n",
       "      <th>rating</th>\n",
       "      <th></th>\n",
       "      <th></th>\n",
       "      <th></th>\n",
       "      <th></th>\n",
       "      <th></th>\n",
       "    </tr>\n",
       "  </thead>\n",
       "  <tbody>\n",
       "    <tr>\n",
       "      <th>18+</th>\n",
       "      <td>NaN</td>\n",
       "      <td>NaN</td>\n",
       "      <td>1243.0</td>\n",
       "      <td>NaN</td>\n",
       "      <td>Adults</td>\n",
       "    </tr>\n",
       "    <tr>\n",
       "      <th>NC-17</th>\n",
       "      <td>3.0</td>\n",
       "      <td>NaN</td>\n",
       "      <td>3.0</td>\n",
       "      <td>NaN</td>\n",
       "      <td>Adults</td>\n",
       "    </tr>\n",
       "    <tr>\n",
       "      <th>R</th>\n",
       "      <td>799.0</td>\n",
       "      <td>345.0</td>\n",
       "      <td>1010.0</td>\n",
       "      <td>NaN</td>\n",
       "      <td>Adults</td>\n",
       "    </tr>\n",
       "    <tr>\n",
       "      <th>TV-MA</th>\n",
       "      <td>3205.0</td>\n",
       "      <td>391.0</td>\n",
       "      <td>77.0</td>\n",
       "      <td>NaN</td>\n",
       "      <td>Adults</td>\n",
       "    </tr>\n",
       "    <tr>\n",
       "      <th>UNRATED</th>\n",
       "      <td>NaN</td>\n",
       "      <td>NaN</td>\n",
       "      <td>33.0</td>\n",
       "      <td>NaN</td>\n",
       "      <td>Adults</td>\n",
       "    </tr>\n",
       "    <tr>\n",
       "      <th>UR</th>\n",
       "      <td>3.0</td>\n",
       "      <td>NaN</td>\n",
       "      <td>NaN</td>\n",
       "      <td>NaN</td>\n",
       "      <td>Adults</td>\n",
       "    </tr>\n",
       "  </tbody>\n",
       "</table>\n",
       "</div>"
      ],
      "text/plain": [
       "         Netflix Ratings  Hulu Ratings  Amazon Ratings  Disney Ratings  \\\n",
       "rating                                                                   \n",
       "18+                  NaN           NaN          1243.0             NaN   \n",
       "NC-17                3.0           NaN             3.0             NaN   \n",
       "R                  799.0         345.0          1010.0             NaN   \n",
       "TV-MA             3205.0         391.0            77.0             NaN   \n",
       "UNRATED              NaN           NaN            33.0             NaN   \n",
       "UR                   3.0           NaN             NaN             NaN   \n",
       "\n",
       "        Rating Category  \n",
       "rating                   \n",
       "18+              Adults  \n",
       "NC-17            Adults  \n",
       "R                Adults  \n",
       "TV-MA            Adults  \n",
       "UNRATED          Adults  \n",
       "UR               Adults  "
      ]
     },
     "execution_count": 13,
     "metadata": {},
     "output_type": "execute_result"
    }
   ],
   "source": [
    "Adults_Rating_All = All_rating_filtered_df[(All_rating_filtered_df[\"Rating Category\"] == \"Adults\")]\n",
    "Adults_Rating_All"
   ]
  },
  {
   "cell_type": "code",
   "execution_count": 34,
   "id": "7499851d-e869-49c1-badb-3bc68e841ad7",
   "metadata": {},
   "outputs": [
    {
     "data": {
      "text/plain": [
       "4010.0"
      ]
     },
     "execution_count": 34,
     "metadata": {},
     "output_type": "execute_result"
    }
   ],
   "source": [
    "Adults_Rating_Netflix = Adults_Rating_All[\"Netflix Ratings\"].sum()\n",
    "Adults_Rating_Netflix"
   ]
  },
  {
   "cell_type": "code",
   "execution_count": 15,
   "id": "cf4215a4-bf77-45ca-b328-c90df029b5b8",
   "metadata": {},
   "outputs": [
    {
     "data": {
      "text/plain": [
       "736.0"
      ]
     },
     "execution_count": 15,
     "metadata": {},
     "output_type": "execute_result"
    }
   ],
   "source": [
    "Adults_Rating_Hulu = Adults_Rating_All[\"Hulu Ratings\"].sum()\n",
    "Adults_Rating_Hulu"
   ]
  },
  {
   "cell_type": "code",
   "execution_count": 16,
   "id": "bec91ee5-a79b-48a0-a294-66b43737e34a",
   "metadata": {},
   "outputs": [
    {
     "data": {
      "text/plain": [
       "2366.0"
      ]
     },
     "execution_count": 16,
     "metadata": {},
     "output_type": "execute_result"
    }
   ],
   "source": [
    "Adults_Rating_Amazon = Adults_Rating_All[\"Amazon Ratings\"].sum()\n",
    "Adults_Rating_Amazon"
   ]
  },
  {
   "cell_type": "code",
   "execution_count": 17,
   "id": "01245f7b-6672-4240-a2dc-b4a298b2d882",
   "metadata": {},
   "outputs": [
    {
     "data": {
      "text/plain": [
       "0.0"
      ]
     },
     "execution_count": 17,
     "metadata": {},
     "output_type": "execute_result"
    }
   ],
   "source": [
    "Adults_Rating_Disney = Adults_Rating_All[\"Disney Ratings\"].sum()\n",
    "Adults_Rating_Disney"
   ]
  },
  {
   "cell_type": "code",
   "execution_count": 18,
   "id": "5ef39994-36a4-4667-a452-552fd0dce57d",
   "metadata": {},
   "outputs": [
    {
     "data": {
      "text/html": [
       "<div>\n",
       "<style scoped>\n",
       "    .dataframe tbody tr th:only-of-type {\n",
       "        vertical-align: middle;\n",
       "    }\n",
       "\n",
       "    .dataframe tbody tr th {\n",
       "        vertical-align: top;\n",
       "    }\n",
       "\n",
       "    .dataframe thead th {\n",
       "        text-align: right;\n",
       "    }\n",
       "</style>\n",
       "<table border=\"1\" class=\"dataframe\">\n",
       "  <thead>\n",
       "    <tr style=\"text-align: right;\">\n",
       "      <th></th>\n",
       "      <th>Netflix Ratings</th>\n",
       "      <th>Hulu Ratings</th>\n",
       "      <th>Amazon Ratings</th>\n",
       "      <th>Disney Ratings</th>\n",
       "      <th>Rating Category</th>\n",
       "    </tr>\n",
       "    <tr>\n",
       "      <th>rating</th>\n",
       "      <th></th>\n",
       "      <th></th>\n",
       "      <th></th>\n",
       "      <th></th>\n",
       "      <th></th>\n",
       "    </tr>\n",
       "  </thead>\n",
       "  <tbody>\n",
       "    <tr>\n",
       "      <th>13+</th>\n",
       "      <td>NaN</td>\n",
       "      <td>NaN</td>\n",
       "      <td>2117.0</td>\n",
       "      <td>NaN</td>\n",
       "      <td>Teens</td>\n",
       "    </tr>\n",
       "    <tr>\n",
       "      <th>16+</th>\n",
       "      <td>NaN</td>\n",
       "      <td>NaN</td>\n",
       "      <td>1547.0</td>\n",
       "      <td>NaN</td>\n",
       "      <td>Teens</td>\n",
       "    </tr>\n",
       "    <tr>\n",
       "      <th>PG-13</th>\n",
       "      <td>490.0</td>\n",
       "      <td>163.0</td>\n",
       "      <td>393.0</td>\n",
       "      <td>66.0</td>\n",
       "      <td>Teens</td>\n",
       "    </tr>\n",
       "    <tr>\n",
       "      <th>TV-14</th>\n",
       "      <td>2157.0</td>\n",
       "      <td>691.0</td>\n",
       "      <td>208.0</td>\n",
       "      <td>79.0</td>\n",
       "      <td>Teens</td>\n",
       "    </tr>\n",
       "  </tbody>\n",
       "</table>\n",
       "</div>"
      ],
      "text/plain": [
       "        Netflix Ratings  Hulu Ratings  Amazon Ratings  Disney Ratings  \\\n",
       "rating                                                                  \n",
       "13+                 NaN           NaN          2117.0             NaN   \n",
       "16+                 NaN           NaN          1547.0             NaN   \n",
       "PG-13             490.0         163.0           393.0            66.0   \n",
       "TV-14            2157.0         691.0           208.0            79.0   \n",
       "\n",
       "       Rating Category  \n",
       "rating                  \n",
       "13+              Teens  \n",
       "16+              Teens  \n",
       "PG-13            Teens  \n",
       "TV-14            Teens  "
      ]
     },
     "execution_count": 18,
     "metadata": {},
     "output_type": "execute_result"
    }
   ],
   "source": [
    "Teens_Rating_All = All_rating_filtered_df[(All_rating_filtered_df[\"Rating Category\"] == \"Teens\")]\n",
    "Teens_Rating_All"
   ]
  },
  {
   "cell_type": "code",
   "execution_count": 19,
   "id": "1cab9c35-cb7a-452d-9cd4-4bbdd5c7a34f",
   "metadata": {},
   "outputs": [
    {
     "data": {
      "text/plain": [
       "2647.0"
      ]
     },
     "execution_count": 19,
     "metadata": {},
     "output_type": "execute_result"
    }
   ],
   "source": [
    "Teens_Rating_Netflix = Teens_Rating_All[\"Netflix Ratings\"].sum()\n",
    "Teens_Rating_Netflix"
   ]
  },
  {
   "cell_type": "code",
   "execution_count": 20,
   "id": "2a9b1592-8456-4c9a-9c6b-e97a68cc72c5",
   "metadata": {},
   "outputs": [
    {
     "data": {
      "text/plain": [
       "854.0"
      ]
     },
     "execution_count": 20,
     "metadata": {},
     "output_type": "execute_result"
    }
   ],
   "source": [
    "Teens_Rating_Hulu = Teens_Rating_All[\"Hulu Ratings\"].sum()\n",
    "Teens_Rating_Hulu"
   ]
  },
  {
   "cell_type": "code",
   "execution_count": 21,
   "id": "71c244e5-529e-4248-9326-1f58de6f85c6",
   "metadata": {},
   "outputs": [
    {
     "data": {
      "text/plain": [
       "4265.0"
      ]
     },
     "execution_count": 21,
     "metadata": {},
     "output_type": "execute_result"
    }
   ],
   "source": [
    "Teens_Rating_Amazon = Teens_Rating_All[\"Amazon Ratings\"].sum()\n",
    "Teens_Rating_Amazon"
   ]
  },
  {
   "cell_type": "code",
   "execution_count": 22,
   "id": "fe1a4998-32e3-4e50-9496-4fd09fe73517",
   "metadata": {},
   "outputs": [
    {
     "data": {
      "text/plain": [
       "145.0"
      ]
     },
     "execution_count": 22,
     "metadata": {},
     "output_type": "execute_result"
    }
   ],
   "source": [
    "Teens_Rating_Disney = Teens_Rating_All[\"Disney Ratings\"].sum()\n",
    "Teens_Rating_Disney"
   ]
  },
  {
   "cell_type": "code",
   "execution_count": 23,
   "id": "5cc373f7-7c9c-47cc-9ff0-1937d7b7b64f",
   "metadata": {},
   "outputs": [
    {
     "data": {
      "text/html": [
       "<div>\n",
       "<style scoped>\n",
       "    .dataframe tbody tr th:only-of-type {\n",
       "        vertical-align: middle;\n",
       "    }\n",
       "\n",
       "    .dataframe tbody tr th {\n",
       "        vertical-align: top;\n",
       "    }\n",
       "\n",
       "    .dataframe thead th {\n",
       "        text-align: right;\n",
       "    }\n",
       "</style>\n",
       "<table border=\"1\" class=\"dataframe\">\n",
       "  <thead>\n",
       "    <tr style=\"text-align: right;\">\n",
       "      <th></th>\n",
       "      <th>Netflix Ratings</th>\n",
       "      <th>Hulu Ratings</th>\n",
       "      <th>Amazon Ratings</th>\n",
       "      <th>Disney Ratings</th>\n",
       "      <th>Rating Category</th>\n",
       "    </tr>\n",
       "    <tr>\n",
       "      <th>rating</th>\n",
       "      <th></th>\n",
       "      <th></th>\n",
       "      <th></th>\n",
       "      <th></th>\n",
       "      <th></th>\n",
       "    </tr>\n",
       "  </thead>\n",
       "  <tbody>\n",
       "    <tr>\n",
       "      <th>7+</th>\n",
       "      <td>NaN</td>\n",
       "      <td>NaN</td>\n",
       "      <td>385.0</td>\n",
       "      <td>NaN</td>\n",
       "      <td>Kids</td>\n",
       "    </tr>\n",
       "    <tr>\n",
       "      <th>PG</th>\n",
       "      <td>287.0</td>\n",
       "      <td>105.0</td>\n",
       "      <td>253.0</td>\n",
       "      <td>236.0</td>\n",
       "      <td>Kids</td>\n",
       "    </tr>\n",
       "    <tr>\n",
       "      <th>TV-PG</th>\n",
       "      <td>861.0</td>\n",
       "      <td>321.0</td>\n",
       "      <td>169.0</td>\n",
       "      <td>301.0</td>\n",
       "      <td>Kids</td>\n",
       "    </tr>\n",
       "    <tr>\n",
       "      <th>TV-Y7</th>\n",
       "      <td>333.0</td>\n",
       "      <td>46.0</td>\n",
       "      <td>39.0</td>\n",
       "      <td>131.0</td>\n",
       "      <td>Kids</td>\n",
       "    </tr>\n",
       "    <tr>\n",
       "      <th>TV-Y7-FV</th>\n",
       "      <td>6.0</td>\n",
       "      <td>NaN</td>\n",
       "      <td>NaN</td>\n",
       "      <td>13.0</td>\n",
       "      <td>Kids</td>\n",
       "    </tr>\n",
       "  </tbody>\n",
       "</table>\n",
       "</div>"
      ],
      "text/plain": [
       "          Netflix Ratings  Hulu Ratings  Amazon Ratings  Disney Ratings  \\\n",
       "rating                                                                    \n",
       "7+                    NaN           NaN           385.0             NaN   \n",
       "PG                  287.0         105.0           253.0           236.0   \n",
       "TV-PG               861.0         321.0           169.0           301.0   \n",
       "TV-Y7               333.0          46.0            39.0           131.0   \n",
       "TV-Y7-FV              6.0           NaN             NaN            13.0   \n",
       "\n",
       "         Rating Category  \n",
       "rating                    \n",
       "7+                  Kids  \n",
       "PG                  Kids  \n",
       "TV-PG               Kids  \n",
       "TV-Y7               Kids  \n",
       "TV-Y7-FV            Kids  "
      ]
     },
     "execution_count": 23,
     "metadata": {},
     "output_type": "execute_result"
    }
   ],
   "source": [
    "Kids_Rating_All = All_rating_filtered_df[(All_rating_filtered_df[\"Rating Category\"] == \"Kids\")]\n",
    "Kids_Rating_All"
   ]
  },
  {
   "cell_type": "code",
   "execution_count": 24,
   "id": "c613b821-ce41-48e1-a49e-62a1ea7e2b36",
   "metadata": {},
   "outputs": [
    {
     "data": {
      "text/plain": [
       "1487.0"
      ]
     },
     "execution_count": 24,
     "metadata": {},
     "output_type": "execute_result"
    }
   ],
   "source": [
    "Kids_Rating_Netflix = Kids_Rating_All[\"Netflix Ratings\"].sum()\n",
    "Kids_Rating_Netflix"
   ]
  },
  {
   "cell_type": "code",
   "execution_count": 25,
   "id": "1f0744e6-5a20-4d34-b078-63c4a5e43b88",
   "metadata": {},
   "outputs": [
    {
     "data": {
      "text/plain": [
       "472.0"
      ]
     },
     "execution_count": 25,
     "metadata": {},
     "output_type": "execute_result"
    }
   ],
   "source": [
    "Kids_Rating_Hulu = Kids_Rating_All[\"Hulu Ratings\"].sum()\n",
    "Kids_Rating_Hulu"
   ]
  },
  {
   "cell_type": "code",
   "execution_count": 26,
   "id": "90252d7e-2f07-4ef4-9b86-fa141721eb07",
   "metadata": {},
   "outputs": [
    {
     "data": {
      "text/plain": [
       "846.0"
      ]
     },
     "execution_count": 26,
     "metadata": {},
     "output_type": "execute_result"
    }
   ],
   "source": [
    "Kids_Rating_Amazon = Kids_Rating_All[\"Amazon Ratings\"].sum()\n",
    "Kids_Rating_Amazon"
   ]
  },
  {
   "cell_type": "code",
   "execution_count": 44,
   "id": "62c03967-bd3a-4f5a-be3c-1c6f55761809",
   "metadata": {},
   "outputs": [
    {
     "data": {
      "text/plain": [
       "681.0"
      ]
     },
     "execution_count": 44,
     "metadata": {},
     "output_type": "execute_result"
    }
   ],
   "source": [
    "Kids_Rating_Disney = Kids_Rating_All[\"Disney Ratings\"].sum()\n",
    "Kids_Rating_Disney"
   ]
  },
  {
   "cell_type": "code",
   "execution_count": 45,
   "id": "328803a3-2939-4e66-8d78-53385371a033",
   "metadata": {},
   "outputs": [
    {
     "data": {
      "text/html": [
       "<div>\n",
       "<style scoped>\n",
       "    .dataframe tbody tr th:only-of-type {\n",
       "        vertical-align: middle;\n",
       "    }\n",
       "\n",
       "    .dataframe tbody tr th {\n",
       "        vertical-align: top;\n",
       "    }\n",
       "\n",
       "    .dataframe thead th {\n",
       "        text-align: right;\n",
       "    }\n",
       "</style>\n",
       "<table border=\"1\" class=\"dataframe\">\n",
       "  <thead>\n",
       "    <tr style=\"text-align: right;\">\n",
       "      <th></th>\n",
       "      <th>Netflix Ratings</th>\n",
       "      <th>Hulu Ratings</th>\n",
       "      <th>Amazon Ratings</th>\n",
       "      <th>Disney Ratings</th>\n",
       "      <th>Rating Category</th>\n",
       "    </tr>\n",
       "    <tr>\n",
       "      <th>rating</th>\n",
       "      <th></th>\n",
       "      <th></th>\n",
       "      <th></th>\n",
       "      <th></th>\n",
       "      <th></th>\n",
       "    </tr>\n",
       "  </thead>\n",
       "  <tbody>\n",
       "    <tr>\n",
       "      <th>ALL</th>\n",
       "      <td>NaN</td>\n",
       "      <td>NaN</td>\n",
       "      <td>1268.0</td>\n",
       "      <td>NaN</td>\n",
       "      <td>All Ages</td>\n",
       "    </tr>\n",
       "    <tr>\n",
       "      <th>G</th>\n",
       "      <td>41.0</td>\n",
       "      <td>18.0</td>\n",
       "      <td>93.0</td>\n",
       "      <td>253.0</td>\n",
       "      <td>All Ages</td>\n",
       "    </tr>\n",
       "    <tr>\n",
       "      <th>TV-G</th>\n",
       "      <td>220.0</td>\n",
       "      <td>148.0</td>\n",
       "      <td>81.0</td>\n",
       "      <td>318.0</td>\n",
       "      <td>All Ages</td>\n",
       "    </tr>\n",
       "    <tr>\n",
       "      <th>TV-Y</th>\n",
       "      <td>306.0</td>\n",
       "      <td>31.0</td>\n",
       "      <td>74.0</td>\n",
       "      <td>50.0</td>\n",
       "      <td>All Ages</td>\n",
       "    </tr>\n",
       "  </tbody>\n",
       "</table>\n",
       "</div>"
      ],
      "text/plain": [
       "        Netflix Ratings  Hulu Ratings  Amazon Ratings  Disney Ratings  \\\n",
       "rating                                                                  \n",
       "ALL                 NaN           NaN          1268.0             NaN   \n",
       "G                  41.0          18.0            93.0           253.0   \n",
       "TV-G              220.0         148.0            81.0           318.0   \n",
       "TV-Y              306.0          31.0            74.0            50.0   \n",
       "\n",
       "       Rating Category  \n",
       "rating                  \n",
       "ALL           All Ages  \n",
       "G             All Ages  \n",
       "TV-G          All Ages  \n",
       "TV-Y          All Ages  "
      ]
     },
     "execution_count": 45,
     "metadata": {},
     "output_type": "execute_result"
    }
   ],
   "source": [
    "AllAges_Rating_All = All_rating_filtered_df[(All_rating_filtered_df[\"Rating Category\"] == \"All Ages\")]\n",
    "AllAges_Rating_All"
   ]
  },
  {
   "cell_type": "code",
   "execution_count": 46,
   "id": "524bdd51-f110-4961-88d1-9dce9c079703",
   "metadata": {},
   "outputs": [
    {
     "data": {
      "text/plain": [
       "567.0"
      ]
     },
     "execution_count": 46,
     "metadata": {},
     "output_type": "execute_result"
    }
   ],
   "source": [
    "AllAges_Rating_Netflix = AllAges_Rating_All[\"Netflix Ratings\"].sum()\n",
    "AllAges_Rating_Netflix"
   ]
  },
  {
   "cell_type": "code",
   "execution_count": 47,
   "id": "f2161647-59ef-497e-b5d2-997125846073",
   "metadata": {},
   "outputs": [
    {
     "data": {
      "text/plain": [
       "197.0"
      ]
     },
     "execution_count": 47,
     "metadata": {},
     "output_type": "execute_result"
    }
   ],
   "source": [
    "AllAges_Rating_Hulu = AllAges_Rating_All[\"Hulu Ratings\"].sum()\n",
    "AllAges_Rating_Hulu"
   ]
  },
  {
   "cell_type": "code",
   "execution_count": 48,
   "id": "d08f8b00-b4bc-489f-99f4-614c2790c42a",
   "metadata": {},
   "outputs": [
    {
     "data": {
      "text/plain": [
       "1516.0"
      ]
     },
     "execution_count": 48,
     "metadata": {},
     "output_type": "execute_result"
    }
   ],
   "source": [
    "AllAges_Rating_Amazon = AllAges_Rating_All[\"Amazon Ratings\"].sum()\n",
    "AllAges_Rating_Amazon"
   ]
  },
  {
   "cell_type": "code",
   "execution_count": 49,
   "id": "bb9a246a-8cd6-456c-ae5f-adbd63d6a00b",
   "metadata": {},
   "outputs": [
    {
     "data": {
      "text/plain": [
       "621.0"
      ]
     },
     "execution_count": 49,
     "metadata": {},
     "output_type": "execute_result"
    }
   ],
   "source": [
    "AllAges_Rating_Disney = AllAges_Rating_All[\"Disney Ratings\"].sum()\n",
    "AllAges_Rating_Disney"
   ]
  },
  {
   "cell_type": "code",
   "execution_count": 50,
   "id": "df758c0d",
   "metadata": {},
   "outputs": [
    {
     "data": {
      "text/html": [
       "<div>\n",
       "<style scoped>\n",
       "    .dataframe tbody tr th:only-of-type {\n",
       "        vertical-align: middle;\n",
       "    }\n",
       "\n",
       "    .dataframe tbody tr th {\n",
       "        vertical-align: top;\n",
       "    }\n",
       "\n",
       "    .dataframe thead th {\n",
       "        text-align: right;\n",
       "    }\n",
       "</style>\n",
       "<table border=\"1\" class=\"dataframe\">\n",
       "  <thead>\n",
       "    <tr style=\"text-align: right;\">\n",
       "      <th></th>\n",
       "      <th>Netflix Ratings</th>\n",
       "      <th>Hulu Ratings</th>\n",
       "      <th>Amazon Ratings</th>\n",
       "      <th>Disney Ratings</th>\n",
       "    </tr>\n",
       "  </thead>\n",
       "  <tbody>\n",
       "    <tr>\n",
       "      <th>0</th>\n",
       "      <td>567.0</td>\n",
       "      <td>197.0</td>\n",
       "      <td>1516.0</td>\n",
       "      <td>621.0</td>\n",
       "    </tr>\n",
       "  </tbody>\n",
       "</table>\n",
       "</div>"
      ],
      "text/plain": [
       "   Netflix Ratings  Hulu Ratings  Amazon Ratings  Disney Ratings\n",
       "0            567.0         197.0          1516.0           621.0"
      ]
     },
     "execution_count": 50,
     "metadata": {},
     "output_type": "execute_result"
    }
   ],
   "source": [
    "AllAges_Rating_All_Df = pd.DataFrame (\n",
    "    {\"Netflix Ratings\": [AllAges_Rating_Netflix],\n",
    "     \"Hulu Ratings\": [AllAges_Rating_Hulu],\n",
    "     \"Amazon Ratings\": [AllAges_Rating_Amazon],\n",
    "     \"Disney Ratings\": [AllAges_Rating_Disney],\n",
    "})\n",
    "\n",
    "AllAges_Rating_All_Df"
   ]
  },
  {
   "cell_type": "code",
   "execution_count": 51,
   "id": "46b6b290",
   "metadata": {},
   "outputs": [
    {
     "data": {
      "text/html": [
       "<div>\n",
       "<style scoped>\n",
       "    .dataframe tbody tr th:only-of-type {\n",
       "        vertical-align: middle;\n",
       "    }\n",
       "\n",
       "    .dataframe tbody tr th {\n",
       "        vertical-align: top;\n",
       "    }\n",
       "\n",
       "    .dataframe thead th {\n",
       "        text-align: right;\n",
       "    }\n",
       "</style>\n",
       "<table border=\"1\" class=\"dataframe\">\n",
       "  <thead>\n",
       "    <tr style=\"text-align: right;\">\n",
       "      <th></th>\n",
       "      <th>Netflix Ratings</th>\n",
       "      <th>Hulu Ratings</th>\n",
       "      <th>Amazon Ratings</th>\n",
       "      <th>Disney Ratings</th>\n",
       "    </tr>\n",
       "  </thead>\n",
       "  <tbody>\n",
       "    <tr>\n",
       "      <th>0</th>\n",
       "      <td>1487.0</td>\n",
       "      <td>472.0</td>\n",
       "      <td>846.0</td>\n",
       "      <td>681.0</td>\n",
       "    </tr>\n",
       "  </tbody>\n",
       "</table>\n",
       "</div>"
      ],
      "text/plain": [
       "   Netflix Ratings  Hulu Ratings  Amazon Ratings  Disney Ratings\n",
       "0           1487.0         472.0           846.0           681.0"
      ]
     },
     "execution_count": 51,
     "metadata": {},
     "output_type": "execute_result"
    }
   ],
   "source": [
    "Kids_Rating_All_Df = pd.DataFrame (\n",
    "    {\"Netflix Ratings\": [Kids_Rating_Netflix],\n",
    "     \"Hulu Ratings\": [Kids_Rating_Hulu],\n",
    "     \"Amazon Ratings\": [Kids_Rating_Amazon],\n",
    "     \"Disney Ratings\": [Kids_Rating_Disney],\n",
    "})\n",
    "\n",
    "Kids_Rating_All_Df"
   ]
  },
  {
   "cell_type": "code",
   "execution_count": 52,
   "id": "e05c90ed",
   "metadata": {},
   "outputs": [
    {
     "data": {
      "text/html": [
       "<div>\n",
       "<style scoped>\n",
       "    .dataframe tbody tr th:only-of-type {\n",
       "        vertical-align: middle;\n",
       "    }\n",
       "\n",
       "    .dataframe tbody tr th {\n",
       "        vertical-align: top;\n",
       "    }\n",
       "\n",
       "    .dataframe thead th {\n",
       "        text-align: right;\n",
       "    }\n",
       "</style>\n",
       "<table border=\"1\" class=\"dataframe\">\n",
       "  <thead>\n",
       "    <tr style=\"text-align: right;\">\n",
       "      <th></th>\n",
       "      <th>Netflix Ratings</th>\n",
       "      <th>Hulu Ratings</th>\n",
       "      <th>Amazon Ratings</th>\n",
       "      <th>Disney Ratings</th>\n",
       "    </tr>\n",
       "  </thead>\n",
       "  <tbody>\n",
       "    <tr>\n",
       "      <th>0</th>\n",
       "      <td>2647.0</td>\n",
       "      <td>854.0</td>\n",
       "      <td>4265.0</td>\n",
       "      <td>145.0</td>\n",
       "    </tr>\n",
       "  </tbody>\n",
       "</table>\n",
       "</div>"
      ],
      "text/plain": [
       "   Netflix Ratings  Hulu Ratings  Amazon Ratings  Disney Ratings\n",
       "0           2647.0         854.0          4265.0           145.0"
      ]
     },
     "execution_count": 52,
     "metadata": {},
     "output_type": "execute_result"
    }
   ],
   "source": [
    "Teens_Rating_All_Df = pd.DataFrame (\n",
    "    {\"Netflix Ratings\": [Teens_Rating_Netflix],\n",
    "     \"Hulu Ratings\": [Teens_Rating_Hulu],\n",
    "     \"Amazon Ratings\": [Teens_Rating_Amazon],\n",
    "     \"Disney Ratings\": [Teens_Rating_Disney],\n",
    "})\n",
    "\n",
    "Teens_Rating_All_Df"
   ]
  },
  {
   "cell_type": "code",
   "execution_count": 41,
   "id": "1073d41e",
   "metadata": {},
   "outputs": [
    {
     "data": {
      "text/html": [
       "<div>\n",
       "<style scoped>\n",
       "    .dataframe tbody tr th:only-of-type {\n",
       "        vertical-align: middle;\n",
       "    }\n",
       "\n",
       "    .dataframe tbody tr th {\n",
       "        vertical-align: top;\n",
       "    }\n",
       "\n",
       "    .dataframe thead th {\n",
       "        text-align: right;\n",
       "    }\n",
       "</style>\n",
       "<table border=\"1\" class=\"dataframe\">\n",
       "  <thead>\n",
       "    <tr style=\"text-align: right;\">\n",
       "      <th></th>\n",
       "      <th>Netflix Ratings</th>\n",
       "      <th>Hulu Ratings</th>\n",
       "      <th>Amazon Ratings</th>\n",
       "      <th>Disney Ratings</th>\n",
       "    </tr>\n",
       "  </thead>\n",
       "  <tbody>\n",
       "    <tr>\n",
       "      <th>0</th>\n",
       "      <td>4010.0</td>\n",
       "      <td>736.0</td>\n",
       "      <td>2366.0</td>\n",
       "      <td>0.0</td>\n",
       "    </tr>\n",
       "  </tbody>\n",
       "</table>\n",
       "</div>"
      ],
      "text/plain": [
       "   Netflix Ratings  Hulu Ratings  Amazon Ratings  Disney Ratings\n",
       "0           4010.0         736.0          2366.0             0.0"
      ]
     },
     "execution_count": 41,
     "metadata": {},
     "output_type": "execute_result"
    }
   ],
   "source": [
    "Adults_Rating_All_Df = pd.DataFrame (\n",
    "    {\"Netflix Ratings\": [Adults_Rating_Netflix],\n",
    "     \"Hulu Ratings\": [Adults_Rating_Hulu],\n",
    "     \"Amazon Ratings\": [Adults_Rating_Amazon],\n",
    "     \"Disney Ratings\": [Adults_Rating_Disney],\n",
    "})\n",
    "\n",
    "Adults_Rating_All_Df"
   ]
  },
  {
   "cell_type": "code",
   "execution_count": 88,
   "id": "e686afd9",
   "metadata": {},
   "outputs": [
    {
     "data": {
      "text/html": [
       "<div>\n",
       "<style scoped>\n",
       "    .dataframe tbody tr th:only-of-type {\n",
       "        vertical-align: middle;\n",
       "    }\n",
       "\n",
       "    .dataframe tbody tr th {\n",
       "        vertical-align: top;\n",
       "    }\n",
       "\n",
       "    .dataframe thead th {\n",
       "        text-align: right;\n",
       "    }\n",
       "</style>\n",
       "<table border=\"1\" class=\"dataframe\">\n",
       "  <thead>\n",
       "    <tr style=\"text-align: right;\">\n",
       "      <th></th>\n",
       "      <th>Netflix</th>\n",
       "      <th>Hulu</th>\n",
       "      <th>Amazon</th>\n",
       "      <th>Disney</th>\n",
       "    </tr>\n",
       "  </thead>\n",
       "  <tbody>\n",
       "    <tr>\n",
       "      <th>All Ages</th>\n",
       "      <td>567.0</td>\n",
       "      <td>197.0</td>\n",
       "      <td>1516.0</td>\n",
       "      <td>621.0</td>\n",
       "    </tr>\n",
       "    <tr>\n",
       "      <th>Kids</th>\n",
       "      <td>1487.0</td>\n",
       "      <td>472.0</td>\n",
       "      <td>846.0</td>\n",
       "      <td>681.0</td>\n",
       "    </tr>\n",
       "    <tr>\n",
       "      <th>Teens</th>\n",
       "      <td>2647.0</td>\n",
       "      <td>854.0</td>\n",
       "      <td>4265.0</td>\n",
       "      <td>145.0</td>\n",
       "    </tr>\n",
       "    <tr>\n",
       "      <th>Adults</th>\n",
       "      <td>4010.0</td>\n",
       "      <td>736.0</td>\n",
       "      <td>2366.0</td>\n",
       "      <td>0.0</td>\n",
       "    </tr>\n",
       "  </tbody>\n",
       "</table>\n",
       "</div>"
      ],
      "text/plain": [
       "          Netflix   Hulu  Amazon  Disney\n",
       "All Ages    567.0  197.0  1516.0   621.0\n",
       "Kids       1487.0  472.0   846.0   681.0\n",
       "Teens      2647.0  854.0  4265.0   145.0\n",
       "Adults     4010.0  736.0  2366.0     0.0"
      ]
     },
     "execution_count": 88,
     "metadata": {},
     "output_type": "execute_result"
    }
   ],
   "source": [
    "All_Ratings_Complete_Df = pd.DataFrame (\n",
    "    {\"Netflix\": [AllAges_Rating_Netflix, Kids_Rating_Netflix, Teens_Rating_Netflix, Adults_Rating_Netflix],\n",
    "     \"Hulu\": [AllAges_Rating_Hulu, Kids_Rating_Hulu, Teens_Rating_Hulu, Adults_Rating_Hulu],\n",
    "     \"Amazon\": [AllAges_Rating_Amazon, Kids_Rating_Amazon, Teens_Rating_Amazon, Adults_Rating_Amazon],\n",
    "     \"Disney\": [AllAges_Rating_Disney, Kids_Rating_Disney, Teens_Rating_Disney, Adults_Rating_Disney]},\n",
    "index=[\"All Ages\", \"Kids\", \"Teens\", \"Adults\"])\n",
    "\n",
    "All_Ratings_Complete_Df"
   ]
  },
  {
   "cell_type": "code",
   "execution_count": 90,
   "id": "6dce6962",
   "metadata": {},
   "outputs": [
    {
     "data": {
      "text/plain": [
       "<Axes: >"
      ]
     },
     "execution_count": 90,
     "metadata": {},
     "output_type": "execute_result"
    },
    {
     "data": {
      "image/png": "[encoded data removed]",
      "text/plain": [
       "<Figure size 640x480 with 1 Axes>"
      ]
     },
     "metadata": {},
     "output_type": "display_data"
    }
   ],
   "source": [
    "All_Ratings_Bar = pd.DataFrame (\n",
    "    {\"Netflix\": [AllAges_Rating_Netflix, Kids_Rating_Netflix, Teens_Rating_Netflix, Adults_Rating_Netflix],\n",
    "     \"Hulu\": [AllAges_Rating_Hulu, Kids_Rating_Hulu, Teens_Rating_Hulu, Adults_Rating_Hulu],\n",
    "     \"Amazon\": [AllAges_Rating_Amazon, Kids_Rating_Amazon, Teens_Rating_Amazon, Adults_Rating_Amazon],\n",
    "     \"Disney\": [AllAges_Rating_Disney, Kids_Rating_Disney, Teens_Rating_Disney, Adults_Rating_Disney]},\n",
    "index=[\"All Ages\", \"Kids\", \"Teens\", \"Adults\"])\n",
    "\n",
    "All_Ratings_Bar.plot(kind=\"bar\")"
   ]
  },
  {
   "cell_type": "code",
   "execution_count": null,
   "id": "86964591",
   "metadata": {},
   "outputs": [],
   "source": []
  }
 ],
 "metadata": {
  "kernelspec": {
   "display_name": "Python 3 (ipykernel)",
   "language": "python",
   "name": "python3"
  },
  "language_info": {
   "codemirror_mode": {
    "name": "ipython",
    "version": 3
   },
   "file_extension": ".py",
   "mimetype": "text/x-python",
   "name": "python",
   "nbconvert_exporter": "python",
   "pygments_lexer": "ipython3",
   "version": "3.11.5"
  }
 },
 "nbformat": 4,
 "nbformat_minor": 5
}
