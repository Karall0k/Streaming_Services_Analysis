{
 "cells": [
  {
   "cell_type": "code",
   "execution_count": 1,
   "id": "b29b6fa5",
   "metadata": {},
   "outputs": [],
   "source": [
    "import os\n",
    "import pandas as pd\n",
    "import matplotlib.pyplot as plt\n",
    "from pathlib import Path\n"
   ]
  },
  {
   "cell_type": "code",
   "execution_count": 2,
   "id": "509a54d7",
   "metadata": {},
   "outputs": [],
   "source": [
    "netflix = Path(\"Resources/netflix_data.csv\")\n",
    "hulu = Path(\"Resources/hulu_data.csv\")\n",
    "amazon = Path(\"Resources/amazon_data.csv\")\n",
    "disney=Path(\"Resources/disney_data.csv\")\n",
    "\n",
    "netflix_df =pd.read_csv(netflix)\n",
    "hulu_df =pd.read_csv(hulu)\n",
    "amazon_df =pd.read_csv(amazon)\n",
    "disney_df =pd.read_csv(disney)"
   ]
  },
  {
   "cell_type": "code",
   "execution_count": 3,
   "id": "ce402b17",
   "metadata": {},
   "outputs": [],
   "source": [
    "netflix_df['streaming_service'] = 'Netflix'\n",
    "hulu_df['streaming_service'] = 'Hulu'\n",
    "amazon_df['streaming_service'] = 'Amazon'\n",
    "disney_df['streaming_service'] = 'Disney'\n"
   ]
  },
  {
   "cell_type": "code",
   "execution_count": 8,
   "id": "a9c5116d",
   "metadata": {},
   "outputs": [],
   "source": [
    "combined_df = pd.concat([netflix_df, hulu_df, amazon_df, disney_df], axis=0)"
   ]
  },
  {
   "cell_type": "code",
   "execution_count": 9,
   "id": "aa99b02a",
   "metadata": {},
   "outputs": [
    {
     "data": {
      "text/html": [
       "<div>\n",
       "<style scoped>\n",
       "    .dataframe tbody tr th:only-of-type {\n",
       "        vertical-align: middle;\n",
       "    }\n",
       "\n",
       "    .dataframe tbody tr th {\n",
       "        vertical-align: top;\n",
       "    }\n",
       "\n",
       "    .dataframe thead th {\n",
       "        text-align: right;\n",
       "    }\n",
       "</style>\n",
       "<table border=\"1\" class=\"dataframe\">\n",
       "  <thead>\n",
       "    <tr style=\"text-align: right;\">\n",
       "      <th></th>\n",
       "      <th>show_id</th>\n",
       "      <th>type</th>\n",
       "      <th>title</th>\n",
       "      <th>director</th>\n",
       "      <th>cast</th>\n",
       "      <th>country</th>\n",
       "      <th>date_added</th>\n",
       "      <th>release_year</th>\n",
       "      <th>rating</th>\n",
       "      <th>duration</th>\n",
       "      <th>listed_in</th>\n",
       "      <th>description</th>\n",
       "      <th>streaming_service</th>\n",
       "    </tr>\n",
       "  </thead>\n",
       "  <tbody>\n",
       "    <tr>\n",
       "      <th>0</th>\n",
       "      <td>s1</td>\n",
       "      <td>Movie</td>\n",
       "      <td>Dick Johnson Is Dead</td>\n",
       "      <td>Kirsten Johnson</td>\n",
       "      <td>NaN</td>\n",
       "      <td>United States</td>\n",
       "      <td>September 25, 2021</td>\n",
       "      <td>2020</td>\n",
       "      <td>PG-13</td>\n",
       "      <td>90 min</td>\n",
       "      <td>Documentaries</td>\n",
       "      <td>As her father nears the end of his life, filmm...</td>\n",
       "      <td>Netflix</td>\n",
       "    </tr>\n",
       "    <tr>\n",
       "      <th>1</th>\n",
       "      <td>s2</td>\n",
       "      <td>TV Show</td>\n",
       "      <td>Blood &amp; Water</td>\n",
       "      <td>NaN</td>\n",
       "      <td>Ama Qamata, Khosi Ngema, Gail Mabalane, Thaban...</td>\n",
       "      <td>South Africa</td>\n",
       "      <td>September 24, 2021</td>\n",
       "      <td>2021</td>\n",
       "      <td>TV-MA</td>\n",
       "      <td>2 Seasons</td>\n",
       "      <td>International TV Shows, TV Dramas, TV Mysteries</td>\n",
       "      <td>After crossing paths at a party, a Cape Town t...</td>\n",
       "      <td>Netflix</td>\n",
       "    </tr>\n",
       "    <tr>\n",
       "      <th>2</th>\n",
       "      <td>s3</td>\n",
       "      <td>TV Show</td>\n",
       "      <td>Ganglands</td>\n",
       "      <td>Julien Leclercq</td>\n",
       "      <td>Sami Bouajila, Tracy Gotoas, Samuel Jouy, Nabi...</td>\n",
       "      <td>NaN</td>\n",
       "      <td>September 24, 2021</td>\n",
       "      <td>2021</td>\n",
       "      <td>TV-MA</td>\n",
       "      <td>1 Season</td>\n",
       "      <td>Crime TV Shows, International TV Shows, TV Act...</td>\n",
       "      <td>To protect his family from a powerful drug lor...</td>\n",
       "      <td>Netflix</td>\n",
       "    </tr>\n",
       "    <tr>\n",
       "      <th>3</th>\n",
       "      <td>s4</td>\n",
       "      <td>TV Show</td>\n",
       "      <td>Jailbirds New Orleans</td>\n",
       "      <td>NaN</td>\n",
       "      <td>NaN</td>\n",
       "      <td>NaN</td>\n",
       "      <td>September 24, 2021</td>\n",
       "      <td>2021</td>\n",
       "      <td>TV-MA</td>\n",
       "      <td>1 Season</td>\n",
       "      <td>Docuseries, Reality TV</td>\n",
       "      <td>Feuds, flirtations and toilet talk go down amo...</td>\n",
       "      <td>Netflix</td>\n",
       "    </tr>\n",
       "    <tr>\n",
       "      <th>4</th>\n",
       "      <td>s5</td>\n",
       "      <td>TV Show</td>\n",
       "      <td>Kota Factory</td>\n",
       "      <td>NaN</td>\n",
       "      <td>Mayur More, Jitendra Kumar, Ranjan Raj, Alam K...</td>\n",
       "      <td>India</td>\n",
       "      <td>September 24, 2021</td>\n",
       "      <td>2021</td>\n",
       "      <td>TV-MA</td>\n",
       "      <td>2 Seasons</td>\n",
       "      <td>International TV Shows, Romantic TV Shows, TV ...</td>\n",
       "      <td>In a city of coaching centers known to train I...</td>\n",
       "      <td>Netflix</td>\n",
       "    </tr>\n",
       "  </tbody>\n",
       "</table>\n",
       "</div>"
      ],
      "text/plain": [
       "  show_id     type                  title         director  \\\n",
       "0      s1    Movie   Dick Johnson Is Dead  Kirsten Johnson   \n",
       "1      s2  TV Show          Blood & Water              NaN   \n",
       "2      s3  TV Show              Ganglands  Julien Leclercq   \n",
       "3      s4  TV Show  Jailbirds New Orleans              NaN   \n",
       "4      s5  TV Show           Kota Factory              NaN   \n",
       "\n",
       "                                                cast        country  \\\n",
       "0                                                NaN  United States   \n",
       "1  Ama Qamata, Khosi Ngema, Gail Mabalane, Thaban...   South Africa   \n",
       "2  Sami Bouajila, Tracy Gotoas, Samuel Jouy, Nabi...            NaN   \n",
       "3                                                NaN            NaN   \n",
       "4  Mayur More, Jitendra Kumar, Ranjan Raj, Alam K...          India   \n",
       "\n",
       "           date_added  release_year rating   duration  \\\n",
       "0  September 25, 2021          2020  PG-13     90 min   \n",
       "1  September 24, 2021          2021  TV-MA  2 Seasons   \n",
       "2  September 24, 2021          2021  TV-MA   1 Season   \n",
       "3  September 24, 2021          2021  TV-MA   1 Season   \n",
       "4  September 24, 2021          2021  TV-MA  2 Seasons   \n",
       "\n",
       "                                           listed_in  \\\n",
       "0                                      Documentaries   \n",
       "1    International TV Shows, TV Dramas, TV Mysteries   \n",
       "2  Crime TV Shows, International TV Shows, TV Act...   \n",
       "3                             Docuseries, Reality TV   \n",
       "4  International TV Shows, Romantic TV Shows, TV ...   \n",
       "\n",
       "                                         description streaming_service  \n",
       "0  As her father nears the end of his life, filmm...           Netflix  \n",
       "1  After crossing paths at a party, a Cape Town t...           Netflix  \n",
       "2  To protect his family from a powerful drug lor...           Netflix  \n",
       "3  Feuds, flirtations and toilet talk go down amo...           Netflix  \n",
       "4  In a city of coaching centers known to train I...           Netflix  "
      ]
     },
     "execution_count": 9,
     "metadata": {},
     "output_type": "execute_result"
    }
   ],
   "source": [
    "combined_df.head()"
   ]
  },
  {
   "cell_type": "code",
   "execution_count": 10,
   "id": "75c111fa",
   "metadata": {},
   "outputs": [
    {
     "name": "stdout",
     "output_type": "stream",
     "text": [
      "     show_id     type                                           title  \\\n",
      "0         s1    Movie                            Dick Johnson Is Dead   \n",
      "1         s2  TV Show                                   Blood & Water   \n",
      "2         s3  TV Show                                       Ganglands   \n",
      "3         s4  TV Show                           Jailbirds New Orleans   \n",
      "4         s5  TV Show                                    Kota Factory   \n",
      "...      ...      ...                                             ...   \n",
      "1445   s1446    Movie                        X-Men Origins: Wolverine   \n",
      "1446   s1447    Movie  Night at the Museum: Battle of the Smithsonian   \n",
      "1447   s1448    Movie                                 Eddie the Eagle   \n",
      "1448   s1449    Movie                            Bend It Like Beckham   \n",
      "1449   s1450    Movie           Captain Sparky vs. The Flying Saucers   \n",
      "\n",
      "             director                                               cast  \\\n",
      "0     Kirsten Johnson                                                NaN   \n",
      "1                 NaN  Ama Qamata, Khosi Ngema, Gail Mabalane, Thaban...   \n",
      "2     Julien Leclercq  Sami Bouajila, Tracy Gotoas, Samuel Jouy, Nabi...   \n",
      "3                 NaN                                                NaN   \n",
      "4                 NaN  Mayur More, Jitendra Kumar, Ranjan Raj, Alam K...   \n",
      "...               ...                                                ...   \n",
      "1445       Gavin Hood  Hugh Jackman, Liev Schreiber, Danny Huston, wi...   \n",
      "1446       Shawn Levy  Ben Stiller, Amy Adams, Owen Wilson, Hank Azar...   \n",
      "1447  Dexter Fletcher  Tom Costello, Jo Hartley, Keith Allen, Dickon ...   \n",
      "1448  Gurinder Chadha  Parminder Nagra, Keira Knightley, Jonathan Rhy...   \n",
      "1449      Mark Waring                                      Charlie Tahan   \n",
      "\n",
      "                                     country          date_added  \\\n",
      "0                              United States  September 25, 2021   \n",
      "1                               South Africa  September 24, 2021   \n",
      "2                                        NaN  September 24, 2021   \n",
      "3                                        NaN  September 24, 2021   \n",
      "4                                      India  September 24, 2021   \n",
      "...                                      ...                 ...   \n",
      "1445           United States, United Kingdom        June 4, 2021   \n",
      "1446                   United States, Canada       April 2, 2021   \n",
      "1447  United Kingdom, Germany, United States   December 18, 2020   \n",
      "1448  United Kingdom, Germany, United States  September 18, 2020   \n",
      "1449                           United States       April 1, 2020   \n",
      "\n",
      "      release_year rating   duration  \\\n",
      "0             2020  PG-13     90 min   \n",
      "1             2021  TV-MA  2 Seasons   \n",
      "2             2021  TV-MA   1 Season   \n",
      "3             2021  TV-MA   1 Season   \n",
      "4             2021  TV-MA  2 Seasons   \n",
      "...            ...    ...        ...   \n",
      "1445          2009  PG-13    108 min   \n",
      "1446          2009     PG    106 min   \n",
      "1447          2016  PG-13    107 min   \n",
      "1448          2003  PG-13    112 min   \n",
      "1449          2012   TV-G      2 min   \n",
      "\n",
      "                                              listed_in  \\\n",
      "0                                         Documentaries   \n",
      "1       International TV Shows, TV Dramas, TV Mysteries   \n",
      "2     Crime TV Shows, International TV Shows, TV Act...   \n",
      "3                                Docuseries, Reality TV   \n",
      "4     International TV Shows, Romantic TV Shows, TV ...   \n",
      "...                                                 ...   \n",
      "1445          Action-Adventure, Family, Science Fiction   \n",
      "1446                   Action-Adventure, Comedy, Family   \n",
      "1447                        Biographical, Comedy, Drama   \n",
      "1448                       Buddy, Comedy, Coming of Age   \n",
      "1449      Action-Adventure, Animals & Nature, Animation   \n",
      "\n",
      "                                            description streaming_service  \n",
      "0     As her father nears the end of his life, filmm...           Netflix  \n",
      "1     After crossing paths at a party, a Cape Town t...           Netflix  \n",
      "2     To protect his family from a powerful drug lor...           Netflix  \n",
      "3     Feuds, flirtations and toilet talk go down amo...           Netflix  \n",
      "4     In a city of coaching centers known to train I...           Netflix  \n",
      "...                                                 ...               ...  \n",
      "1445  Wolverine unites with legendary X-Men to fight...            Disney  \n",
      "1446  Larry Daley returns to rescue some old friends...            Disney  \n",
      "1447  True story of Eddie Edwards, a British ski-jum...            Disney  \n",
      "1448  Despite the wishes of their traditional famili...            Disney  \n",
      "1449         View one of Sparky's favorite home movies.            Disney  \n",
      "\n",
      "[22998 rows x 13 columns]\n"
     ]
    }
   ],
   "source": [
    "print(combined_df)"
   ]
  },
  {
   "cell_type": "code",
   "execution_count": 11,
   "id": "3056ed14",
   "metadata": {},
   "outputs": [
    {
     "name": "stdout",
     "output_type": "stream",
     "text": [
      "streaming_service\n",
      "Amazon     9668\n",
      "Netflix    8807\n",
      "Hulu       3073\n",
      "Disney     1450\n",
      "Name: count, dtype: int64\n"
     ]
    }
   ],
   "source": [
    "counts = combined_df['streaming_service'].value_counts()\n",
    "\n",
    "print(counts)"
   ]
  },
  {
   "cell_type": "code",
   "execution_count": 12,
   "id": "970c050a",
   "metadata": {},
   "outputs": [
    {
     "name": "stdout",
     "output_type": "stream",
     "text": [
      "type\n",
      "Movie      16481\n",
      "TV Show     6517\n",
      "Name: count, dtype: int64\n"
     ]
    }
   ],
   "source": [
    "count_show_movies = combined_df['type'].value_counts()\n",
    "print(count_show_movies)"
   ]
  },
  {
   "cell_type": "code",
   "execution_count": 13,
   "id": "1037af38",
   "metadata": {
    "scrolled": true
   },
   "outputs": [
    {
     "name": "stdout",
     "output_type": "stream",
     "text": [
      "director\n",
      "Mark Knight                  113\n",
      "Cannis Holder                 61\n",
      "Jay Chapman                   46\n",
      "Moonbug Entertainment         37\n",
      "Arthur van Merwijk            30\n",
      "                            ... \n",
      "Eric Khoo                      1\n",
      "Phil Johnston, Rich Moore      1\n",
      "Ding Sheng                     1\n",
      "Jeremy Coon, Tim Skousen       1\n",
      "Mark Waring                    1\n",
      "Name: count, Length: 10105, dtype: int64\n"
     ]
    }
   ],
   "source": [
    "print(director)"
   ]
  },
  {
   "cell_type": "code",
   "execution_count": 15,
   "id": "9cf3425e",
   "metadata": {
    "scrolled": true
   },
   "outputs": [
    {
     "name": "stdout",
     "output_type": "stream",
     "text": [
      "rating\n",
      "TV-MA      3675\n",
      "TV-14      3138\n",
      "R          2154\n",
      "13+        2117\n",
      "TV-PG      1654\n",
      "           ... \n",
      "115 min       1\n",
      "61 min        1\n",
      "28 min        1\n",
      "64 min        1\n",
      "157 min       1\n",
      "Name: count, Length: 105, dtype: int64\n"
     ]
    }
   ],
   "source": [
    "rating = combined_df['rating'].value_counts()\n",
    "print(rating)"
   ]
  },
  {
   "cell_type": "code",
   "execution_count": null,
   "id": "103dd8a8",
   "metadata": {},
   "outputs": [],
   "source": []
  }
 ],
 "metadata": {
  "kernelspec": {
   "display_name": "Python 3 (ipykernel)",
   "language": "python",
   "name": "python3"
  },
  "language_info": {
   "codemirror_mode": {
    "name": "ipython",
    "version": 3
   },
   "file_extension": ".py",
   "mimetype": "text/x-python",
   "name": "python",
   "nbconvert_exporter": "python",
   "pygments_lexer": "ipython3",
   "version": "3.11.5"
  }
 },
 "nbformat": 4,
 "nbformat_minor": 5
}
